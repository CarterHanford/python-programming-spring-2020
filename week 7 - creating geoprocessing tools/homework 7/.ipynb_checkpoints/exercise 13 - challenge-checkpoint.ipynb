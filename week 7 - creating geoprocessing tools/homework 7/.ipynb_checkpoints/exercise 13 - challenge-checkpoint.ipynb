{
 "cells": [
  {
   "cell_type": "code",
   "execution_count": 1,
   "metadata": {},
   "outputs": [
    {
     "data": {
      "text/plain": [
       "<Result 'C:\\\\Users\\\\Carter\\\\Documents\\\\GitHub\\\\python-programming-spring-2020\\\\week 7 - creating geoprocessing tools\\\\data\\\\Exercise13\\\\Results\\\\random.shp'>"
      ]
     },
     "execution_count": 1,
     "metadata": {},
     "output_type": "execute_result"
    }
   ],
   "source": [
    "# Original Script\n",
    "\n",
    "import arcpy\n",
    "import random\n",
    "from arcpy import env\n",
    "env.overwriteoutput = True\n",
    "\n",
    "inputfc = r'C:\\Users\\Carter\\Documents\\GitHub\\python-programming-spring-2020\\week 7 - creating geoprocessing tools\\data\\Exercise13\\points.shp'\n",
    "outputfc = r'C:\\Users\\Carter\\Documents\\GitHub\\python-programming-spring-2020\\week 7 - creating geoprocessing tools\\data\\Exercise13\\Results\\random.shp'\n",
    "outcount = 50\n",
    "\n",
    "desc = arcpy.Describe(inputfc)\n",
    "inlist = []\n",
    "randomlist = []\n",
    "fldname = desc.OIDFieldName\n",
    "rows = arcpy.SearchCursor(inputfc)\n",
    "row = rows.next()\n",
    "\n",
    "while row:\n",
    "    id = row.getValue(fldname)\n",
    "    inlist.append(id)\n",
    "    row = rows.next()\n",
    "while len(randomlist) < outcount:\n",
    "    selitem = random.choice(inlist)\n",
    "    randomlist.append(selitem)\n",
    "    inlist.remove(selitem)\n",
    "length = len(str(randomlist))\n",
    "sqlexp = '\"' + fldname + '\"' + \" in \" + \"(\" + str(randomlist)[1:length - 1] + \")\"\n",
    "arcpy.MakeFeatureLayer_management(inputfc, \"selection\", sqlexp)\n",
    "arcpy.CopyFeatures_management(\"selection\", outputfc)"
   ]
  },
  {
   "cell_type": "code",
   "execution_count": null,
   "metadata": {},
   "outputs": [],
   "source": [
    "# Challenge 1 Script\n",
    "\n",
    "import arcpy\n",
    "import random\n",
    "from arcpy import env\n",
    "env.overwriteoutput = True\n",
    "\n",
    "inputfc = arcpy.GetParameterAsText(0) \n",
    "outputfc = arcpy.GetParameterAsText(1) \n",
    "outcount = int(arcpy.GetParameterAsText(2))\n",
    "\n",
    "desc = arcpy.Describe(inputfc)\n",
    "inlist = []\n",
    "randomlist = []\n",
    "fldname = desc.OIDFieldName\n",
    "rows = arcpy.SearchCursor(inputfc)\n",
    "row = rows.next()\n",
    "\n",
    "while row:\n",
    "    id = row.getValue(fldname)\n",
    "    inlist.append(id)\n",
    "    row = rows.next()\n",
    "while len(randomlist) < outcount:\n",
    "    selitem = random.choice(inlist)\n",
    "    randomlist.append(selitem)\n",
    "    inlist.remove(selitem)\n",
    "length = len(str(randomlist))\n",
    "sqlexp = '\"' + fldname + '\"' + \" in \" + \"(\" + int(randomlist)[1:length - 1] + \")\"\n",
    "arcpy.MakeFeatureLayer_management(inputfc, \"selection\", sqlexp)\n",
    "arcpy.CopyFeatures_management(\"selection\", outputfc)"
   ]
  }
 ],
 "metadata": {
  "kernelspec": {
   "display_name": "Python 3",
   "language": "python",
   "name": "python3"
  },
  "language_info": {
   "codemirror_mode": {
    "name": "ipython",
    "version": 3
   },
   "file_extension": ".py",
   "mimetype": "text/x-python",
   "name": "python",
   "nbconvert_exporter": "python",
   "pygments_lexer": "ipython3",
   "version": "3.6.9"
  }
 },
 "nbformat": 4,
 "nbformat_minor": 2
}
