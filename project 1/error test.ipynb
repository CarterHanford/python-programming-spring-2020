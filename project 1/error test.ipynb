{
 "cells": [
  {
   "cell_type": "markdown",
   "metadata": {},
   "source": [
    "## Spatial Reference Error\n",
    "Carter Hanford"
   ]
  },
  {
   "cell_type": "code",
   "execution_count": null,
   "metadata": {},
   "outputs": [],
   "source": [
    "import arcpy\n",
    "\n",
    "# set workspace\n",
    "rasters = r'C:\\Users\\hanfordca\\Documents\\GitHub\\python-programming-spring-2020\\project 1\\data\\imagery'\n",
    "desc_features = arcpy.Describe(rasters)\n",
    "arcpy.env.workspace = rasters\n",
    "\n",
    "FileList= arcpy.ListRasters()\n",
    "\n",
    "for File in FileList:\n",
    "    desc = arcpy.Describe(rasters)\n",
    "    SR = desc.SpatialReference\n",
    "    print (File + \" is projected \" + str(SR.name))"
   ]
  },
  {
   "cell_type": "code",
   "execution_count": null,
   "metadata": {},
   "outputs": [],
   "source": []
  }
 ],
 "metadata": {
  "kernelspec": {
   "display_name": "Python 3",
   "language": "python",
   "name": "python3"
  },
  "language_info": {
   "codemirror_mode": {
    "name": "ipython",
    "version": 3
   },
   "file_extension": ".py",
   "mimetype": "text/x-python",
   "name": "python",
   "nbconvert_exporter": "python",
   "pygments_lexer": "ipython3",
   "version": "3.6.6"
  }
 },
 "nbformat": 4,
 "nbformat_minor": 2
}
