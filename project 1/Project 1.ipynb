{
 "cells": [
  {
   "cell_type": "markdown",
   "metadata": {},
   "source": [
    "# Project 1 - GIS5090\n",
    "## Introduction to Python Programming for GIS and Remote Sensing\n",
    "### Carter Hanford - 2/19/2020"
   ]
  },
  {
   "cell_type": "markdown",
   "metadata": {},
   "source": [
    "## Problem 1\n",
    "Problem 1 asks us to examine the `imagery.zip` folder downloaded from blackboard and answer a few questions:\n",
    "\n",
    "`1) - How many rasters are in the folder?`\n",
    "`2) - What is the projection of the rasters?`\n",
    "`3) - Do all the rasters have the same projection?`\n",
    "`4) - How many bands do the rasters have?`\n",
    "`5) - What is the raster format?` "
   ]
  },
  {
   "cell_type": "markdown",
   "metadata": {},
   "source": [
    "### Question 1"
   ]
  },
  {
   "cell_type": "code",
   "execution_count": 2,
   "metadata": {},
   "outputs": [
    {
     "name": "stdout",
     "output_type": "stream",
     "text": [
      "True\n",
      "There are 116 rasters in this folder.\n"
     ]
    }
   ],
   "source": [
    "import arcpy\n",
    "\n",
    "# check folder connection\n",
    "raster_exists = arcpy.Exists(r'C:\\Users\\hanfordca\\Documents\\GitHub\\python-programming-spring-2020\\project 1\\data\\imagery')\n",
    "print(raster_exists)\n",
    "\n",
    "# set workspace and raster functions\n",
    "imagery_folder = r'C:\\Users\\hanfordca\\Documents\\GitHub\\python-programming-spring-2020\\project 1\\data\\imagery'\n",
    "arcpy.env.workspace = imagery_folder\n",
    "imagery = arcpy.ListRasters()\n",
    "\n",
    "# print raster count\n",
    "print(\"There are \" + str(len(imagery)) + \" rasters in this folder.\")"
   ]
  },
  {
   "cell_type": "markdown",
   "metadata": {},
   "source": [
    "### Question 2"
   ]
  },
  {
   "cell_type": "code",
   "execution_count": 7,
   "metadata": {},
   "outputs": [
    {
     "ename": "RuntimeError",
     "evalue": "ERROR 999999: Something unexpected caused the tool to fail. Contact Esri Technical Support (http://esriurl.com/support) to Report a Bug, and refer to the error help for potential solutions or workarounds.",
     "output_type": "error",
     "traceback": [
      "\u001b[1;31m---------------------------------------------------------------------------\u001b[0m",
      "\u001b[1;31mRuntimeError\u001b[0m                              Traceback (most recent call last)",
      "\u001b[1;32m<ipython-input-7-661eabd23676>\u001b[0m in \u001b[0;36m<module>\u001b[1;34m()\u001b[0m\n\u001b[0;32m      5\u001b[0m \u001b[0mdesc_features\u001b[0m \u001b[1;33m=\u001b[0m \u001b[0marcpy\u001b[0m\u001b[1;33m.\u001b[0m\u001b[0mDescribe\u001b[0m\u001b[1;33m(\u001b[0m\u001b[0mrasters\u001b[0m\u001b[1;33m)\u001b[0m\u001b[1;33m\u001b[0m\u001b[0m\n\u001b[0;32m      6\u001b[0m \u001b[1;33m\u001b[0m\u001b[0m\n\u001b[1;32m----> 7\u001b[1;33m \u001b[0marcpy\u001b[0m\u001b[1;33m.\u001b[0m\u001b[0mSpatialReference\u001b[0m\u001b[1;33m(\u001b[0m\u001b[0mdesc_features\u001b[0m\u001b[1;33m)\u001b[0m\u001b[1;33m\u001b[0m\u001b[0m\n\u001b[0m",
      "\u001b[1;32mC:\\Program Files\\ArcGIS\\Pro\\Resources\\ArcPy\\arcpy\\arcobjects\\mixins.py\u001b[0m in \u001b[0;36m__init__\u001b[1;34m(self, item, vcs, text)\u001b[0m\n\u001b[0;32m    940\u001b[0m         \u001b[0m_BaseArcObject\u001b[0m\u001b[1;33m.\u001b[0m\u001b[0m__init__\u001b[0m\u001b[1;33m(\u001b[0m\u001b[0mself\u001b[0m\u001b[1;33m)\u001b[0m\u001b[1;33m\u001b[0m\u001b[0m\n\u001b[0;32m    941\u001b[0m         \u001b[1;32mif\u001b[0m \u001b[0mitem\u001b[0m\u001b[1;33m:\u001b[0m\u001b[1;33m\u001b[0m\u001b[0m\n\u001b[1;32m--> 942\u001b[1;33m             \u001b[0mself\u001b[0m\u001b[1;33m.\u001b[0m\u001b[0m_arc_object\u001b[0m\u001b[1;33m.\u001b[0m\u001b[0mcreateFromFile\u001b[0m\u001b[1;33m(\u001b[0m\u001b[0mitem\u001b[0m\u001b[1;33m,\u001b[0m \u001b[0mvcs\u001b[0m\u001b[1;33m)\u001b[0m\u001b[1;33m\u001b[0m\u001b[0m\n\u001b[0m\u001b[0;32m    943\u001b[0m         \u001b[1;32melif\u001b[0m \u001b[0mtext\u001b[0m\u001b[1;33m:\u001b[0m\u001b[1;33m\u001b[0m\u001b[0m\n\u001b[0;32m    944\u001b[0m             \u001b[0mself\u001b[0m\u001b[1;33m.\u001b[0m\u001b[0m_arc_object\u001b[0m\u001b[1;33m.\u001b[0m\u001b[0mloadFromString\u001b[0m\u001b[1;33m(\u001b[0m\u001b[0mtext\u001b[0m\u001b[1;33m)\u001b[0m\u001b[1;33m\u001b[0m\u001b[0m\n",
      "\u001b[1;31mRuntimeError\u001b[0m: ERROR 999999: Something unexpected caused the tool to fail. Contact Esri Technical Support (http://esriurl.com/support) to Report a Bug, and refer to the error help for potential solutions or workarounds."
     ]
    }
   ],
   "source": [
    "import arcpy\n",
    "\n",
    "# set workspace\n",
    "rasters = r'C:\\Users\\hanfordca\\Documents\\GitHub\\python-programming-spring-2020\\project 1\\data\\imagery'\n",
    "desc_features = arcpy.Describe(rasters)\n",
    "\n",
    "arcpy.SpatialReference(desc_features)"
   ]
  },
  {
   "cell_type": "code",
   "execution_count": null,
   "metadata": {},
   "outputs": [],
   "source": []
  },
  {
   "cell_type": "markdown",
   "metadata": {},
   "source": [
    "## Problem 2\n",
    "Problem 2 asks us to examine the us schools gdb. In this problem, we'll create a report about the features in the geodatabase, including feature class names, number of features within the feature class, projection of the feature class, and shape type of the feature class."
   ]
  },
  {
   "cell_type": "markdown",
   "metadata": {},
   "source": [
    "### Feature Class Name:"
   ]
  },
  {
   "cell_type": "code",
   "execution_count": 8,
   "metadata": {},
   "outputs": [
    {
     "name": "stdout",
     "output_type": "stream",
     "text": [
      "['School_District_Unified', 'School_District_Secondary', 'School_District_Elementary', 'State']\n"
     ]
    }
   ],
   "source": [
    "import arcpy\n",
    "\n",
    "# list feature classes\n",
    "schools = r'C:\\Users\\hanfordca\\Documents\\GitHub\\python-programming-spring-2020\\project 1\\data\\tlgdb_2019_a_us_school.gdb'\n",
    "arcpy.env.workspace = schools\n",
    "schools_fcs = arcpy.ListFeatureClasses()\n",
    "print(schools_fcs)"
   ]
  },
  {
   "cell_type": "markdown",
   "metadata": {},
   "source": [
    "There are 4 feature classes in this geodatabase."
   ]
  },
  {
   "cell_type": "markdown",
   "metadata": {},
   "source": [
    "### Number of Features in the Feature Class / Shape Type of the Feature Class:\n",
    "The code below answers sections 2 and 4 of the problem by identifying how many features are in each feature class and listing the shape of each feature class within the same for loop."
   ]
  },
  {
   "cell_type": "code",
   "execution_count": 15,
   "metadata": {},
   "outputs": [
    {
     "name": "stdout",
     "output_type": "stream",
     "text": [
      "School_District_Unified has 10887 Polygon's in it.\n",
      "School_District_Secondary has 482 Polygon's in it.\n",
      "School_District_Elementary has 1946 Polygon's in it.\n",
      "State has 56 Polygon's in it.\n"
     ]
    }
   ],
   "source": [
    "import arcpy\n",
    "import os\n",
    "\n",
    "# set workspace\n",
    "schools = r'C:\\Users\\hanfordca\\Documents\\GitHub\\python-programming-spring-2020\\project 1\\data\\tlgdb_2019_a_us_school.gdb'\n",
    "arcpy.env.workspace = schools\n",
    "\n",
    "# list feature classes\n",
    "schools_fcs = arcpy.ListFeatureClasses()\n",
    "\n",
    "# function to list all elements within a feature class\n",
    "for fc in schools_fcs:\n",
    "    fc_count = arcpy.GetCount_management(fc)\n",
    "    desc = arcpy.Describe(fc)\n",
    "    if fc_count == 0:\n",
    "        print(os.path.basename(fc) + \" has 0 features in it!\")\n",
    "    else:\n",
    "        print(os.path.basename(fc) + \" has \" + str(fc_count) + \" \" + desc.shapeType + \"'s in it.\")"
   ]
  },
  {
   "cell_type": "markdown",
   "metadata": {},
   "source": [
    "### Projection of the Feature Class:"
   ]
  },
  {
   "cell_type": "code",
   "execution_count": 24,
   "metadata": {},
   "outputs": [
    {
     "name": "stdout",
     "output_type": "stream",
     "text": [
      "School_District_Unified feature class has the projection: GCS_North_American_1983\n",
      "School_District_Secondary feature class has the projection: GCS_North_American_1983\n",
      "School_District_Elementary feature class has the projection: GCS_North_American_1983\n",
      "State feature class has the projection: GCS_North_American_1983\n"
     ]
    }
   ],
   "source": [
    "import arcpy\n",
    "import os\n",
    "\n",
    "# School District Unified Polygon Projection\n",
    "schools_du = r'C:\\Users\\hanfordca\\Documents\\GitHub\\python-programming-spring-2020\\project 1\\data\\tlgdb_2019_a_us_school.gdb\\School_District_Unified'\n",
    "desc_features_du = arcpy.Describe(schools_du)\n",
    "print(os.path.basename(schools_du) + \" feature class has the projection: \" + desc_features.SpatialReference.name)\n",
    "\n",
    "# School District Secondary Polygon Projection\n",
    "schools_ds = r'C:\\Users\\hanfordca\\Documents\\GitHub\\python-programming-spring-2020\\project 1\\data\\tlgdb_2019_a_us_school.gdb\\School_District_Secondary'\n",
    "desc_features_ds = arcpy.Describe(schools_ds)\n",
    "print(os.path.basename(schools_ds) + \" feature class has the projection: \" + desc_features.SpatialReference.name)\n",
    "\n",
    "# School District Elementary Polygon Projection\n",
    "schools_de = r'C:\\Users\\hanfordca\\Documents\\GitHub\\python-programming-spring-2020\\project 1\\data\\tlgdb_2019_a_us_school.gdb\\School_District_Elementary'\n",
    "desc_features_de = arcpy.Describe(schools_de)\n",
    "print(os.path.basename(schools_de) + \" feature class has the projection: \" + desc_features.SpatialReference.name)\n",
    "\n",
    "# State Polygon Projection\n",
    "state = r'C:\\Users\\hanfordca\\Documents\\GitHub\\python-programming-spring-2020\\project 1\\data\\tlgdb_2019_a_us_school.gdb\\State'\n",
    "desc_features_state = arcpy.Describe(state)\n",
    "print(os.path.basename(state) + \" feature class has the projection: \" + desc_features.SpatialReference.name)\n"
   ]
  },
  {
   "cell_type": "markdown",
   "metadata": {},
   "source": [
    "## Problem 3 \n",
    "Problem 3 asks us to work with the USA cities geodatabase and identify the largest cities in the United States, with populations greater thatn 1 million people. We'll also print a table with the largest cities and their corresponding populations according to the `cities` feature class.\n",
    "\n",
    "We'll use a search cursor to perform this analysis."
   ]
  },
  {
   "cell_type": "code",
   "execution_count": 40,
   "metadata": {},
   "outputs": [
    {
     "name": "stdout",
     "output_type": "stream",
     "text": [
      "C:\\Users\\hanfordca\\Documents\\GitHub\\python-programming-spring-2020\\project 1\\data\\usa_cities.gdb\\largest_cities\n",
      "['SHAPE@XY', 'NAME', 'POP2017']\n"
     ]
    },
    {
     "ename": "RuntimeError",
     "evalue": "A column was specified that does not exist.",
     "output_type": "error",
     "traceback": [
      "\u001b[1;31m---------------------------------------------------------------------------\u001b[0m",
      "\u001b[1;31mRuntimeError\u001b[0m                              Traceback (most recent call last)",
      "\u001b[1;32m<ipython-input-40-74feaa17ff9e>\u001b[0m in \u001b[0;36m<module>\u001b[1;34m()\u001b[0m\n\u001b[0;32m     12\u001b[0m \u001b[1;33m\u001b[0m\u001b[0m\n\u001b[0;32m     13\u001b[0m \u001b[1;32mwith\u001b[0m \u001b[0marcpy\u001b[0m\u001b[1;33m.\u001b[0m\u001b[0mda\u001b[0m\u001b[1;33m.\u001b[0m\u001b[0mSearchCursor\u001b[0m\u001b[1;33m(\u001b[0m\u001b[0mfc\u001b[0m\u001b[1;33m,\u001b[0m \u001b[0mfields\u001b[0m\u001b[1;33m)\u001b[0m \u001b[1;32mas\u001b[0m \u001b[0mcursor\u001b[0m\u001b[1;33m:\u001b[0m\u001b[1;33m\u001b[0m\u001b[0m\n\u001b[1;32m---> 14\u001b[1;33m     \u001b[1;32mfor\u001b[0m \u001b[0mrow\u001b[0m \u001b[1;32min\u001b[0m \u001b[0mcursor\u001b[0m\u001b[1;33m:\u001b[0m\u001b[1;33m\u001b[0m\u001b[0m\n\u001b[0m\u001b[0;32m     15\u001b[0m         \u001b[1;31m#print row[0]\u001b[0m\u001b[1;33m\u001b[0m\u001b[1;33m\u001b[0m\u001b[0m\n\u001b[0;32m     16\u001b[0m         \u001b[1;32mif\u001b[0m \u001b[0mrow\u001b[0m\u001b[1;33m[\u001b[0m\u001b[1;36m2\u001b[0m\u001b[1;33m]\u001b[0m \u001b[1;33m>=\u001b[0m \u001b[1;36m1000000\u001b[0m\u001b[1;33m:\u001b[0m\u001b[1;33m\u001b[0m\u001b[0m\n",
      "\u001b[1;31mRuntimeError\u001b[0m: A column was specified that does not exist."
     ]
    }
   ],
   "source": [
    "import arcpy\n",
    "import os\n",
    "\n",
    "gdb = r'C:\\Users\\hanfordca\\Documents\\GitHub\\python-programming-spring-2020\\project 1\\data\\usa_cities.gdb'\n",
    "feature_class = 'largest_cities'\n",
    "\n",
    "fc = os.path.join(gdb, feature_class)\n",
    "print(fc)\n",
    "\n",
    "fields = ['SHAPE@XY', 'NAME', 'POP2017']\n",
    "\n",
    "with arcpy.da.SearchCursor(fc, fields) as cursor:\n",
    "    for row in cursor:\n",
    "        #print row[0]\n",
    "        if row[2] >= 1000000:\n",
    "            print(row[1])"
   ]
  },
  {
   "cell_type": "code",
   "execution_count": null,
   "metadata": {},
   "outputs": [],
   "source": []
  }
 ],
 "metadata": {
  "kernelspec": {
   "display_name": "Python 3",
   "language": "python",
   "name": "python3"
  },
  "language_info": {
   "codemirror_mode": {
    "name": "ipython",
    "version": 3
   },
   "file_extension": ".py",
   "mimetype": "text/x-python",
   "name": "python",
   "nbconvert_exporter": "python",
   "pygments_lexer": "ipython3",
   "version": "3.6.6"
  }
 },
 "nbformat": 4,
 "nbformat_minor": 2
}
