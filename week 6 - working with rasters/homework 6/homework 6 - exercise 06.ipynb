{
 "cells": [
  {
   "cell_type": "markdown",
   "metadata": {},
   "source": [
    "# Homework 6 - Exercise 06\n",
    "## GIS5090\n",
    "### Carter Hanford\n",
    "Homework 6 includes the walkthrough of exercise 06 from Zandbergen."
   ]
  },
  {
   "cell_type": "markdown",
   "metadata": {},
   "source": [
    "## Part 1 - listrasters.py"
   ]
  },
  {
   "cell_type": "code",
   "execution_count": 1,
   "metadata": {},
   "outputs": [
    {
     "name": "stdout",
     "output_type": "stream",
     "text": [
      "There are 3 rasters in this folder.\n"
     ]
    }
   ],
   "source": [
    "import arcpy\n",
    "\n",
    "# set workspace and raster functions\n",
    "rasters = r'C:\\Users\\hanfordca\\Documents\\GitHub\\python-programming-spring-2020\\week 6 - working with rasters\\data\\Exercise09'\n",
    "arcpy.env.workspace = rasters\n",
    "raster_folder = arcpy.ListRasters()\n",
    "\n",
    "# print raster count\n",
    "print(\"There are \" + str(len(raster_folder)) + \" rasters in this folder.\")"
   ]
  },
  {
   "cell_type": "code",
   "execution_count": 2,
   "metadata": {},
   "outputs": [
    {
     "name": "stdout",
     "output_type": "stream",
     "text": [
      "Elevation\n",
      "landcover.tif\n",
      "tm.img\n"
     ]
    }
   ],
   "source": [
    "for raster in raster_folder:\n",
    "    print(raster)"
   ]
  },
  {
   "cell_type": "markdown",
   "metadata": {},
   "source": [
    "## Part 2 - describerasters.py"
   ]
  },
  {
   "cell_type": "code",
   "execution_count": 12,
   "metadata": {},
   "outputs": [
    {
     "name": "stdout",
     "output_type": "stream",
     "text": [
      "raster base name is: tm\n",
      "raster data type is: RasterDataset\n",
      "raster file extension is: img\n",
      "raster spatial reference is: GCS_North_American_1983\n",
      "raster format is: IMAGINE Image\n",
      "raster compression type is: RLE\n",
      "raster number of bands is: 3\n"
     ]
    }
   ],
   "source": [
    "raster = \"tm.img\"\n",
    "desc = arcpy.Describe(raster)\n",
    "\n",
    "# basics\n",
    "print(\"raster base name is: \" + desc.basename)\n",
    "print(\"raster data type is: \" + desc.dataType)\n",
    "print(\"raster file extension is: \" + desc.extension)\n",
    "\n",
    "# more advanced descriptions\n",
    "print(\"raster spatial reference is: \" + desc.spatialReference.name)\n",
    "print(\"raster format is: \" + desc.format)\n",
    "print(\"raster compression type is: \" + desc.compressionType)\n",
    "print(\"raster number of bands is: \" + str(desc.bandCount))"
   ]
  },
  {
   "cell_type": "code",
   "execution_count": 13,
   "metadata": {},
   "outputs": [
    {
     "name": "stdout",
     "output_type": "stream",
     "text": [
      "The raster resolution is 30.0 by 30.0 Meter.\n"
     ]
    }
   ],
   "source": [
    "raster = \"landcover.tif\"\n",
    "desc = arcpy.Describe(raster)\n",
    "\n",
    "x = desc.meanCellHeight \n",
    "y = desc.meanCellWidth \n",
    "spatialref = desc.spatialReference\n",
    "units = spatialref.linearUnitName \n",
    "\n",
    "print (\"The raster resolution is \" + str(x) + \" by \" + str(y) + \" \" + units + \".\")"
   ]
  },
  {
   "cell_type": "code",
   "execution_count": 14,
   "metadata": {},
   "outputs": [
    {
     "name": "stdout",
     "output_type": "stream",
     "text": [
      "The raster resolution of Band 1 is 0.0002777779999999973 by 0.00027777799999999665 Degree.\n"
     ]
    }
   ],
   "source": [
    "rasterband = \"tm.img/Layer_1\"\n",
    "desc = arcpy.Describe(rasterband)\n",
    "\n",
    "x = desc.meanCellHeight \n",
    "y = desc.meanCellWidth \n",
    "spatialref = desc.spatialReference\n",
    "units = spatialref.angularUnitName \n",
    "\n",
    "print (\"The raster resolution of Band 1 is \" + str(x) + \" by \" + str(y) + \" \" + units + \".\")"
   ]
  },
  {
   "cell_type": "markdown",
   "metadata": {},
   "source": [
    "## Part 3 - geoprocessing using spatial analyst"
   ]
  },
  {
   "cell_type": "code",
   "execution_count": 15,
   "metadata": {},
   "outputs": [
    {
     "data": {
      "text/plain": [
       "'CheckedOut'"
      ]
     },
     "execution_count": 15,
     "metadata": {},
     "output_type": "execute_result"
    }
   ],
   "source": [
    "from arcpy.sa import *\n",
    "arcpy.CheckOutExtension(\"Spatial\")"
   ]
  },
  {
   "cell_type": "code",
   "execution_count": 17,
   "metadata": {},
   "outputs": [
    {
     "name": "stdout",
     "output_type": "stream",
     "text": [
      "False\n"
     ]
    }
   ],
   "source": [
    "outraster = arcpy.sa.Slope(\"elevation\")\n",
    "desc = arcpy.Describe(outraster)\n",
    "print(desc.permanent)"
   ]
  },
  {
   "cell_type": "code",
   "execution_count": 19,
   "metadata": {},
   "outputs": [
    {
     "name": "stdout",
     "output_type": "stream",
     "text": [
      "True\n"
     ]
    }
   ],
   "source": [
    "outraster.save(\"slope\")\n",
    "\n",
    "# check if save worked without opening Arcpy\n",
    "slope_exists = arcpy.Exists(r'C:\\Users\\hanfordca\\Documents\\GitHub\\python-programming-spring-2020\\week 6 - working with rasters\\data\\Exercise09')\n",
    "print(slope_exists)"
   ]
  },
  {
   "cell_type": "code",
   "execution_count": 22,
   "metadata": {},
   "outputs": [],
   "source": [
    "from arcpy.sa import *\n",
    "\n",
    "outraster2 = Aspect(\"elevation\")\n",
    "outraster2.save(\"aspect\")"
   ]
  },
  {
   "cell_type": "code",
   "execution_count": 23,
   "metadata": {},
   "outputs": [],
   "source": [
    "elevraster = arcpy.Raster(\"elevation\")\n",
    "outraster3 = elevraster * 3.281\n",
    "outraster3.save(\"elev_ft\")"
   ]
  },
  {
   "cell_type": "code",
   "execution_count": 24,
   "metadata": {},
   "outputs": [],
   "source": [
    "slope = Slope(elevraster)\n",
    "goodslope = slope < 20\n",
    "goodelev = elevraster < 2000\n",
    "goodfinal = goodslope & goodelev\n",
    "goodfinal.save(\"final\")"
   ]
  },
  {
   "cell_type": "markdown",
   "metadata": {},
   "source": [
    "## Part 4 - slope.py & reclass.py"
   ]
  },
  {
   "cell_type": "code",
   "execution_count": 25,
   "metadata": {},
   "outputs": [
    {
     "name": "stdout",
     "output_type": "stream",
     "text": [
      "True\n"
     ]
    }
   ],
   "source": [
    "if arcpy.CheckExtension(\"spatial\") == \"Available\":\n",
    "    arcpy.CheckOutExtension(\"spatial\")\n",
    "    outraster = arcpy.sa.Slope(\"elevation\", \"PERCENT_RISE\")\n",
    "    outraster.save(\"slope_per\")\n",
    "    arcpy.CheckInExtension(\"spatial\")\n",
    "    slope_exists = arcpy.Exists(r'C:\\Users\\hanfordca\\Documents\\GitHub\\python-programming-spring-2020\\week 6 - working with rasters\\data\\Exercise09\\slope_per')\n",
    "    print(slope_exists)\n",
    "else:\n",
    "    print(\"Spatial Analyst license is not available\")"
   ]
  },
  {
   "cell_type": "code",
   "execution_count": 27,
   "metadata": {},
   "outputs": [],
   "source": [
    "myremap = RemapRange([[1000,2000,1], [2000,3000,2], [3000,4000,3]])\n",
    "outreclass = Reclassify(\"elevation\", \"VALUE\", myremap)\n",
    "outreclass.save(\"elev_recl\")"
   ]
  },
  {
   "cell_type": "code",
   "execution_count": 28,
   "metadata": {},
   "outputs": [],
   "source": [
    "myremap = RemapValue([[41,1], [42,2], [43,3]]) \n",
    "outreclass = Reclassify(\"landcover.tif\", \"VALUE\", myremap, \"NODATA\") \n",
    "outreclass.save(\"lc_recl\")"
   ]
  },
  {
   "cell_type": "code",
   "execution_count": 29,
   "metadata": {},
   "outputs": [],
   "source": [
    "mynbr = NbrCircle(3, \"CELL\") \n",
    "outraster = FocalStatistics(\"landcover.tif\", mynbr, \"MAJORITY\") \n",
    "outraster.save(\"lc_nbr\")"
   ]
  },
  {
   "cell_type": "markdown",
   "metadata": {},
   "source": [
    "## Challenge 2 "
   ]
  },
  {
   "cell_type": "code",
   "execution_count": 31,
   "metadata": {},
   "outputs": [
    {
     "ename": "RuntimeError",
     "evalue": "Object: Error in executing tool",
     "output_type": "error",
     "traceback": [
      "\u001b[1;31m---------------------------------------------------------------------------\u001b[0m",
      "\u001b[1;31mRuntimeError\u001b[0m                              Traceback (most recent call last)",
      "\u001b[1;32m<ipython-input-31-ea5532fccf16>\u001b[0m in \u001b[0;36m<module>\u001b[1;34m()\u001b[0m\n\u001b[0;32m      8\u001b[0m \u001b[1;33m\u001b[0m\u001b[0m\n\u001b[0;32m      9\u001b[0m arcpy.CopyFeatures_management(input_features, \n\u001b[1;32m---> 10\u001b[1;33m                              r\"C:\\Users\\hanfordca\\Documents\\GitHub\\python-programming-spring-2020\\week 6 - working with rasters\\data\\Exercise09\\homework.gdb\")\n\u001b[0m",
      "\u001b[1;32mC:\\Program Files\\ArcGIS\\Pro\\Resources\\ArcPy\\arcpy\\management.py\u001b[0m in \u001b[0;36mCopyFeatures\u001b[1;34m(in_features, out_feature_class, config_keyword, spatial_grid_1, spatial_grid_2, spatial_grid_3)\u001b[0m\n\u001b[0;32m   2622\u001b[0m         \u001b[1;32mreturn\u001b[0m \u001b[0mretval\u001b[0m\u001b[1;33m\u001b[0m\u001b[0m\n\u001b[0;32m   2623\u001b[0m     \u001b[1;32mexcept\u001b[0m \u001b[0mException\u001b[0m \u001b[1;32mas\u001b[0m \u001b[0me\u001b[0m\u001b[1;33m:\u001b[0m\u001b[1;33m\u001b[0m\u001b[0m\n\u001b[1;32m-> 2624\u001b[1;33m         \u001b[1;32mraise\u001b[0m \u001b[0me\u001b[0m\u001b[1;33m\u001b[0m\u001b[0m\n\u001b[0m\u001b[0;32m   2625\u001b[0m \u001b[1;33m\u001b[0m\u001b[0m\n\u001b[0;32m   2626\u001b[0m \u001b[1;33m@\u001b[0m\u001b[0mgptooldoc\u001b[0m\u001b[1;33m(\u001b[0m\u001b[1;34m'DeleteFeatures_management'\u001b[0m\u001b[1;33m,\u001b[0m \u001b[1;32mNone\u001b[0m\u001b[1;33m)\u001b[0m\u001b[1;33m\u001b[0m\u001b[0m\n",
      "\u001b[1;32mC:\\Program Files\\ArcGIS\\Pro\\Resources\\ArcPy\\arcpy\\management.py\u001b[0m in \u001b[0;36mCopyFeatures\u001b[1;34m(in_features, out_feature_class, config_keyword, spatial_grid_1, spatial_grid_2, spatial_grid_3)\u001b[0m\n\u001b[0;32m   2619\u001b[0m     \u001b[1;32mfrom\u001b[0m \u001b[0marcpy\u001b[0m\u001b[1;33m.\u001b[0m\u001b[0marcobjects\u001b[0m\u001b[1;33m.\u001b[0m\u001b[0marcobjectconversion\u001b[0m \u001b[1;32mimport\u001b[0m \u001b[0mconvertArcObjectToPythonObject\u001b[0m\u001b[1;33m\u001b[0m\u001b[0m\n\u001b[0;32m   2620\u001b[0m     \u001b[1;32mtry\u001b[0m\u001b[1;33m:\u001b[0m\u001b[1;33m\u001b[0m\u001b[0m\n\u001b[1;32m-> 2621\u001b[1;33m         \u001b[0mretval\u001b[0m \u001b[1;33m=\u001b[0m \u001b[0mconvertArcObjectToPythonObject\u001b[0m\u001b[1;33m(\u001b[0m\u001b[0mgp\u001b[0m\u001b[1;33m.\u001b[0m\u001b[0mCopyFeatures_management\u001b[0m\u001b[1;33m(\u001b[0m\u001b[1;33m*\u001b[0m\u001b[0mgp_fixargs\u001b[0m\u001b[1;33m(\u001b[0m\u001b[1;33m(\u001b[0m\u001b[0min_features\u001b[0m\u001b[1;33m,\u001b[0m \u001b[0mout_feature_class\u001b[0m\u001b[1;33m,\u001b[0m \u001b[0mconfig_keyword\u001b[0m\u001b[1;33m,\u001b[0m \u001b[0mspatial_grid_1\u001b[0m\u001b[1;33m,\u001b[0m \u001b[0mspatial_grid_2\u001b[0m\u001b[1;33m,\u001b[0m \u001b[0mspatial_grid_3\u001b[0m\u001b[1;33m)\u001b[0m\u001b[1;33m,\u001b[0m \u001b[1;32mTrue\u001b[0m\u001b[1;33m)\u001b[0m\u001b[1;33m)\u001b[0m\u001b[1;33m)\u001b[0m\u001b[1;33m\u001b[0m\u001b[0m\n\u001b[0m\u001b[0;32m   2622\u001b[0m         \u001b[1;32mreturn\u001b[0m \u001b[0mretval\u001b[0m\u001b[1;33m\u001b[0m\u001b[0m\n\u001b[0;32m   2623\u001b[0m     \u001b[1;32mexcept\u001b[0m \u001b[0mException\u001b[0m \u001b[1;32mas\u001b[0m \u001b[0me\u001b[0m\u001b[1;33m:\u001b[0m\u001b[1;33m\u001b[0m\u001b[0m\n",
      "\u001b[1;32mC:\\Program Files\\ArcGIS\\Pro\\Resources\\ArcPy\\arcpy\\geoprocessing\\_base.py\u001b[0m in \u001b[0;36m<lambda>\u001b[1;34m(*args)\u001b[0m\n\u001b[0;32m    496\u001b[0m         \u001b[0mval\u001b[0m \u001b[1;33m=\u001b[0m \u001b[0mgetattr\u001b[0m\u001b[1;33m(\u001b[0m\u001b[0mself\u001b[0m\u001b[1;33m.\u001b[0m\u001b[0m_gp\u001b[0m\u001b[1;33m,\u001b[0m \u001b[0mattr\u001b[0m\u001b[1;33m)\u001b[0m\u001b[1;33m\u001b[0m\u001b[0m\n\u001b[0;32m    497\u001b[0m         \u001b[1;32mif\u001b[0m \u001b[0mcallable\u001b[0m\u001b[1;33m(\u001b[0m\u001b[0mval\u001b[0m\u001b[1;33m)\u001b[0m\u001b[1;33m:\u001b[0m\u001b[1;33m\u001b[0m\u001b[0m\n\u001b[1;32m--> 498\u001b[1;33m             \u001b[1;32mreturn\u001b[0m \u001b[1;32mlambda\u001b[0m \u001b[1;33m*\u001b[0m\u001b[0margs\u001b[0m\u001b[1;33m:\u001b[0m \u001b[0mval\u001b[0m\u001b[1;33m(\u001b[0m\u001b[1;33m*\u001b[0m\u001b[0mgp_fixargs\u001b[0m\u001b[1;33m(\u001b[0m\u001b[0margs\u001b[0m\u001b[1;33m,\u001b[0m \u001b[1;32mTrue\u001b[0m\u001b[1;33m)\u001b[0m\u001b[1;33m)\u001b[0m\u001b[1;33m\u001b[0m\u001b[0m\n\u001b[0m\u001b[0;32m    499\u001b[0m         \u001b[1;32melse\u001b[0m\u001b[1;33m:\u001b[0m\u001b[1;33m\u001b[0m\u001b[0m\n\u001b[0;32m    500\u001b[0m             \u001b[1;32mreturn\u001b[0m \u001b[0mconvertArcObjectToPythonObject\u001b[0m\u001b[1;33m(\u001b[0m\u001b[0mval\u001b[0m\u001b[1;33m)\u001b[0m\u001b[1;33m\u001b[0m\u001b[0m\n",
      "\u001b[1;31mRuntimeError\u001b[0m: Object: Error in executing tool"
     ]
    }
   ],
   "source": [
    "# set workspace and raster functions\n",
    "rasters = r'C:\\Users\\hanfordca\\Documents\\GitHub\\python-programming-spring-2020\\week 6 - working with rasters\\data\\Exercise09'\n",
    "arcpy.env.workspace = rasters\n",
    "raster_folder = arcpy.ListRasters()\n",
    "arcpy.env.overwriteOutput = True\n",
    "\n",
    "input_features = raster_folder\n",
    "\n",
    "# tool error?\n",
    "arcpy.CopyFeatures_management(input_features, \n",
    "                             r\"C:\\Users\\hanfordca\\Documents\\GitHub\\python-programming-spring-2020\\week 6 - working with rasters\\data\\Exercise09\\homework.gdb\")"
   ]
  },
  {
   "cell_type": "code",
   "execution_count": null,
   "metadata": {},
   "outputs": [],
   "source": []
  }
 ],
 "metadata": {
  "kernelspec": {
   "display_name": "Python 3",
   "language": "python",
   "name": "python3"
  },
  "language_info": {
   "codemirror_mode": {
    "name": "ipython",
    "version": 3
   },
   "file_extension": ".py",
   "mimetype": "text/x-python",
   "name": "python",
   "nbconvert_exporter": "python",
   "pygments_lexer": "ipython3",
   "version": "3.6.6"
  }
 },
 "nbformat": 4,
 "nbformat_minor": 2
}
