{
 "cells": [
  {
   "cell_type": "markdown",
   "metadata": {},
   "source": [
    "# Text Files"
   ]
  },
  {
   "cell_type": "markdown",
   "metadata": {},
   "source": [
    "In this first exercise, we'll learn how to read data from and write data to text file. This is an essential skill in programming as you will frequently be creating reports, tables, and other types of text outputs. Through this exercise I want you to pay attention to the details of how to work with text files because you will find similarities between working with text files, CSV files, tables in a geodatabase, and much more.\n",
    "\n",
    "These exercises are derived from Zandbergen Chapter 7.6 and the tutorial this tutorial called [Reading and Writing Files in Python](http://www.pythonforbeginners.com/files/reading-and-writing-files-in-python).  "
   ]
  },
  {
   "cell_type": "markdown",
   "metadata": {},
   "source": [
    "## Import... Nothing"
   ]
  },
  {
   "cell_type": "markdown",
   "metadata": {},
   "source": [
    "What is nice about working with text files in Python is that you don't need to import a library to read or write files! The first step is to just _open_ the file. First, we'll open a file and write text to it. Then, we'll open a file and read text from it. "
   ]
  },
  {
   "cell_type": "markdown",
   "metadata": {},
   "source": [
    "## Writing Data"
   ]
  },
  {
   "cell_type": "markdown",
   "metadata": {},
   "source": [
    "Let's create a file that we can write to. The first step is to open it. Let's open a new file in our Week_3\\data folder."
   ]
  },
  {
   "cell_type": "code",
   "execution_count": 8,
   "metadata": {},
   "outputs": [],
   "source": [
    "f = open(r\"C:\\Users\\hanfordca\\Documents\\GitHub\\python-programming-spring-2020\\week 3\\data\\lecture.txt\", \"w\")"
   ]
  },
  {
   "cell_type": "markdown",
   "metadata": {},
   "source": [
    "We specify \"w\" as the second argument because that denotes write mode. There are 4 modes that you could specify:\n",
    "- r: read mode\n",
    "- w: write mode\n",
    "- b: binary mode\n",
    "- a: append mode\n",
    "\n",
    "If you add \"+\" to another mode, that means that you can either read or write in that mode.\n",
    "\n",
    "You should see a text file named sample.txt created in your Week_3\\data folder. Writing data to the file is as simple as calling _f.write_. Let's add some text to the file."
   ]
  },
  {
   "cell_type": "code",
   "execution_count": 9,
   "metadata": {},
   "outputs": [
    {
     "data": {
      "text/plain": [
       "7"
      ]
     },
     "execution_count": 9,
     "metadata": {},
     "output_type": "execute_result"
    }
   ],
   "source": [
    "f.write(\"St. Louis University Center for Sustainability\\n\")\n",
    "f.write(\" Was merged into the Department of Atmospheric Science\\n\")\n",
    "f.write(\"in 2018\")"
   ]
  },
  {
   "cell_type": "markdown",
   "metadata": {},
   "source": [
    "If we are finished writing to the file. We call _f.close_. Let's close the file."
   ]
  },
  {
   "cell_type": "code",
   "execution_count": 10,
   "metadata": {},
   "outputs": [],
   "source": [
    "f.close()"
   ]
  },
  {
   "cell_type": "markdown",
   "metadata": {},
   "source": [
    "## Reading Data"
   ]
  },
  {
   "cell_type": "markdown",
   "metadata": {},
   "source": [
    "Reading a text file is just as easy. Let's read the file we just wrote:"
   ]
  },
  {
   "cell_type": "code",
   "execution_count": 11,
   "metadata": {},
   "outputs": [],
   "source": [
    "f = open(r\"C:\\Users\\hanfordca\\Documents\\GitHub\\python-programming-spring-2020\\week 3\\data\\lecture.txt\", \"r\")"
   ]
  },
  {
   "cell_type": "code",
   "execution_count": 12,
   "metadata": {},
   "outputs": [
    {
     "data": {
      "text/plain": [
       "'St. Louis University Center for Sustainability\\n Was merged into the Department of Atmospheric Science\\nin 2018'"
      ]
     },
     "execution_count": 12,
     "metadata": {},
     "output_type": "execute_result"
    }
   ],
   "source": [
    "f.read()"
   ]
  },
  {
   "cell_type": "markdown",
   "metadata": {},
   "source": [
    "## Question 1: What happens if you call f.read()?"
   ]
  },
  {
   "cell_type": "markdown",
   "metadata": {},
   "source": [
    "If you supply a numerical argument to the read function, that argument will indicate how many characters to read from the file. FOr example, let's read the file again and only look at the first 9 characters."
   ]
  },
  {
   "cell_type": "code",
   "execution_count": 14,
   "metadata": {},
   "outputs": [
    {
     "data": {
      "text/plain": [
       "'St. Louis'"
      ]
     },
     "execution_count": 14,
     "metadata": {},
     "output_type": "execute_result"
    }
   ],
   "source": [
    "f = open(r\"C:\\Users\\hanfordca\\Documents\\GitHub\\python-programming-spring-2020\\week 3\\data\\lecture.txt\")\n",
    "f.read(9)"
   ]
  },
  {
   "cell_type": "markdown",
   "metadata": {},
   "source": [
    "## Question 2: What are the first 9 characters of the text file?"
   ]
  },
  {
   "cell_type": "markdown",
   "metadata": {},
   "source": [
    "What if a file has multiple lies of text in it. Easy! YOu can use the _readlines_ function to read all of the lines.  Let's read the students.txt file in Week_3\\data."
   ]
  },
  {
   "cell_type": "code",
   "execution_count": null,
   "metadata": {
    "collapsed": true
   },
   "outputs": [],
   "source": [
    "f = open(r\"C:\\Users\\hanfordca\\Documents\\GitHub\\python-programming-spring-2020\\week 3\\data\\students.txt\")\n",
    "lines = f.readlines()"
   ]
  },
  {
   "cell_type": "markdown",
   "metadata": {},
   "source": [
    "## Question 3: What do you get if you print our the lines variable?"
   ]
  },
  {
   "cell_type": "markdown",
   "metadata": {},
   "source": [
    "At the end of every student name except the last, you should see a \"\\n\". This is called a line separator; it denotes the end of a line in the file. You can use indexes to specify which line you want to look at. For example:"
   ]
  },
  {
   "cell_type": "code",
   "execution_count": null,
   "metadata": {},
   "outputs": [],
   "source": [
    "lines[0] #Should return Matt"
   ]
  },
  {
   "cell_type": "code",
   "execution_count": null,
   "metadata": {},
   "outputs": [],
   "source": [
    "lines[1] #Should return Greg"
   ]
  },
  {
   "cell_type": "markdown",
   "metadata": {},
   "source": [
    "## Reading Real Data"
   ]
  },
  {
   "cell_type": "markdown",
   "metadata": {},
   "source": [
    "In this exercise, we're going to read in the file coordinates.txt, remove the ID, Lat, and Lon fields, and write only the numerical values back to the text file.\n",
    "\n",
    "First, let's open the coordinates.txt file and also a file called cleaned_coordinates.txt that we'll use as the output file for the cleaned coordinates."
   ]
  },
  {
   "cell_type": "code",
   "execution_count": 16,
   "metadata": {},
   "outputs": [],
   "source": [
    "in_file = open(r\"C:\\Users\\hanfordca\\Documents\\GitHub\\python-programming-spring-2020\\week 3\\data\\csv_demo_data\\coordinates.txt\", \"r\")\n",
    "out_file = open(r\"C:\\Users\\hanfordca\\Documents\\GitHub\\python-programming-spring-2020\\week 3\\data\\csv_demo_data\\cleaned_coordinates.txt\", \"w\")"
   ]
  },
  {
   "cell_type": "markdown",
   "metadata": {},
   "source": [
    "Let's see how we can remove the ID, Lat, and Lon text from the coordinates.txt file. We can use the str.replace() method to remove this text."
   ]
  },
  {
   "cell_type": "code",
   "execution_count": 17,
   "metadata": {},
   "outputs": [
    {
     "name": "stdout",
     "output_type": "stream",
     "text": [
      "Old Line: ID: 1, Lat: 24.3, Lon: 101.2\n",
      "\n",
      "New Line:  1,  24.3,  101.2\n",
      "\n",
      "Old Line: ID: 2, Lat: 25.4, Lon: 100.3\n",
      "\n",
      "New Line:  2,  25.4,  100.3\n",
      "\n",
      "Old Line: ID: 3, Lat: 24.2, Lon: 101.1\n",
      "\n",
      "New Line:  3,  24.2,  101.1\n",
      "\n",
      "Old Line: ID: 4, Lat: 23.7, Lon: 101.7\n",
      "\n",
      "New Line:  4,  23.7,  101.7\n",
      "\n",
      "Old Line: ID: 5, Lat: 22.5, Lon: 103.0\n",
      "\n",
      "New Line:  5,  22.5,  103.0\n",
      "\n",
      "Old Line: ID: 6, Lat: 22.9, Lon: 102.5\n",
      "New Line:  6,  22.9,  102.5\n"
     ]
    }
   ],
   "source": [
    "for line in in_file:\n",
    "    str = line.replace(\"ID:\", \"\")\n",
    "    str = str.replace(\"Lat:\",\"\")\n",
    "    str = str.replace(\"Lon:\", \"\")\n",
    "    print(\"Old Line: \" + line)\n",
    "    print(\"New Line: \" + str)\n",
    "    out_file.write(str)\n",
    "    \n",
    "#Let's close the files\n",
    "in_file.close()\n",
    "out_file.close()"
   ]
  },
  {
   "cell_type": "markdown",
   "metadata": {},
   "source": [
    "## Question 4: Please submit cleaned_coordinates.txt with this weeks homework."
   ]
  },
  {
   "cell_type": "markdown",
   "metadata": {},
   "source": [
    "In this exercise, we learned how to read and write text data with Python. In the next section, we'll learn how to read and write CSV files. Notice the similarities."
   ]
  },
  {
   "cell_type": "markdown",
   "metadata": {},
   "source": [
    "# CSVs"
   ]
  },
  {
   "cell_type": "markdown",
   "metadata": {
    "collapsed": true
   },
   "source": [
    "As long as you work with data, you will encounter comma separated value (CSV) files.  CSV (Comma Separated Values) format is the most common import and export format for spreadsheets and databases. A csv file contains a number of rows, each containing a number of columns,\n",
    "usually separated by commas.\n",
    "\n",
    "Here, we'll explore how to use Python to read and parse csv files and then join that data to a spatial dataset. In our example, we will use data from [data.cms.gov](https://data.cms.gov/) on state by state enrollment into the Affordable Care Acts new [Pre-Existing Condition Insurance Plan (PCIP) program](https://data.cms.gov/Health/Monthly-Pre-Existing-Condition-Insurance-Plan-Enro/dpuq-z7nj) to make health insurance available to Americans denied coverage by private insurance companies because of a pre-existing condition. "
   ]
  },
  {
   "cell_type": "markdown",
   "metadata": {},
   "source": [
    "# csv module"
   ]
  },
  {
   "cell_type": "markdown",
   "metadata": {},
   "source": [
    "The csv module's purpose is to make it easier to deal with csv formatted file, especially when working with data exported from spreadsheets and databases into text files. First, let's import the csv module."
   ]
  },
  {
   "cell_type": "code",
   "execution_count": 19,
   "metadata": {},
   "outputs": [],
   "source": [
    "import csv"
   ]
  },
  {
   "cell_type": "markdown",
   "metadata": {},
   "source": [
    "reading a csv file looks a lot like reading a text file. Let's read the monthly pre-existing conditionenrollment csv file and print out all of the rows."
   ]
  },
  {
   "cell_type": "code",
   "execution_count": 20,
   "metadata": {},
   "outputs": [],
   "source": [
    "csvfile = r\"C:\\Users\\hanfordca\\Documents\\GitHub\\python-programming-spring-2020\\week 3\\data\\csv_demo_data\\Monthly_Pre-Existing_Condition_Insurance_Plan_Enrollment__State_by_State.csv\""
   ]
  },
  {
   "cell_type": "code",
   "execution_count": 22,
   "metadata": {},
   "outputs": [],
   "source": [
    "csv_as_list = []\n",
    "\n",
    "with open(csvfile, 'rt') as f:\n",
    "    reader = csv.reader(f)\n",
    "    for row in reader:\n",
    "        #print(row)\n",
    "        csv_as_list.append(row)"
   ]
  },
  {
   "cell_type": "markdown",
   "metadata": {},
   "source": [
    "The 'rt' tells the csv reader that we are looking at a text file. \n",
    "\n",
    "Notice that the header of the csv file also gets printed out. Let's use a slightly different technique to read the file in. Also, Let's separate the header from the rest of the data and set it up so that per state, we print our the monthly enrollment."
   ]
  },
  {
   "cell_type": "code",
   "execution_count": 25,
   "metadata": {},
   "outputs": [
    {
     "data": {
      "text/plain": [
       "['Alabama',\n",
       " 'Federal',\n",
       " '115',\n",
       " '123',\n",
       " '594',\n",
       " '639',\n",
       " '672',\n",
       " '711',\n",
       " '736',\n",
       " '766',\n",
       " '795',\n",
       " '820',\n",
       " '821',\n",
       " '1006',\n",
       " '972',\n",
       " '911',\n",
       " '838',\n",
       " '794',\n",
       " '735',\n",
       " '679',\n",
       " '635',\n",
       " '590',\n",
       " '559',\n",
       " '524',\n",
       " '466',\n",
       " '429',\n",
       " '389',\n",
       " '340',\n",
       " '296',\n",
       " '275',\n",
       " '230',\n",
       " '182',\n",
       " '138',\n",
       " '118',\n",
       " '103',\n",
       " '91',\n",
       " '77',\n",
       " '61']"
      ]
     },
     "execution_count": 25,
     "metadata": {},
     "output_type": "execute_result"
    }
   ],
   "source": [
    "csv_as_list[1] # corresponds to first state in row"
   ]
  },
  {
   "cell_type": "code",
   "execution_count": 27,
   "metadata": {},
   "outputs": [],
   "source": [
    "import pandas as pd"
   ]
  },
  {
   "cell_type": "code",
   "execution_count": 28,
   "metadata": {},
   "outputs": [],
   "source": [
    "df = pd.read_csv(csvfile)"
   ]
  },
  {
   "cell_type": "code",
   "execution_count": 29,
   "metadata": {},
   "outputs": [
    {
     "data": {
      "text/html": [
       "<div>\n",
       "<style scoped>\n",
       "    .dataframe tbody tr th:only-of-type {\n",
       "        vertical-align: middle;\n",
       "    }\n",
       "\n",
       "    .dataframe tbody tr th {\n",
       "        vertical-align: top;\n",
       "    }\n",
       "\n",
       "    .dataframe thead th {\n",
       "        text-align: right;\n",
       "    }\n",
       "</style>\n",
       "<table border=\"1\" class=\"dataframe\">\n",
       "  <thead>\n",
       "    <tr style=\"text-align: right;\">\n",
       "      <th></th>\n",
       "      <th>State</th>\n",
       "      <th>Federally/State Administered</th>\n",
       "      <th>Enrolled Through January 31, 2014</th>\n",
       "      <th>Enrolled Through December 31, 2013</th>\n",
       "      <th>Enrolled Through November 30, 2013</th>\n",
       "      <th>Enrolled Through October 31, 2013</th>\n",
       "      <th>Enrolled Through September 30, 2013</th>\n",
       "      <th>Enrolled Through August 31, 2013</th>\n",
       "      <th>Enrolled Through July 31, 2013</th>\n",
       "      <th>Enrolled Through June 30, 2013</th>\n",
       "      <th>...</th>\n",
       "      <th>Enrolled Through October 31, 2011</th>\n",
       "      <th>Enrolled Through September 30, 2011</th>\n",
       "      <th>Enrolled Through August 31, 2011</th>\n",
       "      <th>Enrolled Through July 31, 2011</th>\n",
       "      <th>Enrolled Through June 30, 2011</th>\n",
       "      <th>Enrolled Through May 31, 2011</th>\n",
       "      <th>Enrolled Through April 30, 2011</th>\n",
       "      <th>Enrolled Through March 31, 2011</th>\n",
       "      <th>Enrolled Through February 1, 2011</th>\n",
       "      <th>Enrolled Through November 1, 2011</th>\n",
       "    </tr>\n",
       "  </thead>\n",
       "  <tbody>\n",
       "    <tr>\n",
       "      <th>0</th>\n",
       "      <td>Alabama</td>\n",
       "      <td>Federal</td>\n",
       "      <td>115</td>\n",
       "      <td>123</td>\n",
       "      <td>594</td>\n",
       "      <td>639</td>\n",
       "      <td>672</td>\n",
       "      <td>711</td>\n",
       "      <td>736</td>\n",
       "      <td>766</td>\n",
       "      <td>...</td>\n",
       "      <td>296</td>\n",
       "      <td>275</td>\n",
       "      <td>230</td>\n",
       "      <td>182</td>\n",
       "      <td>138</td>\n",
       "      <td>118</td>\n",
       "      <td>103</td>\n",
       "      <td>91</td>\n",
       "      <td>77</td>\n",
       "      <td>61</td>\n",
       "    </tr>\n",
       "    <tr>\n",
       "      <th>1</th>\n",
       "      <td>Alaska</td>\n",
       "      <td>State</td>\n",
       "      <td>5</td>\n",
       "      <td>25</td>\n",
       "      <td>32</td>\n",
       "      <td>34</td>\n",
       "      <td>34</td>\n",
       "      <td>36</td>\n",
       "      <td>36</td>\n",
       "      <td>38</td>\n",
       "      <td>...</td>\n",
       "      <td>45</td>\n",
       "      <td>48</td>\n",
       "      <td>45</td>\n",
       "      <td>43</td>\n",
       "      <td>47</td>\n",
       "      <td>38</td>\n",
       "      <td>35</td>\n",
       "      <td>34</td>\n",
       "      <td>32</td>\n",
       "      <td>20</td>\n",
       "    </tr>\n",
       "    <tr>\n",
       "      <th>2</th>\n",
       "      <td>Arizona</td>\n",
       "      <td>Federal</td>\n",
       "      <td>1373</td>\n",
       "      <td>1392</td>\n",
       "      <td>3857</td>\n",
       "      <td>4021</td>\n",
       "      <td>4154</td>\n",
       "      <td>4293</td>\n",
       "      <td>4389</td>\n",
       "      <td>4541</td>\n",
       "      <td>...</td>\n",
       "      <td>1533</td>\n",
       "      <td>1391</td>\n",
       "      <td>1178</td>\n",
       "      <td>967</td>\n",
       "      <td>759</td>\n",
       "      <td>639</td>\n",
       "      <td>573</td>\n",
       "      <td>457</td>\n",
       "      <td>374</td>\n",
       "      <td>270</td>\n",
       "    </tr>\n",
       "    <tr>\n",
       "      <th>3</th>\n",
       "      <td>Arkansas</td>\n",
       "      <td>Transitioned from State to Federally-administe...</td>\n",
       "      <td>126</td>\n",
       "      <td>129</td>\n",
       "      <td>648</td>\n",
       "      <td>688</td>\n",
       "      <td>716</td>\n",
       "      <td>750</td>\n",
       "      <td>767</td>\n",
       "      <td>736</td>\n",
       "      <td>...</td>\n",
       "      <td>367</td>\n",
       "      <td>333</td>\n",
       "      <td>310</td>\n",
       "      <td>291</td>\n",
       "      <td>273</td>\n",
       "      <td>254</td>\n",
       "      <td>278</td>\n",
       "      <td>226</td>\n",
       "      <td>198</td>\n",
       "      <td>147</td>\n",
       "    </tr>\n",
       "    <tr>\n",
       "      <th>4</th>\n",
       "      <td>California</td>\n",
       "      <td>Transitioned from State to Federally-administe...</td>\n",
       "      <td>2209</td>\n",
       "      <td>2265</td>\n",
       "      <td>11300</td>\n",
       "      <td>12122</td>\n",
       "      <td>12780</td>\n",
       "      <td>13428</td>\n",
       "      <td>13950</td>\n",
       "      <td>13874</td>\n",
       "      <td>...</td>\n",
       "      <td>4907</td>\n",
       "      <td>4294</td>\n",
       "      <td>3745</td>\n",
       "      <td>3368</td>\n",
       "      <td>2979</td>\n",
       "      <td>2659</td>\n",
       "      <td>2256</td>\n",
       "      <td>1858</td>\n",
       "      <td>1543</td>\n",
       "      <td>706</td>\n",
       "    </tr>\n",
       "  </tbody>\n",
       "</table>\n",
       "<p>5 rows × 38 columns</p>\n",
       "</div>"
      ],
      "text/plain": [
       "        State                       Federally/State Administered  \\\n",
       "0     Alabama                                            Federal   \n",
       "1      Alaska                                              State   \n",
       "2     Arizona                                            Federal   \n",
       "3    Arkansas  Transitioned from State to Federally-administe...   \n",
       "4  California  Transitioned from State to Federally-administe...   \n",
       "\n",
       "   Enrolled Through January 31, 2014    Enrolled Through December 31, 2013  \\\n",
       "0                                  115                                 123   \n",
       "1                                    5                                  25   \n",
       "2                                 1373                                1392   \n",
       "3                                  126                                 129   \n",
       "4                                 2209                                2265   \n",
       "\n",
       "   Enrolled Through November 30, 2013  Enrolled Through October 31, 2013  \\\n",
       "0                                 594                                639   \n",
       "1                                  32                                 34   \n",
       "2                                3857                               4021   \n",
       "3                                 648                                688   \n",
       "4                               11300                              12122   \n",
       "\n",
       "   Enrolled Through September 30, 2013  Enrolled Through August 31, 2013  \\\n",
       "0                                  672                               711   \n",
       "1                                   34                                36   \n",
       "2                                 4154                              4293   \n",
       "3                                  716                               750   \n",
       "4                                12780                             13428   \n",
       "\n",
       "   Enrolled Through July 31, 2013  Enrolled Through June 30, 2013  \\\n",
       "0                             736                             766   \n",
       "1                              36                              38   \n",
       "2                            4389                            4541   \n",
       "3                             767                             736   \n",
       "4                           13950                           13874   \n",
       "\n",
       "                 ...                  Enrolled Through October 31, 2011  \\\n",
       "0                ...                                                296   \n",
       "1                ...                                                 45   \n",
       "2                ...                                               1533   \n",
       "3                ...                                                367   \n",
       "4                ...                                               4907   \n",
       "\n",
       "   Enrolled Through September 30, 2011  Enrolled Through August 31, 2011  \\\n",
       "0                                  275                               230   \n",
       "1                                   48                                45   \n",
       "2                                 1391                              1178   \n",
       "3                                  333                               310   \n",
       "4                                 4294                              3745   \n",
       "\n",
       "   Enrolled Through July 31, 2011  Enrolled Through June 30, 2011  \\\n",
       "0                             182                             138   \n",
       "1                              43                              47   \n",
       "2                             967                             759   \n",
       "3                             291                             273   \n",
       "4                            3368                            2979   \n",
       "\n",
       "   Enrolled Through May 31, 2011  Enrolled Through April 30, 2011  \\\n",
       "0                            118                              103   \n",
       "1                             38                               35   \n",
       "2                            639                              573   \n",
       "3                            254                              278   \n",
       "4                           2659                             2256   \n",
       "\n",
       "   Enrolled Through March 31, 2011  Enrolled Through February 1, 2011  \\\n",
       "0                               91                                 77   \n",
       "1                               34                                 32   \n",
       "2                              457                                374   \n",
       "3                              226                                198   \n",
       "4                             1858                               1543   \n",
       "\n",
       "   Enrolled Through November 1, 2011  \n",
       "0                                 61  \n",
       "1                                 20  \n",
       "2                                270  \n",
       "3                                147  \n",
       "4                                706  \n",
       "\n",
       "[5 rows x 38 columns]"
      ]
     },
     "execution_count": 29,
     "metadata": {},
     "output_type": "execute_result"
    }
   ],
   "source": [
    "df.head()"
   ]
  },
  {
   "cell_type": "code",
   "execution_count": 32,
   "metadata": {},
   "outputs": [
    {
     "data": {
      "text/html": [
       "<div>\n",
       "<style scoped>\n",
       "    .dataframe tbody tr th:only-of-type {\n",
       "        vertical-align: middle;\n",
       "    }\n",
       "\n",
       "    .dataframe tbody tr th {\n",
       "        vertical-align: top;\n",
       "    }\n",
       "\n",
       "    .dataframe thead th {\n",
       "        text-align: right;\n",
       "    }\n",
       "</style>\n",
       "<table border=\"1\" class=\"dataframe\">\n",
       "  <thead>\n",
       "    <tr style=\"text-align: right;\">\n",
       "      <th></th>\n",
       "      <th>State</th>\n",
       "      <th>Federally/State Administered</th>\n",
       "      <th>Enrolled Through January 31, 2014</th>\n",
       "      <th>Enrolled Through December 31, 2013</th>\n",
       "      <th>Enrolled Through November 30, 2013</th>\n",
       "      <th>Enrolled Through October 31, 2013</th>\n",
       "      <th>Enrolled Through September 30, 2013</th>\n",
       "      <th>Enrolled Through August 31, 2013</th>\n",
       "      <th>Enrolled Through July 31, 2013</th>\n",
       "      <th>Enrolled Through June 30, 2013</th>\n",
       "      <th>...</th>\n",
       "      <th>Enrolled Through October 31, 2011</th>\n",
       "      <th>Enrolled Through September 30, 2011</th>\n",
       "      <th>Enrolled Through August 31, 2011</th>\n",
       "      <th>Enrolled Through July 31, 2011</th>\n",
       "      <th>Enrolled Through June 30, 2011</th>\n",
       "      <th>Enrolled Through May 31, 2011</th>\n",
       "      <th>Enrolled Through April 30, 2011</th>\n",
       "      <th>Enrolled Through March 31, 2011</th>\n",
       "      <th>Enrolled Through February 1, 2011</th>\n",
       "      <th>Enrolled Through November 1, 2011</th>\n",
       "    </tr>\n",
       "  </thead>\n",
       "  <tbody>\n",
       "    <tr>\n",
       "      <th>0</th>\n",
       "      <td>Alabama</td>\n",
       "      <td>Federal</td>\n",
       "      <td>115</td>\n",
       "      <td>123</td>\n",
       "      <td>594</td>\n",
       "      <td>639</td>\n",
       "      <td>672</td>\n",
       "      <td>711</td>\n",
       "      <td>736</td>\n",
       "      <td>766</td>\n",
       "      <td>...</td>\n",
       "      <td>296</td>\n",
       "      <td>275</td>\n",
       "      <td>230</td>\n",
       "      <td>182</td>\n",
       "      <td>138</td>\n",
       "      <td>118</td>\n",
       "      <td>103</td>\n",
       "      <td>91</td>\n",
       "      <td>77</td>\n",
       "      <td>61</td>\n",
       "    </tr>\n",
       "  </tbody>\n",
       "</table>\n",
       "<p>1 rows × 38 columns</p>\n",
       "</div>"
      ],
      "text/plain": [
       "     State Federally/State Administered  Enrolled Through January 31, 2014    \\\n",
       "0  Alabama                      Federal                                  115   \n",
       "\n",
       "   Enrolled Through December 31, 2013  Enrolled Through November 30, 2013  \\\n",
       "0                                 123                                 594   \n",
       "\n",
       "   Enrolled Through October 31, 2013  Enrolled Through September 30, 2013  \\\n",
       "0                                639                                  672   \n",
       "\n",
       "   Enrolled Through August 31, 2013  Enrolled Through July 31, 2013  \\\n",
       "0                               711                             736   \n",
       "\n",
       "   Enrolled Through June 30, 2013                ...                  \\\n",
       "0                             766                ...                   \n",
       "\n",
       "   Enrolled Through October 31, 2011  Enrolled Through September 30, 2011  \\\n",
       "0                                296                                  275   \n",
       "\n",
       "   Enrolled Through August 31, 2011  Enrolled Through July 31, 2011  \\\n",
       "0                               230                             182   \n",
       "\n",
       "   Enrolled Through June 30, 2011  Enrolled Through May 31, 2011  \\\n",
       "0                             138                            118   \n",
       "\n",
       "   Enrolled Through April 30, 2011  Enrolled Through March 31, 2011  \\\n",
       "0                              103                               91   \n",
       "\n",
       "   Enrolled Through February 1, 2011  Enrolled Through November 1, 2011  \n",
       "0                                 77                                 61  \n",
       "\n",
       "[1 rows x 38 columns]"
      ]
     },
     "execution_count": 32,
     "metadata": {},
     "output_type": "execute_result"
    }
   ],
   "source": [
    "df.head(1)"
   ]
  },
  {
   "cell_type": "code",
   "execution_count": 36,
   "metadata": {},
   "outputs": [
    {
     "data": {
      "text/html": [
       "<div>\n",
       "<style scoped>\n",
       "    .dataframe tbody tr th:only-of-type {\n",
       "        vertical-align: middle;\n",
       "    }\n",
       "\n",
       "    .dataframe tbody tr th {\n",
       "        vertical-align: top;\n",
       "    }\n",
       "\n",
       "    .dataframe thead th {\n",
       "        text-align: right;\n",
       "    }\n",
       "</style>\n",
       "<table border=\"1\" class=\"dataframe\">\n",
       "  <thead>\n",
       "    <tr style=\"text-align: right;\">\n",
       "      <th></th>\n",
       "      <th>State</th>\n",
       "      <th>Enrolled Through November 1, 2011</th>\n",
       "    </tr>\n",
       "  </thead>\n",
       "  <tbody>\n",
       "    <tr>\n",
       "      <th>0</th>\n",
       "      <td>Alabama</td>\n",
       "      <td>61</td>\n",
       "    </tr>\n",
       "    <tr>\n",
       "      <th>1</th>\n",
       "      <td>Alaska</td>\n",
       "      <td>20</td>\n",
       "    </tr>\n",
       "    <tr>\n",
       "      <th>2</th>\n",
       "      <td>Arizona</td>\n",
       "      <td>270</td>\n",
       "    </tr>\n",
       "    <tr>\n",
       "      <th>3</th>\n",
       "      <td>Arkansas</td>\n",
       "      <td>147</td>\n",
       "    </tr>\n",
       "    <tr>\n",
       "      <th>4</th>\n",
       "      <td>California</td>\n",
       "      <td>706</td>\n",
       "    </tr>\n",
       "    <tr>\n",
       "      <th>5</th>\n",
       "      <td>Colorado</td>\n",
       "      <td>434</td>\n",
       "    </tr>\n",
       "    <tr>\n",
       "      <th>6</th>\n",
       "      <td>Connecticut</td>\n",
       "      <td>22</td>\n",
       "    </tr>\n",
       "    <tr>\n",
       "      <th>7</th>\n",
       "      <td>Delaware</td>\n",
       "      <td>34</td>\n",
       "    </tr>\n",
       "    <tr>\n",
       "      <th>8</th>\n",
       "      <td>District of Columbia</td>\n",
       "      <td>10</td>\n",
       "    </tr>\n",
       "    <tr>\n",
       "      <th>9</th>\n",
       "      <td>Florida</td>\n",
       "      <td>613</td>\n",
       "    </tr>\n",
       "    <tr>\n",
       "      <th>10</th>\n",
       "      <td>Georgia</td>\n",
       "      <td>399</td>\n",
       "    </tr>\n",
       "    <tr>\n",
       "      <th>11</th>\n",
       "      <td>Hawaii</td>\n",
       "      <td>23</td>\n",
       "    </tr>\n",
       "    <tr>\n",
       "      <th>12</th>\n",
       "      <td>Idaho</td>\n",
       "      <td>42</td>\n",
       "    </tr>\n",
       "    <tr>\n",
       "      <th>13</th>\n",
       "      <td>Illinois</td>\n",
       "      <td>943</td>\n",
       "    </tr>\n",
       "    <tr>\n",
       "      <th>14</th>\n",
       "      <td>Indiana</td>\n",
       "      <td>131</td>\n",
       "    </tr>\n",
       "    <tr>\n",
       "      <th>15</th>\n",
       "      <td>Iowa</td>\n",
       "      <td>80</td>\n",
       "    </tr>\n",
       "    <tr>\n",
       "      <th>16</th>\n",
       "      <td>Kansas</td>\n",
       "      <td>112</td>\n",
       "    </tr>\n",
       "    <tr>\n",
       "      <th>17</th>\n",
       "      <td>Kentucky</td>\n",
       "      <td>56</td>\n",
       "    </tr>\n",
       "    <tr>\n",
       "      <th>18</th>\n",
       "      <td>Louisiana</td>\n",
       "      <td>92</td>\n",
       "    </tr>\n",
       "    <tr>\n",
       "      <th>19</th>\n",
       "      <td>Maine</td>\n",
       "      <td>13</td>\n",
       "    </tr>\n",
       "    <tr>\n",
       "      <th>20</th>\n",
       "      <td>Maryland</td>\n",
       "      <td>145</td>\n",
       "    </tr>\n",
       "    <tr>\n",
       "      <th>21</th>\n",
       "      <td>Massachusetts*</td>\n",
       "      <td>0</td>\n",
       "    </tr>\n",
       "    <tr>\n",
       "      <th>22</th>\n",
       "      <td>Michigan</td>\n",
       "      <td>89</td>\n",
       "    </tr>\n",
       "    <tr>\n",
       "      <th>23</th>\n",
       "      <td>Minnesota</td>\n",
       "      <td>29</td>\n",
       "    </tr>\n",
       "    <tr>\n",
       "      <th>24</th>\n",
       "      <td>Mississippi</td>\n",
       "      <td>58</td>\n",
       "    </tr>\n",
       "    <tr>\n",
       "      <th>25</th>\n",
       "      <td>Missouri</td>\n",
       "      <td>166</td>\n",
       "    </tr>\n",
       "    <tr>\n",
       "      <th>26</th>\n",
       "      <td>Montana</td>\n",
       "      <td>153</td>\n",
       "    </tr>\n",
       "    <tr>\n",
       "      <th>27</th>\n",
       "      <td>Nebraska</td>\n",
       "      <td>39</td>\n",
       "    </tr>\n",
       "    <tr>\n",
       "      <th>28</th>\n",
       "      <td>Nevada</td>\n",
       "      <td>125</td>\n",
       "    </tr>\n",
       "    <tr>\n",
       "      <th>29</th>\n",
       "      <td>New Hampshire</td>\n",
       "      <td>78</td>\n",
       "    </tr>\n",
       "    <tr>\n",
       "      <th>30</th>\n",
       "      <td>New Jersey</td>\n",
       "      <td>216</td>\n",
       "    </tr>\n",
       "    <tr>\n",
       "      <th>31</th>\n",
       "      <td>New Mexico</td>\n",
       "      <td>198</td>\n",
       "    </tr>\n",
       "    <tr>\n",
       "      <th>32</th>\n",
       "      <td>New York</td>\n",
       "      <td>411</td>\n",
       "    </tr>\n",
       "    <tr>\n",
       "      <th>33</th>\n",
       "      <td>North Carolina</td>\n",
       "      <td>674</td>\n",
       "    </tr>\n",
       "    <tr>\n",
       "      <th>34</th>\n",
       "      <td>North Dakota</td>\n",
       "      <td>5</td>\n",
       "    </tr>\n",
       "    <tr>\n",
       "      <th>35</th>\n",
       "      <td>Ohio</td>\n",
       "      <td>726</td>\n",
       "    </tr>\n",
       "    <tr>\n",
       "      <th>36</th>\n",
       "      <td>Oklahoma</td>\n",
       "      <td>190</td>\n",
       "    </tr>\n",
       "    <tr>\n",
       "      <th>37</th>\n",
       "      <td>Oregon</td>\n",
       "      <td>483</td>\n",
       "    </tr>\n",
       "    <tr>\n",
       "      <th>38</th>\n",
       "      <td>Pennsylvania</td>\n",
       "      <td>2046</td>\n",
       "    </tr>\n",
       "    <tr>\n",
       "      <th>39</th>\n",
       "      <td>Rhode Island</td>\n",
       "      <td>85</td>\n",
       "    </tr>\n",
       "    <tr>\n",
       "      <th>40</th>\n",
       "      <td>South Carolina</td>\n",
       "      <td>242</td>\n",
       "    </tr>\n",
       "    <tr>\n",
       "      <th>41</th>\n",
       "      <td>South Dakota</td>\n",
       "      <td>62</td>\n",
       "    </tr>\n",
       "    <tr>\n",
       "      <th>42</th>\n",
       "      <td>Tennessee</td>\n",
       "      <td>171</td>\n",
       "    </tr>\n",
       "    <tr>\n",
       "      <th>43</th>\n",
       "      <td>Texas</td>\n",
       "      <td>1007</td>\n",
       "    </tr>\n",
       "    <tr>\n",
       "      <th>44</th>\n",
       "      <td>Utah</td>\n",
       "      <td>117</td>\n",
       "    </tr>\n",
       "    <tr>\n",
       "      <th>45</th>\n",
       "      <td>Vermont*</td>\n",
       "      <td>0</td>\n",
       "    </tr>\n",
       "    <tr>\n",
       "      <th>46</th>\n",
       "      <td>Virginia</td>\n",
       "      <td>204</td>\n",
       "    </tr>\n",
       "    <tr>\n",
       "      <th>47</th>\n",
       "      <td>Washington</td>\n",
       "      <td>139</td>\n",
       "    </tr>\n",
       "    <tr>\n",
       "      <th>48</th>\n",
       "      <td>West Virginia</td>\n",
       "      <td>15</td>\n",
       "    </tr>\n",
       "    <tr>\n",
       "      <th>49</th>\n",
       "      <td>Wisconsin</td>\n",
       "      <td>307</td>\n",
       "    </tr>\n",
       "    <tr>\n",
       "      <th>50</th>\n",
       "      <td>Wyoming</td>\n",
       "      <td>49</td>\n",
       "    </tr>\n",
       "    <tr>\n",
       "      <th>51</th>\n",
       "      <td>Total</td>\n",
       "      <td>12437</td>\n",
       "    </tr>\n",
       "  </tbody>\n",
       "</table>\n",
       "</div>"
      ],
      "text/plain": [
       "                   State  Enrolled Through November 1, 2011\n",
       "0                Alabama                                 61\n",
       "1                 Alaska                                 20\n",
       "2                Arizona                                270\n",
       "3               Arkansas                                147\n",
       "4             California                                706\n",
       "5               Colorado                                434\n",
       "6            Connecticut                                 22\n",
       "7               Delaware                                 34\n",
       "8   District of Columbia                                 10\n",
       "9                Florida                                613\n",
       "10               Georgia                                399\n",
       "11                Hawaii                                 23\n",
       "12                 Idaho                                 42\n",
       "13              Illinois                                943\n",
       "14               Indiana                                131\n",
       "15                  Iowa                                 80\n",
       "16                Kansas                                112\n",
       "17              Kentucky                                 56\n",
       "18             Louisiana                                 92\n",
       "19                 Maine                                 13\n",
       "20              Maryland                                145\n",
       "21        Massachusetts*                                  0\n",
       "22              Michigan                                 89\n",
       "23             Minnesota                                 29\n",
       "24           Mississippi                                 58\n",
       "25              Missouri                                166\n",
       "26               Montana                                153\n",
       "27              Nebraska                                 39\n",
       "28                Nevada                                125\n",
       "29         New Hampshire                                 78\n",
       "30            New Jersey                                216\n",
       "31            New Mexico                                198\n",
       "32              New York                                411\n",
       "33        North Carolina                                674\n",
       "34          North Dakota                                  5\n",
       "35                  Ohio                                726\n",
       "36              Oklahoma                                190\n",
       "37                Oregon                                483\n",
       "38          Pennsylvania                               2046\n",
       "39          Rhode Island                                 85\n",
       "40        South Carolina                                242\n",
       "41          South Dakota                                 62\n",
       "42             Tennessee                                171\n",
       "43                 Texas                               1007\n",
       "44                  Utah                                117\n",
       "45              Vermont*                                  0\n",
       "46              Virginia                                204\n",
       "47            Washington                                139\n",
       "48         West Virginia                                 15\n",
       "49             Wisconsin                                307\n",
       "50               Wyoming                                 49\n",
       "51                 Total                              12437"
      ]
     },
     "execution_count": 36,
     "metadata": {},
     "output_type": "execute_result"
    }
   ],
   "source": [
    "df.loc[:, ['State', 'Enrolled Through November 1, 2011']]"
   ]
  },
  {
   "cell_type": "code",
   "execution_count": null,
   "metadata": {},
   "outputs": [],
   "source": [
    "ifile  = open(csvfile, \"rt\")\n",
    "reader = csv.reader(ifile)\n",
    "\n",
    "rownum = 0\n",
    "for row in reader:\n",
    "    # Save header row.\n",
    "    if rownum == 0:\n",
    "        header = row\n",
    "    else:\n",
    "        colnum = 0\n",
    "        for col in row:\n",
    "            print(header[colnum] + \": \" + str(col))\n",
    "            colnum += 1\n",
    "            \n",
    "    rownum += 1"
   ]
  },
  {
   "cell_type": "markdown",
   "metadata": {},
   "source": [
    "Here, we went through and for every state, we listed out the number of enrollees per month."
   ]
  },
  {
   "cell_type": "markdown",
   "metadata": {},
   "source": [
    "## Quetion 5: What is the most recent month for which there is data?"
   ]
  },
  {
   "cell_type": "markdown",
   "metadata": {},
   "source": [
    "# CSV to ArcGIS Table"
   ]
  },
  {
   "cell_type": "markdown",
   "metadata": {},
   "source": [
    "Arcpy has a very nice function called [Table to Table](http://pro.arcgis.com/en/pro-app/tool-reference/conversion/table-to-table.htm) that will convert a CSV directly to a table in a geodatabase. This is very helpful when we want to make a non-spatial spreadsheet a spatial dataset. Let's use arcpy and Table to Table to import our ACA data. Let's also import os so that we can create the output geodatabase that will contain the table."
   ]
  },
  {
   "cell_type": "code",
   "execution_count": 37,
   "metadata": {},
   "outputs": [],
   "source": [
    "import arcpy\n",
    "import os"
   ]
  },
  {
   "cell_type": "code",
   "execution_count": 38,
   "metadata": {},
   "outputs": [
    {
     "name": "stdout",
     "output_type": "stream",
     "text": [
      "aca.gdb\n",
      "C:\\Users\\hanfordca\\Documents\\GitHub\\python-programming-spring-2020\\week 3\\data\\csv_demo_data\n"
     ]
    }
   ],
   "source": [
    "output_gdb = r'C:\\Users\\hanfordca\\Documents\\GitHub\\python-programming-spring-2020\\week 3\\data\\csv_demo_data\\aca.gdb'\n",
    "\n",
    "#Use os to split the output_gdb into a name and path\n",
    "gdb_name = os.path.basename(output_gdb)\n",
    "gdb_path = os.path.dirname(output_gdb)\n",
    "\n",
    "#print the name and path to verifiy that they are correct\n",
    "print(gdb_name)\n",
    "print(gdb_path)"
   ]
  },
  {
   "cell_type": "markdown",
   "metadata": {
    "collapsed": true
   },
   "source": [
    "Let's use arcpy to create a file geodatabase from the gdb_path and gdb_name."
   ]
  },
  {
   "cell_type": "code",
   "execution_count": 39,
   "metadata": {},
   "outputs": [
    {
     "ename": "ValueError",
     "evalue": "The truth value of a DataFrame is ambiguous. Use a.empty, a.bool(), a.item(), a.any() or a.all().",
     "output_type": "error",
     "traceback": [
      "\u001b[1;31m---------------------------------------------------------------------------\u001b[0m",
      "\u001b[1;31mValueError\u001b[0m                                Traceback (most recent call last)",
      "\u001b[1;32mC:\\Program Files\\ArcGIS\\Pro\\bin\\Python\\envs\\arcgispro-py3\\lib\\site-packages\\pandas\\core\\generic.py\u001b[0m in \u001b[0;36m__nonzero__\u001b[1;34m(self)\u001b[0m\n\u001b[0;32m   1574\u001b[0m         raise ValueError(\"The truth value of a {0} is ambiguous. \"\n\u001b[0;32m   1575\u001b[0m                          \u001b[1;34m\"Use a.empty, a.bool(), a.item(), a.any() or a.all().\"\u001b[0m\u001b[1;33m\u001b[0m\u001b[0m\n\u001b[1;32m-> 1576\u001b[1;33m                          .format(self.__class__.__name__))\n\u001b[0m\u001b[0;32m   1577\u001b[0m \u001b[1;33m\u001b[0m\u001b[0m\n\u001b[0;32m   1578\u001b[0m     \u001b[0m__bool__\u001b[0m \u001b[1;33m=\u001b[0m \u001b[0m__nonzero__\u001b[0m\u001b[1;33m\u001b[0m\u001b[0m\n",
      "\u001b[1;31mValueError\u001b[0m: The truth value of a DataFrame is ambiguous. Use a.empty, a.bool(), a.item(), a.any() or a.all()."
     ]
    },
    {
     "ename": "ValueError",
     "evalue": "The truth value of a DataFrame is ambiguous. Use a.empty, a.bool(), a.item(), a.any() or a.all().",
     "output_type": "error",
     "traceback": [
      "\u001b[1;31m---------------------------------------------------------------------------\u001b[0m",
      "\u001b[1;31mValueError\u001b[0m                                Traceback (most recent call last)",
      "\u001b[1;32mC:\\Program Files\\ArcGIS\\Pro\\bin\\Python\\envs\\arcgispro-py3\\lib\\site-packages\\pandas\\core\\generic.py\u001b[0m in \u001b[0;36m__nonzero__\u001b[1;34m(self)\u001b[0m\n\u001b[0;32m   1574\u001b[0m         raise ValueError(\"The truth value of a {0} is ambiguous. \"\n\u001b[0;32m   1575\u001b[0m                          \u001b[1;34m\"Use a.empty, a.bool(), a.item(), a.any() or a.all().\"\u001b[0m\u001b[1;33m\u001b[0m\u001b[0m\n\u001b[1;32m-> 1576\u001b[1;33m                          .format(self.__class__.__name__))\n\u001b[0m\u001b[0;32m   1577\u001b[0m \u001b[1;33m\u001b[0m\u001b[0m\n\u001b[0;32m   1578\u001b[0m     \u001b[0m__bool__\u001b[0m \u001b[1;33m=\u001b[0m \u001b[0m__nonzero__\u001b[0m\u001b[1;33m\u001b[0m\u001b[0m\n",
      "\u001b[1;31mValueError\u001b[0m: The truth value of a DataFrame is ambiguous. Use a.empty, a.bool(), a.item(), a.any() or a.all()."
     ]
    },
    {
     "ename": "ValueError",
     "evalue": "The truth value of a DataFrame is ambiguous. Use a.empty, a.bool(), a.item(), a.any() or a.all().",
     "output_type": "error",
     "traceback": [
      "\u001b[1;31m---------------------------------------------------------------------------\u001b[0m",
      "\u001b[1;31mValueError\u001b[0m                                Traceback (most recent call last)",
      "\u001b[1;32mC:\\Program Files\\ArcGIS\\Pro\\bin\\Python\\envs\\arcgispro-py3\\lib\\site-packages\\pandas\\core\\generic.py\u001b[0m in \u001b[0;36m__nonzero__\u001b[1;34m(self)\u001b[0m\n\u001b[0;32m   1574\u001b[0m         raise ValueError(\"The truth value of a {0} is ambiguous. \"\n\u001b[0;32m   1575\u001b[0m                          \u001b[1;34m\"Use a.empty, a.bool(), a.item(), a.any() or a.all().\"\u001b[0m\u001b[1;33m\u001b[0m\u001b[0m\n\u001b[1;32m-> 1576\u001b[1;33m                          .format(self.__class__.__name__))\n\u001b[0m\u001b[0;32m   1577\u001b[0m \u001b[1;33m\u001b[0m\u001b[0m\n\u001b[0;32m   1578\u001b[0m     \u001b[0m__bool__\u001b[0m \u001b[1;33m=\u001b[0m \u001b[0m__nonzero__\u001b[0m\u001b[1;33m\u001b[0m\u001b[0m\n",
      "\u001b[1;31mValueError\u001b[0m: The truth value of a DataFrame is ambiguous. Use a.empty, a.bool(), a.item(), a.any() or a.all()."
     ]
    },
    {
     "ename": "ValueError",
     "evalue": "The truth value of a DataFrame is ambiguous. Use a.empty, a.bool(), a.item(), a.any() or a.all().",
     "output_type": "error",
     "traceback": [
      "\u001b[1;31m---------------------------------------------------------------------------\u001b[0m",
      "\u001b[1;31mValueError\u001b[0m                                Traceback (most recent call last)",
      "\u001b[1;32mC:\\Program Files\\ArcGIS\\Pro\\bin\\Python\\envs\\arcgispro-py3\\lib\\site-packages\\pandas\\core\\generic.py\u001b[0m in \u001b[0;36m__nonzero__\u001b[1;34m(self)\u001b[0m\n\u001b[0;32m   1574\u001b[0m         raise ValueError(\"The truth value of a {0} is ambiguous. \"\n\u001b[0;32m   1575\u001b[0m                          \u001b[1;34m\"Use a.empty, a.bool(), a.item(), a.any() or a.all().\"\u001b[0m\u001b[1;33m\u001b[0m\u001b[0m\n\u001b[1;32m-> 1576\u001b[1;33m                          .format(self.__class__.__name__))\n\u001b[0m\u001b[0;32m   1577\u001b[0m \u001b[1;33m\u001b[0m\u001b[0m\n\u001b[0;32m   1578\u001b[0m     \u001b[0m__bool__\u001b[0m \u001b[1;33m=\u001b[0m \u001b[0m__nonzero__\u001b[0m\u001b[1;33m\u001b[0m\u001b[0m\n",
      "\u001b[1;31mValueError\u001b[0m: The truth value of a DataFrame is ambiguous. Use a.empty, a.bool(), a.item(), a.any() or a.all()."
     ]
    },
    {
     "ename": "ValueError",
     "evalue": "The truth value of a DataFrame is ambiguous. Use a.empty, a.bool(), a.item(), a.any() or a.all().",
     "output_type": "error",
     "traceback": [
      "\u001b[1;31m---------------------------------------------------------------------------\u001b[0m",
      "\u001b[1;31mValueError\u001b[0m                                Traceback (most recent call last)",
      "\u001b[1;32mC:\\Program Files\\ArcGIS\\Pro\\bin\\Python\\envs\\arcgispro-py3\\lib\\site-packages\\pandas\\core\\generic.py\u001b[0m in \u001b[0;36m__nonzero__\u001b[1;34m(self)\u001b[0m\n\u001b[0;32m   1574\u001b[0m         raise ValueError(\"The truth value of a {0} is ambiguous. \"\n\u001b[0;32m   1575\u001b[0m                          \u001b[1;34m\"Use a.empty, a.bool(), a.item(), a.any() or a.all().\"\u001b[0m\u001b[1;33m\u001b[0m\u001b[0m\n\u001b[1;32m-> 1576\u001b[1;33m                          .format(self.__class__.__name__))\n\u001b[0m\u001b[0;32m   1577\u001b[0m \u001b[1;33m\u001b[0m\u001b[0m\n\u001b[0;32m   1578\u001b[0m     \u001b[0m__bool__\u001b[0m \u001b[1;33m=\u001b[0m \u001b[0m__nonzero__\u001b[0m\u001b[1;33m\u001b[0m\u001b[0m\n",
      "\u001b[1;31mValueError\u001b[0m: The truth value of a DataFrame is ambiguous. Use a.empty, a.bool(), a.item(), a.any() or a.all()."
     ]
    },
    {
     "ename": "ValueError",
     "evalue": "The truth value of a DataFrame is ambiguous. Use a.empty, a.bool(), a.item(), a.any() or a.all().",
     "output_type": "error",
     "traceback": [
      "\u001b[1;31m---------------------------------------------------------------------------\u001b[0m",
      "\u001b[1;31mValueError\u001b[0m                                Traceback (most recent call last)",
      "\u001b[1;32mC:\\Program Files\\ArcGIS\\Pro\\bin\\Python\\envs\\arcgispro-py3\\lib\\site-packages\\pandas\\core\\generic.py\u001b[0m in \u001b[0;36m__nonzero__\u001b[1;34m(self)\u001b[0m\n\u001b[0;32m   1574\u001b[0m         raise ValueError(\"The truth value of a {0} is ambiguous. \"\n\u001b[0;32m   1575\u001b[0m                          \u001b[1;34m\"Use a.empty, a.bool(), a.item(), a.any() or a.all().\"\u001b[0m\u001b[1;33m\u001b[0m\u001b[0m\n\u001b[1;32m-> 1576\u001b[1;33m                          .format(self.__class__.__name__))\n\u001b[0m\u001b[0;32m   1577\u001b[0m \u001b[1;33m\u001b[0m\u001b[0m\n\u001b[0;32m   1578\u001b[0m     \u001b[0m__bool__\u001b[0m \u001b[1;33m=\u001b[0m \u001b[0m__nonzero__\u001b[0m\u001b[1;33m\u001b[0m\u001b[0m\n",
      "\u001b[1;31mValueError\u001b[0m: The truth value of a DataFrame is ambiguous. Use a.empty, a.bool(), a.item(), a.any() or a.all()."
     ]
    },
    {
     "ename": "ValueError",
     "evalue": "The truth value of a DataFrame is ambiguous. Use a.empty, a.bool(), a.item(), a.any() or a.all().",
     "output_type": "error",
     "traceback": [
      "\u001b[1;31m---------------------------------------------------------------------------\u001b[0m",
      "\u001b[1;31mValueError\u001b[0m                                Traceback (most recent call last)",
      "\u001b[1;32mC:\\Program Files\\ArcGIS\\Pro\\bin\\Python\\envs\\arcgispro-py3\\lib\\site-packages\\pandas\\core\\generic.py\u001b[0m in \u001b[0;36m__nonzero__\u001b[1;34m(self)\u001b[0m\n\u001b[0;32m   1574\u001b[0m         raise ValueError(\"The truth value of a {0} is ambiguous. \"\n\u001b[0;32m   1575\u001b[0m                          \u001b[1;34m\"Use a.empty, a.bool(), a.item(), a.any() or a.all().\"\u001b[0m\u001b[1;33m\u001b[0m\u001b[0m\n\u001b[1;32m-> 1576\u001b[1;33m                          .format(self.__class__.__name__))\n\u001b[0m\u001b[0;32m   1577\u001b[0m \u001b[1;33m\u001b[0m\u001b[0m\n\u001b[0;32m   1578\u001b[0m     \u001b[0m__bool__\u001b[0m \u001b[1;33m=\u001b[0m \u001b[0m__nonzero__\u001b[0m\u001b[1;33m\u001b[0m\u001b[0m\n",
      "\u001b[1;31mValueError\u001b[0m: The truth value of a DataFrame is ambiguous. Use a.empty, a.bool(), a.item(), a.any() or a.all()."
     ]
    },
    {
     "data": {
      "text/plain": [
       "<Result 'C:\\\\Users\\\\hanfordca\\\\Documents\\\\GitHub\\\\python-programming-spring-2020\\\\week 3\\\\data\\\\csv_demo_data\\\\aca.gdb'>"
      ]
     },
     "execution_count": 39,
     "metadata": {},
     "output_type": "execute_result"
    }
   ],
   "source": [
    "arcpy.CreateFileGDB_management(gdb_path, gdb_name)"
   ]
  },
  {
   "cell_type": "markdown",
   "metadata": {
    "collapsed": true
   },
   "source": [
    "Now that we've created a geodatabase, we can use [Table to Table](http://pro.arcgis.com/en/pro-app/tool-reference/conversion/table-to-table.htm) to import the CSV file into the geodatabase as a table. Let's go ahead and do that."
   ]
  },
  {
   "cell_type": "code",
   "execution_count": 40,
   "metadata": {},
   "outputs": [
    {
     "data": {
      "text/plain": [
       "<Result 'C:\\\\Users\\\\hanfordca\\\\Documents\\\\GitHub\\\\python-programming-spring-2020\\\\week 3\\\\data\\\\csv_demo_data\\\\aca.gdb\\\\enrollment_by_month'>"
      ]
     },
     "execution_count": 40,
     "metadata": {},
     "output_type": "execute_result"
    }
   ],
   "source": [
    "table_name = 'enrollment_by_month'\n",
    "arcpy.TableToTable_conversion(csvfile, output_gdb, table_name)"
   ]
  },
  {
   "cell_type": "markdown",
   "metadata": {},
   "source": [
    "## Question 6: Did it work? Open ArcMap and check!"
   ]
  },
  {
   "cell_type": "markdown",
   "metadata": {},
   "source": [
    "You can use arcpy to verify that it worked. Let's do a quick check."
   ]
  },
  {
   "cell_type": "code",
   "execution_count": 41,
   "metadata": {},
   "outputs": [
    {
     "data": {
      "text/plain": [
       "<Result '52'>"
      ]
     },
     "execution_count": 41,
     "metadata": {},
     "output_type": "execute_result"
    }
   ],
   "source": [
    "arcpy.env.workspace = output_gdb\n",
    "arcpy.GetCount_management(table_name)"
   ]
  },
  {
   "cell_type": "markdown",
   "metadata": {},
   "source": [
    "## Question 7: How many rows are in the table? Is this what you expected?"
   ]
  },
  {
   "cell_type": "markdown",
   "metadata": {
    "collapsed": true
   },
   "source": [
    "# Joining the Table to a Feature Class"
   ]
  },
  {
   "cell_type": "markdown",
   "metadata": {},
   "source": [
    "Now that we have imported the CSV into a table, we can very easily join it to a feature class. Next, we'll do just that. We will join the table we created with a USA states feature class in order to illustrate how we can use python to automate the whole workflow of converting a CSV to a feature class.\n",
    "\n",
    "In the Week_3\\data\\states_21basic folder there is a shapefile named states.shp. Let's look at that shapefile in ArcMap.\n",
    "1. Open ArcMap\n",
    "2. Add states.shp to the map.\n",
    "3. Open the attribute table. In the attribute table, you should see a field called STATE_NAME. Verify that this is true.\n",
    "4. Find you aca.gbd geodatabase. Add the enrollment_by_month table to the ArcMap Table of contents.\n",
    "5. Open the enrollment_by_month table. You should see a State field. Verify that this is true."
   ]
  },
  {
   "cell_type": "markdown",
   "metadata": {},
   "source": [
    "Now we will use the [Join Field](http://pro.arcgis.com/en/pro-app/tool-reference/data-management/join-field.htm) to join the table to the states.shp shapefile. If you haven't imported arcpy yet, import arcpy. Then, let's join the data together."
   ]
  },
  {
   "cell_type": "code",
   "execution_count": 42,
   "metadata": {},
   "outputs": [
    {
     "data": {
      "text/plain": [
       "<Result 'C:\\\\Users\\\\hanfordca\\\\Documents\\\\GitHub\\\\python-programming-spring-2020\\\\week 3\\\\data\\\\csv_demo_data\\\\states_21basic\\\\states.shp'>"
      ]
     },
     "execution_count": 42,
     "metadata": {},
     "output_type": "execute_result"
    }
   ],
   "source": [
    "import arcpy\n",
    "\n",
    "states = r'C:\\Users\\hanfordca\\Documents\\GitHub\\python-programming-spring-2020\\week 3\\data\\csv_demo_data\\states_21basic\\states.shp'\n",
    "state_join_field = 'STATE_NAME'\n",
    "table = r'C:\\Users\\hanfordca\\Documents\\GitHub\\python-programming-spring-2020\\week 3\\data\\csv_demo_data\\aca.gdb\\enrollment_by_month'\n",
    "table_join_field =  'State'\n",
    "\n",
    "arcpy.JoinField_management(states, state_join_field, table, table_join_field)"
   ]
  },
  {
   "cell_type": "markdown",
   "metadata": {},
   "source": [
    "## Question 8: Did it Work? Open ArcMap and verify. You may notice the some of the field names changed. Do you know why?"
   ]
  }
 ],
 "metadata": {
  "anaconda-cloud": {},
  "kernelspec": {
   "display_name": "Python 3",
   "language": "python",
   "name": "python3"
  },
  "language_info": {
   "codemirror_mode": {
    "name": "ipython",
    "version": 3
   },
   "file_extension": ".py",
   "mimetype": "text/x-python",
   "name": "python",
   "nbconvert_exporter": "python",
   "pygments_lexer": "ipython3",
   "version": "3.6.6"
  }
 },
 "nbformat": 4,
 "nbformat_minor": 1
}
