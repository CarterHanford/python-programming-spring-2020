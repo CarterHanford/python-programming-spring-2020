{
 "cells": [
  {
   "cell_type": "markdown",
   "metadata": {},
   "source": [
    "# Challenge 1"
   ]
  },
  {
   "cell_type": "code",
   "execution_count": 1,
   "metadata": {},
   "outputs": [
    {
     "data": {
      "text/plain": [
       "<Result 'C:/EsriPress/Python/Data/Exercise07\\\\Results\\\\seaports_ buffers.shp'>"
      ]
     },
     "execution_count": 1,
     "metadata": {},
     "output_type": "execute_result"
    }
   ],
   "source": [
    "import arcpy\n",
    "from arcpy import env\n",
    "env.workspace = \"C:/EsriPress/Python/Data/Exercise07\"\n",
    "\n",
    "#SQL statements to select features\n",
    "sql1 = \" \\\"FEATURE\\\" = 'Airport'\"\n",
    "sql2 = \" \\\"FEATURE\\\" = 'Seaplane Base'\"\n",
    "\n",
    "#Select\n",
    "arcpy.Select_analysis (\"airports.shp\", \"Results/airports_final.shp\", sql1)\n",
    "arcpy.Select_analysis (\"airports.shp\", \"Results/seaports.shp\", sql2)\n",
    "\n",
    "#Buffer\n",
    "arcpy.Buffer_analysis(\"Results/airports_final.shp\", \"Results/aiports_ buffers.shp\", \"15000 METERS\")\n",
    "arcpy.Buffer_analysis(\"Results/seaports.shp\", \"Results/seaports_ buffers.shp\", \"7500 METERS\")"
   ]
  },
  {
   "cell_type": "markdown",
   "metadata": {},
   "source": [
    "# Challenge 2"
   ]
  },
  {
   "cell_type": "code",
   "execution_count": 2,
   "metadata": {},
   "outputs": [],
   "source": [
    "import arcpy\n",
    "from arcpy import env\n",
    "env.workspace = \"C:/EsriPress/Python/Data/Exercise07\"\n",
    "fc = \"roads.shp\"\n",
    "\n",
    "#Create new FERRY field\n",
    "arcpy.AddField_management(fc, \"FERRY\", \"TEXT\", \"\", \"\", 20)\n",
    "\n",
    "#create cursor object\n",
    "cursor = arcpy.da.UpdateCursor(fc, [\"FEATURE\", \"FERRY\"])\n",
    "\n",
    "#Update fields\n",
    "for row in cursor:\n",
    "    if row[0] == \"Ferry Crossing\":\n",
    "        row[1] = \"YES\"\n",
    "    else:\n",
    "        row[1]= \"NO\"\n",
    "    cursor.updateRow(row)\n"
   ]
  },
  {
   "cell_type": "code",
   "execution_count": null,
   "metadata": {},
   "outputs": [],
   "source": []
  }
 ],
 "metadata": {
  "kernelspec": {
   "display_name": "Python 3",
   "language": "python",
   "name": "python3"
  },
  "language_info": {
   "codemirror_mode": {
    "name": "ipython",
    "version": 3
   },
   "file_extension": ".py",
   "mimetype": "text/x-python",
   "name": "python",
   "nbconvert_exporter": "python",
   "pygments_lexer": "ipython3",
   "version": "3.6.6"
  }
 },
 "nbformat": 4,
 "nbformat_minor": 2
}
