{
 "cells": [
  {
   "cell_type": "markdown",
   "metadata": {},
   "source": [
    "# Homework 4 - GIS5090\n",
    "## Carter Hanford"
   ]
  },
  {
   "cell_type": "markdown",
   "metadata": {},
   "source": [
    "Homework 4 is a walkthrough of exercise 07 from `Zandbergen`, which serves as an introduction to using cursors within ArcPro."
   ]
  },
  {
   "cell_type": "markdown",
   "metadata": {},
   "source": [
    "### Part 1 - printvalues.py\n",
    "This section will create a python script which reads and prints all values from the airport shapefile."
   ]
  },
  {
   "cell_type": "code",
   "execution_count": 4,
   "metadata": {},
   "outputs": [
    {
     "name": "stdout",
     "output_type": "stream",
     "text": [
      "Airport name = Hyder\n",
      "Airport name = Chignik Lagoon\n",
      "Airport name = Koyuk\n",
      "Airport name = Kivalina\n",
      "Airport name = Ketchikan Harbor\n",
      "Airport name = Metlakatla\n",
      "Airport name = Waterfall\n",
      "Airport name = Ketchikan\n",
      "Airport name = Kasaan\n",
      "Airport name = Hollis\n",
      "Airport name = Craig\n",
      "Airport name = Thorne Bay\n",
      "Airport name = Coffman Cove\n",
      "Airport name = Meyers Chuck\n",
      "Airport name = Klawock\n",
      "Airport name = Yes Bay Lodge\n",
      "Airport name = Wrangell\n",
      "Airport name = Petersburg James A. Johnson\n",
      "Airport name = Kake\n",
      "Airport name = Sitka Rocky Gutierrez\n",
      "Airport name = Angoon\n",
      "Airport name = Funter Bay\n",
      "Airport name = Tenakee\n",
      "Airport name = Hawk Inlet\n",
      "Airport name = Hoonah\n",
      "Airport name = Juneau International\n",
      "Airport name = Pelican\n",
      "Airport name = Elfin Cove\n",
      "Airport name = Excursion Inlet\n",
      "Airport name = Gustavus\n",
      "Airport name = Haines\n",
      "Airport name = Skagway\n",
      "Airport name = Yakutat\n",
      "Airport name = Icy Bay\n",
      "Airport name = Alitak\n",
      "Airport name = Akhiok\n",
      "Airport name = San Juan/Uganik Bay\n",
      "Airport name = Old Harbor\n",
      "Airport name = Larsen Bay\n",
      "Airport name = Trident Basin\n",
      "Airport name = Kodiak\n",
      "Airport name = Ouzinkie\n",
      "Airport name = Port Lions\n",
      "Airport name = Merle K. (Mudhole) Smith\n",
      "Airport name = Sand Point\n",
      "Airport name = Ivanof Bay\n",
      "Airport name = Perryville\n",
      "Airport name = Chignik Fisheries\n",
      "Airport name = Chignik Lake\n",
      "Airport name = Chignik\n",
      "Airport name = Karluk\n",
      "Airport name = Port Graham\n",
      "Airport name = Seldovia\n",
      "Airport name = English Bay\n",
      "Airport name = Homer\n",
      "Airport name = Seward\n",
      "Airport name = Girdwood\n",
      "Airport name = Valdez\n",
      "Airport name = Chitina\n",
      "Airport name = Gulkana\n",
      "Airport name = Tetlin\n",
      "Airport name = King Cove\n",
      "Airport name = Cold Bay\n",
      "Airport name = False Pass\n",
      "Airport name = Port Heiden\n",
      "Airport name = Pilot Point\n",
      "Airport name = Egegik\n",
      "Airport name = Lake Brooks\n",
      "Airport name = Levelock\n",
      "Airport name = King Salmon\n",
      "Airport name = South Naknek Nr 2\n",
      "Airport name = Tibbetts\n",
      "Airport name = Kulik Lake\n",
      "Airport name = Kokhanok\n",
      "Airport name = Pedro Bay\n",
      "Airport name = Igiugig\n",
      "Airport name = Nondalton\n",
      "Airport name = Port Alsworth\n",
      "Airport name = Soldotna\n",
      "Airport name = Kenai Municipal\n",
      "Airport name = Tyonek\n",
      "Airport name = Trading Bay Production\n",
      "Airport name = Beluga\n",
      "Airport name = Merrill Field\n",
      "Airport name = Lake Hood\n",
      "Airport name = Elmendorf Air Force Base\n",
      "Airport name = Palmer Municipal\n",
      "Airport name = Willow\n",
      "Airport name = Skelton\n",
      "Airport name = Tok\n",
      "Airport name = Eagle\n",
      "Airport name = Akutan\n",
      "Airport name = Unalaska\n",
      "Airport name = Ekuk\n",
      "Airport name = Clarks Point\n",
      "Airport name = Manokotak\n",
      "Airport name = Ekwok\n",
      "Airport name = Dillingham\n",
      "Airport name = Koliganek\n",
      "Airport name = Skwentna\n",
      "Airport name = Talkeetna\n",
      "Airport name = McKinley National Park\n",
      "Airport name = Platinum\n",
      "Airport name = Goodnews\n",
      "Airport name = Twin Hills\n",
      "Airport name = Togiak\n",
      "Airport name = Stony River 2\n",
      "Airport name = Sleetmute\n",
      "Airport name = Nikolai\n",
      "Airport name = Kantishna\n",
      "Airport name = Minchumina\n",
      "Airport name = Healy River\n",
      "Airport name = Eielson Air Force Base\n",
      "Airport name = Wainwright Army Air Field\n",
      "Airport name = Fairbanks International\n",
      "Airport name = Circle City\n",
      "Airport name = Chalkyitsik\n",
      "Airport name = Atka\n",
      "Airport name = Quinhagak\n",
      "Airport name = Eek\n",
      "Airport name = Kongiganak\n",
      "Airport name = Kwigillingok\n",
      "Airport name = Tuntutuliak\n",
      "Airport name = Akiak\n",
      "Airport name = Kwethluk\n",
      "Airport name = Tuluksak\n",
      "Airport name = Napaskiak\n",
      "Airport name = Akiachak\n",
      "Airport name = Napakiak\n",
      "Airport name = Bethel\n",
      "Airport name = Aniak\n",
      "Airport name = Kalskag\n",
      "Airport name = Red Devil\n",
      "Airport name = Crooked Creek\n",
      "Airport name = McGrath\n",
      "Airport name = Ralph M. Calhoun Memorial\n",
      "Airport name = Minto\n",
      "Airport name = Rampart\n",
      "Airport name = Stevens Village\n",
      "Airport name = Beaver\n",
      "Airport name = Birch Creek\n",
      "Airport name = Fort Yukon\n",
      "Airport name = Venetie\n",
      "Airport name = Adak Naval Air Facility\n",
      "Airport name = Saint George\n",
      "Airport name = Saint Paul Island\n",
      "Airport name = Newtok\n",
      "Airport name = Kipnuk\n",
      "Airport name = Chefornak\n",
      "Airport name = Nightmute\n",
      "Airport name = Toksook Bay\n",
      "Airport name = Tununak\n",
      "Airport name = Atmautluak\n",
      "Airport name = Nunapitchuk\n",
      "Airport name = Kasigluk\n",
      "Airport name = Russian Mission\n",
      "Airport name = Marshall\n",
      "Airport name = Pilot Station\n",
      "Airport name = Holy Cross\n",
      "Airport name = Shageluk\n",
      "Airport name = Anvik\n",
      "Airport name = Grayling\n",
      "Airport name = Edward G. Pitka Sr.\n",
      "Airport name = Ruby\n",
      "Airport name = Bettles\n",
      "Airport name = New Allakaket\n",
      "Airport name = Prospect Creek\n",
      "Airport name = Coldfoot\n",
      "Airport name = Arctic Village\n",
      "Airport name = Mekoryuk\n",
      "Airport name = Hooper Bay\n",
      "Airport name = Mountain Village\n",
      "Airport name = Chevak\n",
      "Airport name = Scammon Bay\n",
      "Airport name = Saint Mary's\n",
      "Airport name = Sheldon Point\n",
      "Airport name = Saint Michael\n",
      "Airport name = Stebbins\n",
      "Airport name = Unalakleet\n",
      "Airport name = Shaktoolik\n",
      "Airport name = Kaltag\n",
      "Airport name = Nulato\n",
      "Airport name = Huslia\n",
      "Airport name = Hughes\n",
      "Airport name = Anaktuvuk Pass\n",
      "Airport name = Galbraith Lake\n",
      "Airport name = Barter Island LRRS\n",
      "Airport name = Alakanuk\n",
      "Airport name = Emmonak\n",
      "Airport name = Elim\n",
      "Airport name = Golovin\n",
      "Airport name = White Mountain\n",
      "Airport name = Buckland\n",
      "Airport name = Selawik\n",
      "Airport name = Kobuk\n",
      "Airport name = Shungnak\n",
      "Airport name = Ambler\n",
      "Airport name = Deadhorse\n",
      "Airport name = Nome\n",
      "Airport name = Deering\n",
      "Airport name = Bob Baker Memorial\n",
      "Airport name = Robert (Bob) Curtis Memorial\n",
      "Airport name = Ralph Wien Memorial\n",
      "Airport name = Nuiqsut\n",
      "Airport name = Savoonga\n",
      "Airport name = Teller\n",
      "Airport name = Brevig Mission\n",
      "Airport name = Shishmaref\n",
      "Airport name = Wales\n",
      "Airport name = Noatak\n",
      "Airport name = Red Dog\n",
      "Airport name = Atqasuk Edward Burnell Sr. Memorial\n",
      "Airport name = Gambell\n",
      "Airport name = Point Hope\n",
      "Airport name = Point Lay LRRS\n",
      "Airport name = Wainwright\n",
      "Airport name = Wiley Post-Will Rogers Memorial\n",
      "Airport name = New Stuyahok\n",
      "Airport name = Ted Stevens Anchorage International\n",
      "Airport name = Iliamna\n",
      "Airport name = Koyukuk\n",
      "Wall time: 15.6 ms\n"
     ]
    }
   ],
   "source": [
    "%%time\n",
    "\n",
    "import arcpy\n",
    "from arcpy import env\n",
    "arcpy.env.workspace = r'C:\\Users\\hanfordca\\Documents\\GitHub\\python-programming-spring-2020\\week 4 - feature data in arcpy\\data\\Exercise07'\n",
    "\n",
    "# creating a feature class object for airports\n",
    "fc = \"airports.shp\"\n",
    "cursor = arcpy.da.SearchCursor(fc, [\"NAME\"])\n",
    "\n",
    "# for loop which prints all airport names\n",
    "for row in cursor:\n",
    "    print (\"Airport name = {0}\".format(row[0]))"
   ]
  },
  {
   "cell_type": "markdown",
   "metadata": {},
   "source": [
    "### Part 2 - SQL.py\n",
    "This section creates a python script where only the names of the airports for which the SQL expression is true are printed."
   ]
  },
  {
   "cell_type": "code",
   "execution_count": 5,
   "metadata": {},
   "outputs": [
    {
     "name": "stdout",
     "output_type": "stream",
     "text": [
      "Ketchikan\n",
      "Juneau International\n",
      "Kenai Municipal\n",
      "Fairbanks International\n",
      "Bethel\n",
      "Ted Stevens Anchorage International\n"
     ]
    }
   ],
   "source": [
    "# we do not need to import arcpy or set the workspace again\n",
    "cursor = arcpy.da.SearchCursor(fc, [\"NAME\"], '\"TOT_ENP\" > 100000')\n",
    "\n",
    "for row in cursor:\n",
    "    print (row[0])\n",
    "\n",
    "del row\n",
    "del cursor"
   ]
  },
  {
   "cell_type": "markdown",
   "metadata": {},
   "source": [
    "The syntax in the code above can cause issues, according to the exercise, so we'll need to modify the script so that python knows when we are working with numeric fields or text fields, and thus not produce a syntax error. We'll use `\\` to work around this problem."
   ]
  },
  {
   "cell_type": "code",
   "execution_count": 7,
   "metadata": {},
   "outputs": [
    {
     "name": "stdout",
     "output_type": "stream",
     "text": [
      "Hyder\n",
      "Ketchikan Harbor\n",
      "Metlakatla\n",
      "Waterfall\n",
      "Kasaan\n",
      "Hollis\n",
      "Craig\n",
      "Thorne Bay\n",
      "Coffman Cove\n",
      "Meyers Chuck\n",
      "Yes Bay Lodge\n",
      "Kake\n",
      "Angoon\n",
      "Funter Bay\n",
      "Tenakee\n",
      "Hawk Inlet\n",
      "Pelican\n",
      "Elfin Cove\n",
      "Excursion Inlet\n",
      "Alitak\n",
      "San Juan/Uganik Bay\n",
      "Trident Basin\n",
      "Ivanof Bay\n",
      "Lake Brooks\n",
      "Lake Hood\n",
      "Akutan\n",
      "Akiachak\n",
      "Newtok\n"
     ]
    }
   ],
   "source": [
    "cursor = arcpy.da.SearchCursor(fc, [\"NAME\"], '\"FEATURE\" = \\'Seaplane Base\\'')\n",
    "\n",
    "for row in cursor:\n",
    "    print (row[0])"
   ]
  },
  {
   "cell_type": "markdown",
   "metadata": {},
   "source": [
    "There are other syntax issues when working with SQL expressions, such as working with shapefiles and file geodatabases, so we'll ammend our script again to work with field delimiters. The ammended script below corresponds with the `select.py` section of the exercise."
   ]
  },
  {
   "cell_type": "code",
   "execution_count": 9,
   "metadata": {},
   "outputs": [
    {
     "name": "stdout",
     "output_type": "stream",
     "text": [
      "Girdwood\n",
      "Merrill Field\n",
      "Lake Hood\n",
      "Elmendorf Air Force Base\n",
      "Ted Stevens Anchorage International\n"
     ]
    }
   ],
   "source": [
    "# no need to import arcpy or our workspace environment\n",
    "delimitedField = arcpy.AddFieldDelimiters(fc, \"COUNTY\")\n",
    "\n",
    "\n",
    "# set cursor\n",
    "cursor = arcpy.da.SearchCursor(fc, [\"NAME\"], delimitedField + \n",
    "                               \" = 'Anchorage Borough'\")\n",
    "\n",
    "# create script\n",
    "for row in cursor:\n",
    "    print(row[0])\n",
    "\n",
    "del row\n",
    "del cursor"
   ]
  },
  {
   "cell_type": "markdown",
   "metadata": {},
   "source": [
    "We will now save the new fields into our `results` folder:"
   ]
  },
  {
   "cell_type": "code",
   "execution_count": 10,
   "metadata": {},
   "outputs": [
    {
     "data": {
      "text/plain": [
       "<Result 'C:\\\\Users\\\\hanfordca\\\\Documents\\\\GitHub\\\\python-programming-spring-2020\\\\week 4 - working with feature data in arcpy\\\\data\\\\Exercise07\\\\Results\\\\airports_anchorage.shp'>"
      ]
     },
     "execution_count": 10,
     "metadata": {},
     "output_type": "execute_result"
    }
   ],
   "source": [
    "# create input and output feature class\n",
    "infc = \"airports.shp\"\n",
    "outfc = \"Results/airports_anchorage.shp\"\n",
    "\n",
    "delimitedField = arcpy.AddFieldDelimiters(infc, \"COUNTY\")\n",
    "arcpy.Select_analysis(infc, outfc, delimitedField + \n",
    "                      \" = 'Anchorage Borough'\")"
   ]
  },
  {
   "cell_type": "markdown",
   "metadata": {},
   "source": [
    "By checking the results folder in our workspace directory, I can confirm that the new anchorage borough shapefiles are indeed in the correct folder!"
   ]
  },
  {
   "cell_type": "markdown",
   "metadata": {},
   "source": [
    "### Part 3 - update.py"
   ]
  },
  {
   "cell_type": "code",
   "execution_count": 12,
   "metadata": {},
   "outputs": [],
   "source": [
    "# we don't need to import arcpy or our workspace env\n",
    "fc = \"Results/airports.shp\"\n",
    "delimField = arcpy.AddFieldDelimiters(fc, \"STATE\")\n",
    "\n",
    "# set cursor\n",
    "cursor = arcpy.da.UpdateCursor(fc, [\"STATE\"], delimField + \n",
    "                              \" <> 'AK'\")\n",
    "\n",
    "# for loop\n",
    "for row in cursor:\n",
    "    row[0] = \"AK\"\n",
    "    cursor.updateRow(row)\n",
    "\n",
    "del row\n",
    "del cursor"
   ]
  },
  {
   "cell_type": "markdown",
   "metadata": {},
   "source": [
    "This python script takes the `STATE` column in our airport shapefile and updates the fields to include Alaska."
   ]
  },
  {
   "cell_type": "markdown",
   "metadata": {},
   "source": [
    "### Part 4 - delete.py"
   ]
  },
  {
   "cell_type": "code",
   "execution_count": 3,
   "metadata": {},
   "outputs": [],
   "source": [
    "# we can use the same feature class object\n",
    "fc = \"Results/airports.shp\"\n",
    "cursor = arcpy.da.UpdateCursor(fc, [\"TOT_ENP\"])\n",
    "\n",
    "# for loop\n",
    "for row in cursor:\n",
    "    if row[0] < 100000:\n",
    "        cursor.deleteRow()\n",
    "        \n",
    "del row\n",
    "del cursor"
   ]
  },
  {
   "cell_type": "markdown",
   "metadata": {},
   "source": [
    "### Part 5 - insert.py"
   ]
  },
  {
   "cell_type": "code",
   "execution_count": 4,
   "metadata": {},
   "outputs": [],
   "source": [
    "# we can use the same feature class object\n",
    "arcpy.env.workspace = r'C:\\Users\\hanfordca\\Documents\\GitHub\\python-programming-spring-2020\\week 4 - feature data in arcpy\\data\\Exercise07'\n",
    "\n",
    "fc = \"Results/airports.shp\"\n",
    "cursor = arcpy.da.InsertCursor(fc, \"NAME\")\n",
    "cursor.insertRow([\"New Airport\"])\n",
    "del cursor"
   ]
  },
  {
   "cell_type": "markdown",
   "metadata": {},
   "source": [
    "Part 4 and 5 of the exercise use `update` and `insert` cursors to change and work with values in our shapefiles. "
   ]
  },
  {
   "cell_type": "markdown",
   "metadata": {},
   "source": [
    "### Part 6 - validatefield.py"
   ]
  },
  {
   "cell_type": "code",
   "execution_count": 5,
   "metadata": {},
   "outputs": [
    {
     "data": {
      "text/plain": [
       "<Result 'C:\\\\Users\\\\hanfordca\\\\Documents\\\\GitHub\\\\python-programming-spring-2020\\\\week 4 - working with feature data in arcpy\\\\data\\\\Exercise07\\\\Results/airports.shp'>"
      ]
     },
     "execution_count": 5,
     "metadata": {},
     "output_type": "execute_result"
    }
   ],
   "source": [
    "fc = \"Results/airports.shp\"\n",
    "newfield = \"NEW CODE\"\n",
    "fieldtype = \"TEXT\"\n",
    "fieldname = arcpy.ValidateFieldName(newfield)\n",
    "\n",
    "arcpy.AddField_management(fc, fieldname, fieldtype, \"\", \"\", 12)"
   ]
  },
  {
   "cell_type": "markdown",
   "metadata": {},
   "source": [
    "We can confirm this worked by opening ArcPro and checking the attribute table for the airport shapefile. We can modify the code slightly to replace all invalid characters with an underscore:"
   ]
  },
  {
   "cell_type": "code",
   "execution_count": 6,
   "metadata": {},
   "outputs": [
    {
     "data": {
      "text/plain": [
       "<Result 'C:\\\\Users\\\\hanfordca\\\\Documents\\\\GitHub\\\\python-programming-spring-2020\\\\week 4 - working with feature data in arcpy\\\\data\\\\Exercise07\\\\Results/airports.shp'>"
      ]
     },
     "execution_count": 6,
     "metadata": {},
     "output_type": "execute_result"
    }
   ],
   "source": [
    "fc = \"Results/airports.shp\"\n",
    "newfield = \"NEW?*&$\"\n",
    "fieldtype = \"TEXT\"\n",
    "fieldname = arcpy.ValidateFieldName(newfield)\n",
    "\n",
    "arcpy.AddField_management(fc, fieldname, fieldtype, \"\", \"\", 12)"
   ]
  },
  {
   "cell_type": "markdown",
   "metadata": {},
   "source": [
    "We can modify this even further:"
   ]
  },
  {
   "cell_type": "code",
   "execution_count": 8,
   "metadata": {},
   "outputs": [
    {
     "name": "stdout",
     "output_type": "stream",
     "text": [
      "Field name already exists.\n"
     ]
    }
   ],
   "source": [
    "newfield = \"NEW CODE\"\n",
    "fieldtype = \"TEXT\"\n",
    "fieldname = arcpy.ValidateFieldName(newfield)\n",
    "fieldlist = arcpy.ListFields(fc)\n",
    "fieldnames = []\n",
    "\n",
    "# for loop\n",
    "for field in fieldlist:\n",
    "    fieldnames.append(field.name)\n",
    "if fieldname not in fieldnames:\n",
    "    arcpy.AddField_management(fc, fieldname, fieldtype, \"\", \"\", 12)\n",
    "    print (\"New field has been added.\")\n",
    "else: \n",
    "    print (\"Field name already exists.\")"
   ]
  },
  {
   "cell_type": "markdown",
   "metadata": {},
   "source": [
    "### Part 7 - unique_name.py"
   ]
  },
  {
   "cell_type": "code",
   "execution_count": 11,
   "metadata": {},
   "outputs": [
    {
     "data": {
      "text/plain": [
       "<Result 'C:\\\\Users\\\\hanfordca\\\\Documents\\\\GitHub\\\\python-programming-spring-2020\\\\week 4 - working with feature data in arcpy\\\\data\\\\Exercise07\\\\Results\\\\buffer0.shp'>"
      ]
     },
     "execution_count": 11,
     "metadata": {},
     "output_type": "execute_result"
    }
   ],
   "source": [
    "fc = \"airports.shp\"\n",
    "unique_name = arcpy.CreateUniqueName(\"Results/buffer.shp\")\n",
    "\n",
    "# create buffer shapefile\n",
    "arcpy.Buffer_analysis(fc, unique_name, \"5000 METERS\")"
   ]
  },
  {
   "cell_type": "markdown",
   "metadata": {},
   "source": [
    "We can confirm this code worked by checking our results folder for the new shapefile. Each time we run this code, it creates a new buffer shapefile which looks like this:\n",
    " * buffer0.shp\n",
    " * buffer1.shp\n",
    " * buffer(n).shp for n times"
   ]
  },
  {
   "cell_type": "markdown",
   "metadata": {},
   "source": [
    "### Challenge 2\n",
    "Challenge two asks us to write a script that adds a text field to the roads shapefile called `FERRY` and populates the field with YES and NO depending on the value of the `FEATURE` field."
   ]
  },
  {
   "cell_type": "code",
   "execution_count": 21,
   "metadata": {},
   "outputs": [
    {
     "name": "stdout",
     "output_type": "stream",
     "text": [
      "<da.UpdateCursor object at 0x00000243370F4710>\n"
     ]
    }
   ],
   "source": [
    "fc = \"roads.shp\"\n",
    "newfield = \"FERRY\"\n",
    "fieldtype = \"TEXT\"\n",
    "fieldname = arcpy.ValidateFieldName(newfield)\n",
    "fieldlist = arcpy.ListFields(fc)\n",
    "arcpy.AddField_management(fc, fieldname, fieldtype, \"\", \"\", 12)\n",
    "\n",
    "cursor = arcpy.da.UpdateCursor(fc, [\"FEATURE\", \"FERRY\"])\n",
    "\n",
    "# create for loop to populate field in FERRY\n",
    "for row in cursor:\n",
    "    if row[0] == \"Ferry Crossing\":\n",
    "        row[1] = \"YES\"\n",
    "    else:\n",
    "        row[1] = \"NO\"\n",
    "    cursor.updateRow(row)\n",
    "    \n",
    "del row\n",
    "del cursor"
   ]
  }
 ],
 "metadata": {
  "kernelspec": {
   "display_name": "Python 3",
   "language": "python",
   "name": "python3"
  },
  "language_info": {
   "codemirror_mode": {
    "name": "ipython",
    "version": 3
   },
   "file_extension": ".py",
   "mimetype": "text/x-python",
   "name": "python",
   "nbconvert_exporter": "python",
   "pygments_lexer": "ipython3",
   "version": "3.6.6"
  }
 },
 "nbformat": 4,
 "nbformat_minor": 2
}
