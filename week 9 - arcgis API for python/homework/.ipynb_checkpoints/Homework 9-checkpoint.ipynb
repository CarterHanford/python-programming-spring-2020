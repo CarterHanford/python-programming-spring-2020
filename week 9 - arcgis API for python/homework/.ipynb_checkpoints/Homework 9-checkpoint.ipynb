{
 "cells": [
  {
   "cell_type": "markdown",
   "metadata": {},
   "source": [
    "# Homework 9 \n",
    "## GIS5090\n",
    "### Carter Hanford\n",
    "This is the Jupyter notebook for Homework 9 in GIS5090 - Intro to Python for GIS & Remote Sensing. This homework deals with using the ArcGIS API for Python. \n",
    "\n",
    "This homework asks us to create a Jupyter notebook which includes the following:\n",
    "* `Contains a map.`\n",
    "* `Zooms to a particular city of interest.`\n",
    "* `Changes the basemap from the default Terrain basemap.`\n",
    "* `Please use Markdown to apply meaningful descriptions of your steps.`\n",
    "* `Contains at least 3 layers, not including the basemap.`"
   ]
  },
  {
   "cell_type": "markdown",
   "metadata": {},
   "source": [
    "In this case, the particular city of interest will be St. Louis city, Missouri. We'll start by creating the map layer. We'll write the map we import to an object called `map1` and as we make changes to the map down the notebook, this original layer will be updated with the changes. "
   ]
  },
  {
   "cell_type": "code",
   "execution_count": 28,
   "metadata": {
    "scrolled": true
   },
   "outputs": [
    {
     "name": "stdout",
     "output_type": "stream",
     "text": [
      "Enter password: ········\n"
     ]
    }
   ],
   "source": [
    "# import modules\n",
    "import arcpy\n",
    "import arcgis \n",
    "from arcgis import GIS\n",
    "from arcgis.features import SpatialDataFrame\n",
    "from arcgis.features import FeatureLayer\n",
    "\n",
    "# connect to arcgis online\n",
    "gis = GIS(\"http://slustl.maps.arcgis.com/home\", \"carter.hanford_SLUSTL\")"
   ]
  },
  {
   "cell_type": "code",
   "execution_count": 52,
   "metadata": {},
   "outputs": [
    {
     "data": {
      "application/vnd.jupyter.widget-view+json": {
       "model_id": "4109fc2c9ef743df8a3a4612fca6b287",
       "version_major": 2,
       "version_minor": 0
      },
      "text/plain": [
       "MapView(layout=Layout(height='400px', width='100%'))"
      ]
     },
     "metadata": {},
     "output_type": "display_data"
    },
    {
     "data": {
      "text/html": [
       "<div class=\"map-static-img-preview-ad9bc58c-510c-4594-8852-12a0fa84c92d\"><img src=\"\"></img></div>"
      ],
      "text/plain": [
       "<IPython.core.display.HTML object>"
      ]
     },
     "metadata": {},
     "output_type": "display_data"
    }
   ],
   "source": [
    "# build map\n",
    "map1 = gis.map('Missouri')\n",
    "map1.basemap = 'streets-vector'\n",
    "\n",
    "# zoom to st. louis\n",
    "location = arcgis.geocoding.geocode('St. Louis, MO', max_locations = 1)[0]\n",
    "map1.extent = location['extent']\n",
    "map1"
   ]
  },
  {
   "cell_type": "markdown",
   "metadata": {},
   "source": [
    "Now that we have a map of St. Louis City, we can continue with the analysis and include some content layers. We're already connected to ArcGIS online, so we can search some layers to add to our map.\n",
    "\n",
    "One of the layers that I want to add to this map are the `census tracts`. I work with census tracts for all of my research, so replicating that here will be useful. "
   ]
  },
  {
   "cell_type": "code",
   "execution_count": 53,
   "metadata": {},
   "outputs": [],
   "source": [
    "# search layers\n",
    "demographic_layers = gis.content.search(\"USA Demographics\", outside_org=True, item_type=\"Feature Layer\")\n",
    "demographic_layers\n",
    "#type(demographic_layers[4])\n",
    "\n",
    "# add census tracts layer & query to St. Louis City\n",
    "fl = FeatureLayer(demographic_layers[4].layers[0].url, gis = gis)\n",
    "sub_fl = fl.query(\"CNTY_FIPS = '510'\")\n",
    "map1.add_layer(sub_fl)"
   ]
  },
  {
   "cell_type": "markdown",
   "metadata": {},
   "source": [
    "Now that we've got our census tracts layer onto the map, let's add some more content. \n",
    "\n",
    "I searched our SLU ArcGIS organization website and found someone who made a map of St. Louis basketball courts. Let's add that feature service to our map:"
   ]
  },
  {
   "cell_type": "code",
   "execution_count": 54,
   "metadata": {},
   "outputs": [
    {
     "name": "stdout",
     "output_type": "stream",
     "text": [
      "[<Item title:\"STL_Basketball_Courts___Basketball_Court_Centroid_Density\" type:Feature Layer Collection owner:abrok_SLU>, <Item title:\"Buffer_of_STL_Basketball_Courts___Basketball_Court_Centroid__Buffer\" type:Feature Layer Collection owner:abrok_SLU>, <Item title:\"STL_Basketball_Courts\" type:Feature Layer Collection owner:abrok_SLU>]\n"
     ]
    }
   ],
   "source": [
    "# retrieve basketball courts feature layer\n",
    "items = gis.content.search('title:STL_Basketball_Courts owner:abrok_SLU', 'feature layer')\n",
    "print(items)\n",
    "\n",
    "# add basketball courts to map\n",
    "fl_bball = FeatureLayer(items[2].url, gis = gis)\n",
    "map1.add_layer(fl_bball)\n",
    "\n",
    "# add basketball courts buffer to map\n",
    "fl_bball_buffer = FeatureLayer(items[1].url, gis = gis)\n",
    "map1.add_layer(fl_bball_buffer)"
   ]
  },
  {
   "cell_type": "markdown",
   "metadata": {},
   "source": [
    "Now we have three layers on our original map of St. Louis City. First, we added `census tracts` layer and used a query to filter to St. Louis City. Next, we added point data from a feature service which includes basketball courts in St. Louis, and finally, we added buffers which correspond with those courts. \n",
    "\n",
    "* Hey Dr. Brunner, any tips for working with symbology using mapview in ArcGIS? I want to change the color schemes of the points and census tracts on this map but not sure how. "
   ]
  },
  {
   "cell_type": "markdown",
   "metadata": {},
   "source": [
    "## Part 2 - Geocoding \n",
    "Part 2 of this homework assignment has us dealing with the `addresses.csv` folder downloaded from blackboard. We're asked to geocode these addresses, add them to a map, then save the map and compare any commonalities between the addresses.\n",
    "\n",
    "We'll need some other modules for this problem, so let's load them up and read in the data:"
   ]
  },
  {
   "cell_type": "code",
   "execution_count": 96,
   "metadata": {},
   "outputs": [
    {
     "data": {
      "application/vnd.jupyter.widget-view+json": {
       "model_id": "248db17ff46e42ea8dbb6797f006768d",
       "version_major": 2,
       "version_minor": 0
      },
      "text/plain": [
       "MapView(layout=Layout(height='400px', width='100%'))"
      ]
     },
     "metadata": {},
     "output_type": "display_data"
    },
    {
     "data": {
      "text/html": [
       "<div class=\"map-static-img-preview-60473adc-fbe3-4591-8a22-70e48316309b\"><img src=\"\"></img></div>"
      ],
      "text/plain": [
       "<IPython.core.display.HTML object>"
      ]
     },
     "metadata": {},
     "output_type": "display_data"
    }
   ],
   "source": [
    "# create new map \n",
    "new_map = gis.map(\"United States\")\n",
    "new_map"
   ]
  },
  {
   "cell_type": "code",
   "execution_count": 103,
   "metadata": {},
   "outputs": [],
   "source": [
    "# import necessary modules\n",
    "from arcgis.gis import GIS\n",
    "from arcgis.geocoding import Geocoder, get_geocoders\n",
    "from arcgis.geocoding import geocode\n",
    "import pandas as pd\n",
    "\n",
    "# read in addresses\n",
    "addresses = [\"470 E Lockwood Ave, Webster Groves, MO 63119\", \n",
    "             \"1 Brookings Dr, St. Louis, MO 63130\", \n",
    "             \"1 N Grand Blvd, St. Louis, MO 63103\",\n",
    "             \"1 Hairpin Dr, Edwardsville, IL 62026\",\n",
    "             \"1263 Lincoln Dr, Carbondale, IL 62901\",\n",
    "             \"1 University Blvd, St. Louis, MO 63121\", \n",
    "             \"5000 Holmes St, Kansas City, MO 64110\",\n",
    "             \"6823 St Charles Ave, New Orleans, LA 70118\",\n",
    "             \"300 College Park, Dayton, OH 45469\",\n",
    "             \"2807 N Glebe Rd, Arlington, VA 22207\"]\n",
    "\n",
    "# geocode addresses\n",
    "for address in addresses:\n",
    "    home = geocode(address)[0]\n",
    "    popup = { \n",
    "        \"title\" : \"Home\", \n",
    "        \"content\" : home['address']\n",
    "        }\n",
    "    new_map.draw(home['location'], popup)"
   ]
  },
  {
   "cell_type": "markdown",
   "metadata": {},
   "source": [
    "These addresses are definiteley universities. I'm really not sure what the correlation is between them, however! At first I thought they were address of schools in the Atlantic 10 conference, but definitely not that either. Maybe they're just random universities.\n",
    "\n",
    "Now that we have the addresses geocoded and on the map, we can complete the problem by saving our new map as a webmap to arcGIS online. We'll do that below:"
   ]
  },
  {
   "cell_type": "code",
   "execution_count": 106,
   "metadata": {},
   "outputs": [
    {
     "data": {
      "text/html": [
       "<div class=\"item_container\" style=\"height: auto; overflow: hidden; border: 1px solid #cfcfcf; border-radius: 2px; background: #f6fafa; line-height: 1.21429em; padding: 10px;\">\n",
       "                    <div class=\"item_left\" style=\"width: 210px; float: left;\">\n",
       "                       <a href='http://SLUSTL.maps.arcgis.com/home/item.html?id=ab482206425d40ecaa1cda94666a2cf2' target='_blank'>\n",
       "                        <img src='http://static.arcgis.com/images/desktopapp.png' class=\"itemThumbnail\">\n",
       "                       </a>\n",
       "                    </div>\n",
       "\n",
       "                    <div class=\"item_right\"     style=\"float: none; width: auto; overflow: hidden;\">\n",
       "                        <a href='http://SLUSTL.maps.arcgis.com/home/item.html?id=ab482206425d40ecaa1cda94666a2cf2' target='_blank'><b>Addresses Webmap</b>\n",
       "                        </a>\n",
       "                        <br/>Web map of addresses csv file<img src='http://SLUSTL.maps.arcgis.com/home/js/jsapi/esri/css/images/item_type_icons/maps16.png' style=\"vertical-align:middle;\">Web Map by carter.hanford_SLUSTL\n",
       "                        <br/>Last Modified: April 06, 2020\n",
       "                        <br/>0 comments, 0 views\n",
       "                    </div>\n",
       "                </div>\n",
       "                "
      ],
      "text/plain": [
       "<Item title:\"Addresses Webmap\" type:Web Map owner:carter.hanford_SLUSTL>"
      ]
     },
     "execution_count": 106,
     "metadata": {},
     "output_type": "execute_result"
    }
   ],
   "source": [
    "# create properties of webmap\n",
    "webmap_properties = {'title':'Addresses Webmap',\n",
    "                    'snippet': 'Web map of addresses csv file',\n",
    "                    'tags':['automation', 'python']}\n",
    "\n",
    "# save addresses map as webmap\n",
    "webmap_item = new_map.save(webmap_properties)\n",
    "webmap_item"
   ]
  }
 ],
 "metadata": {
  "kernelspec": {
   "display_name": "Python 3",
   "language": "python",
   "name": "python3"
  },
  "language_info": {
   "codemirror_mode": {
    "name": "ipython",
    "version": 3
   },
   "file_extension": ".py",
   "mimetype": "text/x-python",
   "name": "python",
   "nbconvert_exporter": "python",
   "pygments_lexer": "ipython3",
   "version": "3.6.9"
  }
 },
 "nbformat": 4,
 "nbformat_minor": 2
}
