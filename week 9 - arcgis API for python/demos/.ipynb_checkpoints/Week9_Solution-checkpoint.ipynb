{
 "cells": [
  {
   "cell_type": "markdown",
   "metadata": {},
   "source": [
    "## Problem 2 - Geocoding a CSV"
   ]
  },
  {
   "cell_type": "markdown",
   "metadata": {},
   "source": [
    "#### Create a map"
   ]
  },
  {
   "cell_type": "code",
   "execution_count": 19,
   "metadata": {},
   "outputs": [
    {
     "name": "stdout",
     "output_type": "stream",
     "text": [
      "Enter password: ········\n"
     ]
    }
   ],
   "source": [
    "from arcgis.gis import GIS\n",
    "#from arcgis.geocoding import Geocoder, get_geocoders\n",
    "\n",
    "gis = GIS(\"http://slustl.maps.arcgis.com/home\", \"gregbrunner_slugis\")"
   ]
  },
  {
   "cell_type": "code",
   "execution_count": 24,
   "metadata": {},
   "outputs": [
    {
     "data": {
      "application/vnd.jupyter.widget-view+json": {
       "model_id": "a6da99fc373442508ef137189364ee08",
       "version_major": 2,
       "version_minor": 0
      },
      "text/plain": [
       "MapView(layout=Layout(height='400px', width='100%'))"
      ]
     },
     "metadata": {},
     "output_type": "display_data"
    },
    {
     "data": {
      "text/html": [
       "<div class=\"map-static-img-preview-63353030-d5ee-4e3f-a811-cba3dbe3278f\"><img src=\"\"></img></div>"
      ],
      "text/plain": [
       "<IPython.core.display.HTML object>"
      ]
     },
     "metadata": {},
     "output_type": "display_data"
    }
   ],
   "source": [
    "hw_map = gis.map('USA')\n",
    "hw_map"
   ]
  },
  {
   "cell_type": "markdown",
   "metadata": {},
   "source": [
    "#### import csv file"
   ]
  },
  {
   "cell_type": "code",
   "execution_count": 25,
   "metadata": {
    "scrolled": true
   },
   "outputs": [
    {
     "data": {
      "text/html": [
       "<div>\n",
       "<style scoped>\n",
       "    .dataframe tbody tr th:only-of-type {\n",
       "        vertical-align: middle;\n",
       "    }\n",
       "\n",
       "    .dataframe tbody tr th {\n",
       "        vertical-align: top;\n",
       "    }\n",
       "\n",
       "    .dataframe thead th {\n",
       "        text-align: right;\n",
       "    }\n",
       "</style>\n",
       "<table border=\"1\" class=\"dataframe\">\n",
       "  <thead>\n",
       "    <tr style=\"text-align: right;\">\n",
       "      <th></th>\n",
       "      <th>Single Line Address</th>\n",
       "    </tr>\n",
       "  </thead>\n",
       "  <tbody>\n",
       "    <tr>\n",
       "      <th>0</th>\n",
       "      <td>470 E Lockwood Ave, Webster Groves, MO 63119</td>\n",
       "    </tr>\n",
       "    <tr>\n",
       "      <th>1</th>\n",
       "      <td>1 Brookings Dr, St. Louis, MO 63130</td>\n",
       "    </tr>\n",
       "    <tr>\n",
       "      <th>2</th>\n",
       "      <td>1 N Grand Blvd, St. Louis, MO 63103</td>\n",
       "    </tr>\n",
       "    <tr>\n",
       "      <th>3</th>\n",
       "      <td>1 Hairpin Dr, Edwardsville, IL 62026</td>\n",
       "    </tr>\n",
       "    <tr>\n",
       "      <th>4</th>\n",
       "      <td>1263 Lincoln Dr, Carbondale, IL 62901</td>\n",
       "    </tr>\n",
       "    <tr>\n",
       "      <th>5</th>\n",
       "      <td>1 University Blvd, St. Louis, MO 63121</td>\n",
       "    </tr>\n",
       "    <tr>\n",
       "      <th>6</th>\n",
       "      <td>5000 Holmes St, Kansas City, MO 64110</td>\n",
       "    </tr>\n",
       "    <tr>\n",
       "      <th>7</th>\n",
       "      <td>6823 St Charles Ave, New Orleans, LA 70118</td>\n",
       "    </tr>\n",
       "    <tr>\n",
       "      <th>8</th>\n",
       "      <td>300 College Park, Dayton, OH 45469</td>\n",
       "    </tr>\n",
       "    <tr>\n",
       "      <th>9</th>\n",
       "      <td>2807 N Glebe Rd, Arlington, VA 22207</td>\n",
       "    </tr>\n",
       "  </tbody>\n",
       "</table>\n",
       "</div>"
      ],
      "text/plain": [
       "                            Single Line Address\n",
       "0  470 E Lockwood Ave, Webster Groves, MO 63119\n",
       "1           1 Brookings Dr, St. Louis, MO 63130\n",
       "2           1 N Grand Blvd, St. Louis, MO 63103\n",
       "3          1 Hairpin Dr, Edwardsville, IL 62026\n",
       "4         1263 Lincoln Dr, Carbondale, IL 62901\n",
       "5        1 University Blvd, St. Louis, MO 63121\n",
       "6         5000 Holmes St, Kansas City, MO 64110\n",
       "7    6823 St Charles Ave, New Orleans, LA 70118\n",
       "8            300 College Park, Dayton, OH 45469\n",
       "9          2807 N Glebe Rd, Arlington, VA 22207"
      ]
     },
     "execution_count": 25,
     "metadata": {},
     "output_type": "execute_result"
    }
   ],
   "source": [
    "import pandas as pd\n",
    "df = pd.read_csv(r'C:\\Users\\greg6750\\Documents\\IPython Notebooks\\intro-prog-for-gis-rs\\march_30\\addresses_sla.csv')\n",
    "df"
   ]
  },
  {
   "cell_type": "code",
   "execution_count": 26,
   "metadata": {},
   "outputs": [],
   "source": [
    "from arcgis.geocoding import geocode"
   ]
  },
  {
   "cell_type": "markdown",
   "metadata": {},
   "source": [
    "#### geocode addresses"
   ]
  },
  {
   "cell_type": "code",
   "execution_count": 27,
   "metadata": {},
   "outputs": [
    {
     "name": "stdout",
     "output_type": "stream",
     "text": [
      "5\n",
      "{'address': '470 E Lockwood Ave, Saint Louis, Missouri, 63119', 'location': {'x': -90.3454605, 'y': 38.59074000000001}, 'score': 100, 'attributes': {'Loc_name': 'World', 'Status': 'M', 'Score': 100, 'Match_addr': '470 E Lockwood Ave, Saint Louis, Missouri, 63119', 'LongLabel': '470 E Lockwood Ave, Saint Louis, MO, 63119, USA', 'ShortLabel': '470 E Lockwood Ave', 'Addr_type': 'PointAddress', 'Type': '', 'PlaceName': '', 'Place_addr': '470 E Lockwood Ave, Saint Louis, Missouri, 63119', 'Phone': '', 'URL': '', 'Rank': 20, 'AddBldg': '', 'AddNum': '470', 'AddNumFrom': '', 'AddNumTo': '', 'AddRange': '', 'Side': '', 'StPreDir': 'E', 'StPreType': '', 'StName': 'Lockwood', 'StType': 'Ave', 'StDir': '', 'BldgType': '', 'BldgName': '', 'LevelType': '', 'LevelName': '', 'UnitType': '', 'UnitName': '', 'SubAddr': '', 'StAddr': '470 E Lockwood Ave', 'Block': '', 'Sector': '', 'Nbrhd': '', 'District': '', 'City': 'Saint Louis', 'MetroArea': '', 'Subregion': 'St. Louis County', 'Region': 'Missouri', 'RegionAbbr': 'MO', 'Territory': '', 'Zone': '', 'Postal': '63119', 'PostalExt': '3194', 'Country': 'USA', 'LangCode': 'ENG', 'Distance': 0, 'X': -90.3454605, 'Y': 38.59074000000001, 'DisplayX': -90.3454605, 'DisplayY': 38.59074000000001, 'Xmin': -90.3464605, 'Xmax': -90.3444605, 'Ymin': 38.58974000000001, 'Ymax': 38.59174000000001, 'ExInfo': ''}, 'extent': {'xmin': -90.3464605, 'ymin': 38.58974000000001, 'xmax': -90.3444605, 'ymax': 38.59174000000001}}\n",
      "5\n",
      "{'address': '1 Brookings Dr, Saint Louis, Missouri, 63130', 'location': {'x': -90.310374, 'y': 38.647718999999995}, 'score': 100, 'attributes': {'Loc_name': 'World', 'Status': 'M', 'Score': 100, 'Match_addr': '1 Brookings Dr, Saint Louis, Missouri, 63130', 'LongLabel': '1 Brookings Dr, Saint Louis, MO, 63130, USA', 'ShortLabel': '1 Brookings Dr', 'Addr_type': 'PointAddress', 'Type': '', 'PlaceName': '', 'Place_addr': '1 Brookings Dr, Saint Louis, Missouri, 63130', 'Phone': '', 'URL': '', 'Rank': 20, 'AddBldg': '', 'AddNum': '1', 'AddNumFrom': '', 'AddNumTo': '', 'AddRange': '', 'Side': '', 'StPreDir': '', 'StPreType': '', 'StName': 'Brookings', 'StType': 'Dr', 'StDir': '', 'BldgType': '', 'BldgName': '', 'LevelType': '', 'LevelName': '', 'UnitType': '', 'UnitName': '', 'SubAddr': '', 'StAddr': '1 Brookings Dr', 'Block': '', 'Sector': '', 'Nbrhd': '', 'District': '', 'City': 'Saint Louis', 'MetroArea': '', 'Subregion': 'St. Louis County', 'Region': 'Missouri', 'RegionAbbr': 'MO', 'Territory': '', 'Zone': '', 'Postal': '63130', 'PostalExt': '4862', 'Country': 'USA', 'LangCode': 'ENG', 'Distance': 0, 'X': -90.310374, 'Y': 38.647718999999995, 'DisplayX': -90.310374, 'DisplayY': 38.647718999999995, 'Xmin': -90.311374, 'Xmax': -90.30937399999999, 'Ymin': 38.646719, 'Ymax': 38.64871899999999, 'ExInfo': ''}, 'extent': {'xmin': -90.311374, 'ymin': 38.646719, 'xmax': -90.30937399999999, 'ymax': 38.64871899999999}}\n",
      "5\n",
      "{'address': '1 N Grand Blvd, Saint Louis, Missouri, 63103', 'location': {'x': -90.2338468690512, 'y': 38.63452764640386}, 'score': 100, 'attributes': {'Loc_name': 'World', 'Status': 'M', 'Score': 100, 'Match_addr': '1 N Grand Blvd, Saint Louis, Missouri, 63103', 'LongLabel': '1 N Grand Blvd, Saint Louis, MO, 63103, USA', 'ShortLabel': '1 N Grand Blvd', 'Addr_type': 'StreetAddress', 'Type': '', 'PlaceName': '', 'Place_addr': '1 N Grand Blvd, Saint Louis, Missouri, 63103', 'Phone': '', 'URL': '', 'Rank': 20, 'AddBldg': '', 'AddNum': '1', 'AddNumFrom': '1', 'AddNumTo': '15', 'AddRange': '1-15', 'Side': 'L', 'StPreDir': 'N', 'StPreType': '', 'StName': 'Grand', 'StType': 'Blvd', 'StDir': '', 'BldgType': '', 'BldgName': '', 'LevelType': '', 'LevelName': '', 'UnitType': '', 'UnitName': '', 'SubAddr': '', 'StAddr': '1 N Grand Blvd', 'Block': '', 'Sector': '', 'Nbrhd': 'Midtown Alley', 'District': '', 'City': 'Saint Louis', 'MetroArea': 'St Louis Metro Area', 'Subregion': 'City of St. Louis', 'Region': 'Missouri', 'RegionAbbr': 'MO', 'Territory': '', 'Zone': '', 'Postal': '63103', 'PostalExt': '2006', 'Country': 'USA', 'LangCode': 'ENG', 'Distance': 0, 'X': -90.2338468690512, 'Y': 38.63452764640386, 'DisplayX': -90.2338468690512, 'DisplayY': 38.63452764640386, 'Xmin': -90.23484686905121, 'Xmax': -90.2328468690512, 'Ymin': 38.63352764640386, 'Ymax': 38.63552764640386, 'ExInfo': ''}, 'extent': {'xmin': -90.23484686905121, 'ymin': 38.63352764640386, 'xmax': -90.2328468690512, 'ymax': 38.63552764640386}}\n",
      "5\n",
      "{'address': 'Hairpin Dr, Edwardsville, Illinois, 62026', 'location': {'x': -89.9960985, 'y': 38.79312094486456}, 'score': 98.79, 'attributes': {'Loc_name': 'World', 'Status': 'M', 'Score': 98.79, 'Match_addr': 'Hairpin Dr, Edwardsville, Illinois, 62026', 'LongLabel': 'Hairpin Dr, Edwardsville, IL, 62026, USA', 'ShortLabel': 'Hairpin Dr', 'Addr_type': 'StreetName', 'Type': '', 'PlaceName': '', 'Place_addr': 'Hairpin Dr, Edwardsville, Illinois, 62026', 'Phone': '', 'URL': '', 'Rank': 20, 'AddBldg': '', 'AddNum': '', 'AddNumFrom': '', 'AddNumTo': '', 'AddRange': '', 'Side': '', 'StPreDir': '', 'StPreType': '', 'StName': 'Hairpin', 'StType': 'Dr', 'StDir': '', 'BldgType': '', 'BldgName': '', 'LevelType': '', 'LevelName': '', 'UnitType': '', 'UnitName': '', 'SubAddr': '', 'StAddr': 'Hairpin Dr', 'Block': '', 'Sector': '', 'Nbrhd': '', 'District': '', 'City': 'Edwardsville', 'MetroArea': 'St Louis Metro Area', 'Subregion': 'Madison County', 'Region': 'Illinois', 'RegionAbbr': 'IL', 'Territory': '', 'Zone': '', 'Postal': '62026', 'PostalExt': '', 'Country': 'USA', 'LangCode': 'ENG', 'Distance': 0, 'X': -89.9960985, 'Y': 38.79312094486456, 'DisplayX': -89.9960985, 'DisplayY': 38.79312094486456, 'Xmin': -89.9970985, 'Xmax': -89.9950985, 'Ymin': 38.792120944864564, 'Ymax': 38.79412094486456, 'ExInfo': '1'}, 'extent': {'xmin': -89.9970985, 'ymin': 38.792120944864564, 'xmax': -89.9950985, 'ymax': 38.79412094486456}}\n",
      "5\n",
      "{'address': '1263 Lincoln Dr, Carbondale, Illinois, 62901', 'location': {'x': -89.217602846512, 'y': 37.713700534880076}, 'score': 100, 'attributes': {'Loc_name': 'World', 'Status': 'M', 'Score': 100, 'Match_addr': '1263 Lincoln Dr, Carbondale, Illinois, 62901', 'LongLabel': '1263 Lincoln Dr, Carbondale, IL, 62901, USA', 'ShortLabel': '1263 Lincoln Dr', 'Addr_type': 'StreetAddress', 'Type': '', 'PlaceName': '', 'Place_addr': '1263 Lincoln Dr, Carbondale, Illinois, 62901', 'Phone': '', 'URL': '', 'Rank': 20, 'AddBldg': '', 'AddNum': '1263', 'AddNumFrom': '1263', 'AddNumTo': '1269', 'AddRange': '1263-1269', 'Side': 'L', 'StPreDir': '', 'StPreType': '', 'StName': 'Lincoln', 'StType': 'Dr', 'StDir': '', 'BldgType': '', 'BldgName': '', 'LevelType': '', 'LevelName': '', 'UnitType': '', 'UnitName': '', 'SubAddr': '', 'StAddr': '1263 Lincoln Dr', 'Block': '', 'Sector': '', 'Nbrhd': '', 'District': '', 'City': 'Carbondale', 'MetroArea': '', 'Subregion': 'Jackson County', 'Region': 'Illinois', 'RegionAbbr': 'IL', 'Territory': '', 'Zone': '', 'Postal': '62901', 'PostalExt': '4304', 'Country': 'USA', 'LangCode': 'ENG', 'Distance': 0, 'X': -89.217602846512, 'Y': 37.713700534880076, 'DisplayX': -89.217602846512, 'DisplayY': 37.713700534880076, 'Xmin': -89.218602846512, 'Xmax': -89.21660284651199, 'Ymin': 37.71270053488008, 'Ymax': 37.71470053488007, 'ExInfo': ''}, 'extent': {'xmin': -89.218602846512, 'ymin': 37.71270053488008, 'xmax': -89.21660284651199, 'ymax': 37.71470053488007}}\n",
      "5\n",
      "{'address': '1 University Blvd, Saint Louis, Missouri, 63121', 'location': {'x': -90.31093156474735, 'y': 38.70891043525264}, 'score': 100, 'attributes': {'Loc_name': 'World', 'Status': 'M', 'Score': 100, 'Match_addr': '1 University Blvd, Saint Louis, Missouri, 63121', 'LongLabel': '1 University Blvd, Saint Louis, MO, 63121, USA', 'ShortLabel': '1 University Blvd', 'Addr_type': 'PointAddress', 'Type': '', 'PlaceName': '', 'Place_addr': '1 University Blvd, Saint Louis, Missouri, 63121', 'Phone': '', 'URL': '', 'Rank': 20, 'AddBldg': '', 'AddNum': '1', 'AddNumFrom': '', 'AddNumTo': '', 'AddRange': '', 'Side': '', 'StPreDir': '', 'StPreType': '', 'StName': 'University', 'StType': 'Blvd', 'StDir': '', 'BldgType': '', 'BldgName': '', 'LevelType': '', 'LevelName': '', 'UnitType': '', 'UnitName': '', 'SubAddr': '', 'StAddr': '1 University Blvd', 'Block': '', 'Sector': '', 'Nbrhd': '', 'District': '', 'City': 'Saint Louis', 'MetroArea': '', 'Subregion': 'St. Louis County', 'Region': 'Missouri', 'RegionAbbr': 'MO', 'Territory': '', 'Zone': '', 'Postal': '63121', 'PostalExt': '4400', 'Country': 'USA', 'LangCode': 'ENG', 'Distance': 0, 'X': -90.31093156474735, 'Y': 38.70891043525264, 'DisplayX': -90.310302, 'DisplayY': 38.709540000000004, 'Xmin': -90.311302, 'Xmax': -90.30930199999999, 'Ymin': 38.708540000000006, 'Ymax': 38.71054, 'ExInfo': ''}, 'extent': {'xmin': -90.311302, 'ymin': 38.708540000000006, 'xmax': -90.30930199999999, 'ymax': 38.71054}}\n"
     ]
    },
    {
     "name": "stdout",
     "output_type": "stream",
     "text": [
      "5\n",
      "{'address': '5000 Holmes St, Kansas City, Missouri, 64110', 'location': {'x': -94.57800784562572, 'y': 39.03532115550335}, 'score': 100, 'attributes': {'Loc_name': 'World', 'Status': 'M', 'Score': 100, 'Match_addr': '5000 Holmes St, Kansas City, Missouri, 64110', 'LongLabel': '5000 Holmes St, Kansas City, MO, 64110, USA', 'ShortLabel': '5000 Holmes St', 'Addr_type': 'StreetAddress', 'Type': '', 'PlaceName': '', 'Place_addr': '5000 Holmes St, Kansas City, Missouri, 64110', 'Phone': '', 'URL': '', 'Rank': 20, 'AddBldg': '', 'AddNum': '5000', 'AddNumFrom': '5010', 'AddNumTo': '4980', 'AddRange': '4980-5010', 'Side': 'L', 'StPreDir': '', 'StPreType': '', 'StName': 'Holmes', 'StType': 'St', 'StDir': '', 'BldgType': '', 'BldgName': '', 'LevelType': '', 'LevelName': '', 'UnitType': '', 'UnitName': '', 'SubAddr': '', 'StAddr': '5000 Holmes St', 'Block': '', 'Sector': '', 'Nbrhd': 'Western 49-63', 'District': '', 'City': 'Kansas City', 'MetroArea': 'Kansas City Metro Area', 'Subregion': 'Jackson County', 'Region': 'Missouri', 'RegionAbbr': 'MO', 'Territory': '', 'Zone': '', 'Postal': '64110', 'PostalExt': '2499', 'Country': 'USA', 'LangCode': 'ENG', 'Distance': 0, 'X': -94.57800784562572, 'Y': 39.03532115550335, 'DisplayX': -94.57800784562572, 'DisplayY': 39.03532115550335, 'Xmin': -94.57900784562572, 'Xmax': -94.57700784562572, 'Ymin': 39.03432115550335, 'Ymax': 39.036321155503344, 'ExInfo': ''}, 'extent': {'xmin': -94.57900784562572, 'ymin': 39.03432115550335, 'xmax': -94.57700784562572, 'ymax': 39.036321155503344}}\n",
      "5\n",
      "{'address': '6823 Saint Charles Ave, New Orleans, Louisiana, 70118', 'location': {'x': -90.1227645, 'y': 29.935395}, 'score': 100, 'attributes': {'Loc_name': 'World', 'Status': 'M', 'Score': 100, 'Match_addr': '6823 Saint Charles Ave, New Orleans, Louisiana, 70118', 'LongLabel': '6823 Saint Charles Ave, New Orleans, LA, 70118, USA', 'ShortLabel': '6823 Saint Charles Ave', 'Addr_type': 'PointAddress', 'Type': '', 'PlaceName': '', 'Place_addr': '6823 Saint Charles Ave, New Orleans, Louisiana, 70118', 'Phone': '', 'URL': '', 'Rank': 20, 'AddBldg': '', 'AddNum': '6823', 'AddNumFrom': '', 'AddNumTo': '', 'AddRange': '', 'Side': '', 'StPreDir': '', 'StPreType': '', 'StName': 'Saint Charles', 'StType': 'Ave', 'StDir': '', 'BldgType': '', 'BldgName': '', 'LevelType': '', 'LevelName': '', 'UnitType': '', 'UnitName': '', 'SubAddr': '', 'StAddr': '6823 Saint Charles Ave', 'Block': '', 'Sector': '', 'Nbrhd': '', 'District': '', 'City': 'New Orleans', 'MetroArea': '', 'Subregion': 'Orleans Parish', 'Region': 'Louisiana', 'RegionAbbr': 'LA', 'Territory': '', 'Zone': '', 'Postal': '70118', 'PostalExt': '5698', 'Country': 'USA', 'LangCode': 'ENG', 'Distance': 0, 'X': -90.1227645, 'Y': 29.935395, 'DisplayX': -90.1227645, 'DisplayY': 29.935395, 'Xmin': -90.12376450000001, 'Xmax': -90.1217645, 'Ymin': 29.934395, 'Ymax': 29.936395, 'ExInfo': ''}, 'extent': {'xmin': -90.12376450000001, 'ymin': 29.934395, 'xmax': -90.1217645, 'ymax': 29.936395}}\n",
      "5\n",
      "{'address': '300 College Park Ave, Dayton, Ohio, 45469', 'location': {'x': -84.1736835, 'y': 39.736638}, 'score': 98.82, 'attributes': {'Loc_name': 'World', 'Status': 'M', 'Score': 98.82, 'Match_addr': '300 College Park Ave, Dayton, Ohio, 45469', 'LongLabel': '300 College Park Ave, Dayton, OH, 45469, USA', 'ShortLabel': '300 College Park Ave', 'Addr_type': 'PointAddress', 'Type': '', 'PlaceName': '', 'Place_addr': '300 College Park Ave, Dayton, Ohio, 45469', 'Phone': '', 'URL': '', 'Rank': 20, 'AddBldg': '', 'AddNum': '300', 'AddNumFrom': '', 'AddNumTo': '', 'AddRange': '', 'Side': '', 'StPreDir': '', 'StPreType': '', 'StName': 'College Park', 'StType': 'Ave', 'StDir': '', 'BldgType': '', 'BldgName': '', 'LevelType': '', 'LevelName': '', 'UnitType': '', 'UnitName': '', 'SubAddr': '', 'StAddr': '300 College Park Ave', 'Block': '', 'Sector': '', 'Nbrhd': '', 'District': '', 'City': 'Dayton', 'MetroArea': '', 'Subregion': 'Montgomery County', 'Region': 'Ohio', 'RegionAbbr': 'OH', 'Territory': '', 'Zone': '', 'Postal': '45469', 'PostalExt': '0002', 'Country': 'USA', 'LangCode': 'ENG', 'Distance': 0, 'X': -84.1736835, 'Y': 39.736638, 'DisplayX': -84.1736835, 'DisplayY': 39.736638, 'Xmin': -84.1746835, 'Xmax': -84.17268349999999, 'Ymin': 39.735638, 'Ymax': 39.737638, 'ExInfo': ''}, 'extent': {'xmin': -84.1746835, 'ymin': 39.735638, 'xmax': -84.17268349999999, 'ymax': 39.737638}}\n",
      "5\n",
      "{'address': '2807 N Glebe Rd, Arlington, Virginia, 22207', 'location': {'x': -77.12965200187593, 'y': 38.905685002798634}, 'score': 100, 'attributes': {'Loc_name': 'World', 'Status': 'M', 'Score': 100, 'Match_addr': '2807 N Glebe Rd, Arlington, Virginia, 22207', 'LongLabel': '2807 N Glebe Rd, Arlington, VA, 22207, USA', 'ShortLabel': '2807 N Glebe Rd', 'Addr_type': 'PointAddress', 'Type': '', 'PlaceName': '', 'Place_addr': '2807 N Glebe Rd, Arlington, Virginia, 22207', 'Phone': '', 'URL': '', 'Rank': 20, 'AddBldg': '', 'AddNum': '2807', 'AddNumFrom': '', 'AddNumTo': '', 'AddRange': '', 'Side': '', 'StPreDir': 'N', 'StPreType': '', 'StName': 'Glebe', 'StType': 'Rd', 'StDir': '', 'BldgType': '', 'BldgName': '', 'LevelType': '', 'LevelName': '', 'UnitType': '', 'UnitName': '', 'SubAddr': '', 'StAddr': '2807 N Glebe Rd', 'Block': '', 'Sector': '', 'Nbrhd': '', 'District': '', 'City': 'Arlington', 'MetroArea': '', 'Subregion': 'Arlington County', 'Region': 'Virginia', 'RegionAbbr': 'VA', 'Territory': '', 'Zone': '', 'Postal': '22207', 'PostalExt': '4299', 'Country': 'USA', 'LangCode': 'ENG', 'Distance': 0, 'X': -77.12965200187593, 'Y': 38.905685002798634, 'DisplayX': -77.128947, 'DisplayY': 38.905929000000015, 'Xmin': -77.129947, 'Xmax': -77.12794699999999, 'Ymin': 38.90492900000002, 'Ymax': 38.90692900000001, 'ExInfo': ''}, 'extent': {'xmin': -77.129947, 'ymin': 38.90492900000002, 'xmax': -77.12794699999999, 'ymax': 38.90692900000001}}\n"
     ]
    }
   ],
   "source": [
    "for address in df['Single Line Address']:\n",
    "    Uni = geocode(address)[0] # select the first element from json database where 'Score = 100 (highest confidence)'\n",
    "    print(len(Uni))\n",
    "    print(Uni)\n",
    "    popup = { \n",
    "        \"title\" : \" University \", \n",
    "        \"content\" : Uni['address']\n",
    "        }\n",
    "    hw_map.draw(Uni['location'], popup)"
   ]
  },
  {
   "cell_type": "markdown",
   "metadata": {},
   "source": [
    "#### Export webmap"
   ]
  },
  {
   "cell_type": "code",
   "execution_count": 29,
   "metadata": {},
   "outputs": [
    {
     "data": {
      "text/html": [
       "<div class=\"item_container\" style=\"height: auto; overflow: hidden; border: 1px solid #cfcfcf; border-radius: 2px; background: #f6fafa; line-height: 1.21429em; padding: 10px;\">\n",
       "                    <div class=\"item_left\" style=\"width: 210px; float: left;\">\n",
       "                       <a href='http://SLUSTL.maps.arcgis.com/home/item.html?id=336eee79f6f94495ac6c41ea025f142a' target='_blank'>\n",
       "                        <img src='http://static.arcgis.com/images/desktopapp.png' class=\"itemThumbnail\">\n",
       "                       </a>\n",
       "                    </div>\n",
       "\n",
       "                    <div class=\"item_right\"     style=\"float: none; width: auto; overflow: hidden;\">\n",
       "                        <a href='http://SLUSTL.maps.arcgis.com/home/item.html?id=336eee79f6f94495ac6c41ea025f142a' target='_blank'><b>HW 9 Solution - Universities</b>\n",
       "                        </a>\n",
       "                        <br/>Jupyter notebook widget saved as a web map<img src='http://SLUSTL.maps.arcgis.com/home/js/jsapi/esri/css/images/item_type_icons/maps16.png' style=\"vertical-align:middle;\">Web Map by gregbrunner_slugis\n",
       "                        <br/>Last Modified: April 05, 2020\n",
       "                        <br/>0 comments, 0 views\n",
       "                    </div>\n",
       "                </div>\n",
       "                "
      ],
      "text/plain": [
       "<Item title:\"HW 9 Solution - Universities\" type:Web Map owner:gregbrunner_slugis>"
      ]
     },
     "execution_count": 29,
     "metadata": {},
     "output_type": "execute_result"
    }
   ],
   "source": [
    "webmap_properties = {'title':'HW 9 Solution - Universities',\n",
    "                    'snippet': 'Jupyter notebook widget saved as a web map',\n",
    "                    'tags':['university', 'python']}\n",
    "\n",
    "webmap_item = hw_map.save(webmap_properties)\n",
    "webmap_item"
   ]
  },
  {
   "cell_type": "markdown",
   "metadata": {},
   "source": [
    "## The common theme among the addresses is *Univeristies*. "
   ]
  },
  {
   "cell_type": "markdown",
   "metadata": {},
   "source": [
    "## Another way to do this...\n",
    "\n",
    "For this to work, I had to change the CSV column name to \"Location\""
   ]
  },
  {
   "cell_type": "code",
   "execution_count": 30,
   "metadata": {},
   "outputs": [
    {
     "data": {
      "text/html": [
       "<div class=\"item_container\" style=\"height: auto; overflow: hidden; border: 1px solid #cfcfcf; border-radius: 2px; background: #f6fafa; line-height: 1.21429em; padding: 10px;\">\n",
       "                    <div class=\"item_left\" style=\"width: 210px; float: left;\">\n",
       "                       <a href='http://SLUSTL.maps.arcgis.com/home/item.html?id=63a80df8b27b4148b0b3b6283fa79c76' target='_blank'>\n",
       "                        <img src='http://static.arcgis.com/images/desktopapp.png' class=\"itemThumbnail\">\n",
       "                       </a>\n",
       "                    </div>\n",
       "\n",
       "                    <div class=\"item_right\"     style=\"float: none; width: auto; overflow: hidden;\">\n",
       "                        <a href='http://SLUSTL.maps.arcgis.com/home/item.html?id=63a80df8b27b4148b0b3b6283fa79c76' target='_blank'><b>addresses</b>\n",
       "                        </a>\n",
       "                        <br/><img src='http://SLUSTL.maps.arcgis.com/home/js/jsapi/esri/css/images/item_type_icons/layers16.png' style=\"vertical-align:middle;\">CSV by gregbrunner_slugis\n",
       "                        <br/>Last Modified: April 05, 2020\n",
       "                        <br/>0 comments, 0 views\n",
       "                    </div>\n",
       "                </div>\n",
       "                "
      ],
      "text/plain": [
       "<Item title:\"addresses\" type:CSV owner:gregbrunner_slugis>"
      ]
     },
     "metadata": {},
     "output_type": "display_data"
    }
   ],
   "source": [
    "csv_file = r'C:\\Users\\greg6750\\Documents\\IPython Notebooks\\intro-prog-for-gis-rs\\march_30\\addresses.csv'\n",
    "csv_item = gis.content.add({}, csv_file)\n",
    "\n",
    "\n",
    "display(csv_item)"
   ]
  },
  {
   "cell_type": "code",
   "execution_count": 31,
   "metadata": {},
   "outputs": [],
   "source": [
    "csv_lyr = csv_item.publish(None, {\"Address\":\"Location\"})"
   ]
  },
  {
   "cell_type": "code",
   "execution_count": 32,
   "metadata": {},
   "outputs": [
    {
     "data": {
      "text/html": [
       "<div class=\"item_container\" style=\"height: auto; overflow: hidden; border: 1px solid #cfcfcf; border-radius: 2px; background: #f6fafa; line-height: 1.21429em; padding: 10px;\">\n",
       "                    <div class=\"item_left\" style=\"width: 210px; float: left;\">\n",
       "                       <a href='http://SLUSTL.maps.arcgis.com/home/item.html?id=df9de14c846f4b8881c58b2bfefda1cf' target='_blank'>\n",
       "                        <img src='http://static.arcgis.com/images/desktopapp.png' class=\"itemThumbnail\">\n",
       "                       </a>\n",
       "                    </div>\n",
       "\n",
       "                    <div class=\"item_right\"     style=\"float: none; width: auto; overflow: hidden;\">\n",
       "                        <a href='http://SLUSTL.maps.arcgis.com/home/item.html?id=df9de14c846f4b8881c58b2bfefda1cf' target='_blank'><b>addresses</b>\n",
       "                        </a>\n",
       "                        <br/><img src='http://SLUSTL.maps.arcgis.com/home/js/jsapi/esri/css/images/item_type_icons/featureshosted16.png' style=\"vertical-align:middle;\">Feature Layer Collection by gregbrunner_slugis\n",
       "                        <br/>Last Modified: April 05, 2020\n",
       "                        <br/>0 comments, 0 views\n",
       "                    </div>\n",
       "                </div>\n",
       "                "
      ],
      "text/plain": [
       "<Item title:\"addresses\" type:Feature Layer Collection owner:gregbrunner_slugis>"
      ]
     },
     "execution_count": 32,
     "metadata": {},
     "output_type": "execute_result"
    }
   ],
   "source": [
    "csv_lyr"
   ]
  },
  {
   "cell_type": "code",
   "execution_count": 33,
   "metadata": {},
   "outputs": [
    {
     "data": {
      "application/vnd.jupyter.widget-view+json": {
       "model_id": "823b6b54d4804aa7a51ddb4e6e8e2660",
       "version_major": 2,
       "version_minor": 0
      },
      "text/plain": [
       "MapView(layout=Layout(height='400px', width='100%'))"
      ]
     },
     "metadata": {},
     "output_type": "display_data"
    },
    {
     "data": {
      "text/html": [
       "<div class=\"map-static-img-preview-228b66b6-0da9-41d1-8283-6f75f6084fb5\"><img src=\"\"></img></div>"
      ],
      "text/plain": [
       "<IPython.core.display.HTML object>"
      ]
     },
     "metadata": {},
     "output_type": "display_data"
    }
   ],
   "source": [
    "m = gis.map('USA')\n",
    "m"
   ]
  },
  {
   "cell_type": "code",
   "execution_count": 34,
   "metadata": {},
   "outputs": [],
   "source": [
    "m.add_layer(csv_lyr)"
   ]
  },
  {
   "cell_type": "code",
   "execution_count": 36,
   "metadata": {},
   "outputs": [],
   "source": [
    "m.basemap = 'imagery'"
   ]
  },
  {
   "cell_type": "code",
   "execution_count": null,
   "metadata": {},
   "outputs": [],
   "source": []
  }
 ],
 "metadata": {
  "kernelspec": {
   "display_name": "Python 3",
   "language": "python",
   "name": "python3"
  },
  "language_info": {
   "codemirror_mode": {
    "name": "ipython",
    "version": 3
   },
   "file_extension": ".py",
   "mimetype": "text/x-python",
   "name": "python",
   "nbconvert_exporter": "python",
   "pygments_lexer": "ipython3",
   "version": "3.6.9"
  }
 },
 "nbformat": 4,
 "nbformat_minor": 4
}
