{
 "cells": [
  {
   "cell_type": "markdown",
   "metadata": {},
   "source": [
    "# Geocoding"
   ]
  },
  {
   "cell_type": "code",
   "execution_count": 1,
   "metadata": {},
   "outputs": [
    {
     "name": "stdout",
     "output_type": "stream",
     "text": [
      "Enter password: ········\n"
     ]
    }
   ],
   "source": [
    "from arcgis.gis import GIS\n",
    "from arcgis.geocoding import Geocoder, get_geocoders\n",
    "\n",
    "gis = GIS(\"http://slustl.maps.arcgis.com/home\", \"gregbrunner_slugis\")"
   ]
  },
  {
   "cell_type": "markdown",
   "metadata": {},
   "source": [
    "## You have an address"
   ]
  },
  {
   "cell_type": "code",
   "execution_count": 2,
   "metadata": {},
   "outputs": [],
   "source": [
    "single_line_address = \"1316 Lexington Drive, Yardley, PA 19067\""
   ]
  },
  {
   "cell_type": "code",
   "execution_count": 3,
   "metadata": {},
   "outputs": [],
   "source": [
    "my_map = gis.map(\"Yardley, PA\")"
   ]
  },
  {
   "cell_type": "code",
   "execution_count": 4,
   "metadata": {},
   "outputs": [
    {
     "data": {
      "application/vnd.jupyter.widget-view+json": {
       "model_id": "c1e15c5e002c42b6b81372f3a8ffdc9b",
       "version_major": 2,
       "version_minor": 0
      },
      "text/plain": [
       "MapView(layout=Layout(height='400px', width='100%'))"
      ]
     },
     "metadata": {},
     "output_type": "display_data"
    },
    {
     "data": {
      "text/html": [
       "<div class=\"map-static-img-preview-ed7c2d32-f0fc-4660-97b5-5ef6b3c76d9e\"><img src=\"\"></img></div>"
      ],
      "text/plain": [
       "<IPython.core.display.HTML object>"
      ]
     },
     "metadata": {},
     "output_type": "display_data"
    }
   ],
   "source": [
    "my_map"
   ]
  },
  {
   "cell_type": "code",
   "execution_count": 5,
   "metadata": {},
   "outputs": [],
   "source": [
    "from arcgis.geocoding import geocode"
   ]
  },
  {
   "cell_type": "code",
   "execution_count": 6,
   "metadata": {},
   "outputs": [],
   "source": [
    "home = geocode(single_line_address)[0]\n",
    "popup = { \n",
    "    \"title\" : \"Home\", \n",
    "    \"content\" : home['address']\n",
    "    }\n",
    "my_map.draw(home['location'], popup)"
   ]
  },
  {
   "cell_type": "markdown",
   "metadata": {},
   "source": [
    "## What does the \"Home\" object look like?"
   ]
  },
  {
   "cell_type": "code",
   "execution_count": 7,
   "metadata": {},
   "outputs": [
    {
     "data": {
      "text/plain": [
       "{'address': '1316 Lexington Dr, Morrisville, Pennsylvania, 19067',\n",
       " 'location': {'x': -74.85482172967278,\n",
       "  'y': 40.22600253124804,\n",
       "  'type': 'point',\n",
       "  'spatialReference': {'wkid': 4326}},\n",
       " 'score': 100,\n",
       " 'attributes': {'Loc_name': 'World',\n",
       "  'Status': 'M',\n",
       "  'Score': 100,\n",
       "  'Match_addr': '1316 Lexington Dr, Morrisville, Pennsylvania, 19067',\n",
       "  'LongLabel': '1316 Lexington Dr, Morrisville, PA, 19067, USA',\n",
       "  'ShortLabel': '1316 Lexington Dr',\n",
       "  'Addr_type': 'PointAddress',\n",
       "  'Type': '',\n",
       "  'PlaceName': '',\n",
       "  'Place_addr': '1316 Lexington Dr, Morrisville, Pennsylvania, 19067',\n",
       "  'Phone': '',\n",
       "  'URL': '',\n",
       "  'Rank': 20,\n",
       "  'AddBldg': '',\n",
       "  'AddNum': '1316',\n",
       "  'AddNumFrom': '',\n",
       "  'AddNumTo': '',\n",
       "  'AddRange': '',\n",
       "  'Side': '',\n",
       "  'StPreDir': '',\n",
       "  'StPreType': '',\n",
       "  'StName': 'Lexington',\n",
       "  'StType': 'Dr',\n",
       "  'StDir': '',\n",
       "  'BldgType': '',\n",
       "  'BldgName': '',\n",
       "  'LevelType': '',\n",
       "  'LevelName': '',\n",
       "  'UnitType': '',\n",
       "  'UnitName': '',\n",
       "  'SubAddr': '',\n",
       "  'StAddr': '1316 Lexington Dr',\n",
       "  'Block': '',\n",
       "  'Sector': '',\n",
       "  'Nbrhd': '',\n",
       "  'District': '',\n",
       "  'City': 'Morrisville',\n",
       "  'MetroArea': '',\n",
       "  'Subregion': 'Bucks County',\n",
       "  'Region': 'Pennsylvania',\n",
       "  'RegionAbbr': 'PA',\n",
       "  'Territory': '',\n",
       "  'Zone': '',\n",
       "  'Postal': '19067',\n",
       "  'PostalExt': '4436',\n",
       "  'Country': 'USA',\n",
       "  'LangCode': 'ENG',\n",
       "  'Distance': 0,\n",
       "  'X': -74.85482172967278,\n",
       "  'Y': 40.22600253124804,\n",
       "  'DisplayX': -74.854854,\n",
       "  'DisplayY': 40.22625600000001,\n",
       "  'Xmin': -74.85585400000001,\n",
       "  'Xmax': -74.853854,\n",
       "  'Ymin': 40.22525600000001,\n",
       "  'Ymax': 40.227256000000004,\n",
       "  'ExInfo': ''},\n",
       " 'extent': {'xmin': -74.85585400000001,\n",
       "  'ymin': 40.22525600000001,\n",
       "  'xmax': -74.853854,\n",
       "  'ymax': 40.227256000000004}}"
      ]
     },
     "execution_count": 7,
     "metadata": {},
     "output_type": "execute_result"
    }
   ],
   "source": [
    "home"
   ]
  },
  {
   "cell_type": "markdown",
   "metadata": {},
   "source": [
    "## Did you know there was this much  info encoded into an address location?"
   ]
  },
  {
   "cell_type": "code",
   "execution_count": 9,
   "metadata": {},
   "outputs": [],
   "source": [
    "addresses = [\"1284 Lexington Drive, Yardley, PA 19067\", \n",
    "             \"1264 Lexington Drive, Yardley, PA 19067\", \"1330 Lexington Drive, Yardley, PA 19067\"]"
   ]
  },
  {
   "cell_type": "code",
   "execution_count": 10,
   "metadata": {},
   "outputs": [],
   "source": [
    "for address in addresses:\n",
    "    home = geocode(address)[0]\n",
    "    popup = { \n",
    "        \"title\" : \"Home\", \n",
    "        \"content\" : home['address']\n",
    "        }\n",
    "    my_map.draw(home['location'], popup)"
   ]
  },
  {
   "cell_type": "markdown",
   "metadata": {},
   "source": [
    "## Geocoding Addresses from a CSV File"
   ]
  },
  {
   "cell_type": "code",
   "execution_count": 11,
   "metadata": {},
   "outputs": [
    {
     "data": {
      "application/vnd.jupyter.widget-view+json": {
       "model_id": "c5635513cca445fa874869c56a9533ec",
       "version_major": 2,
       "version_minor": 0
      },
      "text/plain": [
       "MapView(layout=Layout(height='400px', width='100%'))"
      ]
     },
     "metadata": {},
     "output_type": "display_data"
    },
    {
     "data": {
      "text/html": [
       "<div class=\"map-static-img-preview-adbf1f2b-cc7f-412d-8a9e-fba4def0efaf\"><img src=\"\"></img></div>"
      ],
      "text/plain": [
       "<IPython.core.display.HTML object>"
      ]
     },
     "metadata": {},
     "output_type": "display_data"
    }
   ],
   "source": [
    "new_map = gis.map(\"India\")\n",
    "new_map"
   ]
  },
  {
   "cell_type": "code",
   "execution_count": 12,
   "metadata": {},
   "outputs": [
    {
     "data": {
      "text/html": [
       "<div>\n",
       "<style scoped>\n",
       "    .dataframe tbody tr th:only-of-type {\n",
       "        vertical-align: middle;\n",
       "    }\n",
       "\n",
       "    .dataframe tbody tr th {\n",
       "        vertical-align: top;\n",
       "    }\n",
       "\n",
       "    .dataframe thead th {\n",
       "        text-align: right;\n",
       "    }\n",
       "</style>\n",
       "<table border=\"1\" class=\"dataframe\">\n",
       "  <thead>\n",
       "    <tr style=\"text-align: right;\">\n",
       "      <th></th>\n",
       "      <th>WEATHER STATION</th>\n",
       "      <th>LOCATION</th>\n",
       "      <th>RAINFALL</th>\n",
       "    </tr>\n",
       "  </thead>\n",
       "  <tbody>\n",
       "    <tr>\n",
       "      <th>0</th>\n",
       "      <td>TAMBARAM</td>\n",
       "      <td>TAMBARAM, TAMIL NADU</td>\n",
       "      <td>49</td>\n",
       "    </tr>\n",
       "    <tr>\n",
       "      <th>1</th>\n",
       "      <td>CHEMBARABAKKAM</td>\n",
       "      <td>CHEMBARABAKKAM, TAMIL NADU</td>\n",
       "      <td>47</td>\n",
       "    </tr>\n",
       "    <tr>\n",
       "      <th>2</th>\n",
       "      <td>MARAKKANAM</td>\n",
       "      <td>MARAKKANAM, TAMIL NADU</td>\n",
       "      <td>42</td>\n",
       "    </tr>\n",
       "    <tr>\n",
       "      <th>3</th>\n",
       "      <td>CHENGALPATTU</td>\n",
       "      <td>CHENGALPATTU, TAMIL NADU</td>\n",
       "      <td>39</td>\n",
       "    </tr>\n",
       "    <tr>\n",
       "      <th>4</th>\n",
       "      <td>PONNERI</td>\n",
       "      <td>PONNERI, TAMIL NADU</td>\n",
       "      <td>39</td>\n",
       "    </tr>\n",
       "  </tbody>\n",
       "</table>\n",
       "</div>"
      ],
      "text/plain": [
       "  WEATHER STATION                    LOCATION  RAINFALL\n",
       "0        TAMBARAM        TAMBARAM, TAMIL NADU        49\n",
       "1  CHEMBARABAKKAM  CHEMBARABAKKAM, TAMIL NADU        47\n",
       "2      MARAKKANAM      MARAKKANAM, TAMIL NADU        42\n",
       "3    CHENGALPATTU    CHENGALPATTU, TAMIL NADU        39\n",
       "4         PONNERI         PONNERI, TAMIL NADU        39"
      ]
     },
     "execution_count": 12,
     "metadata": {},
     "output_type": "execute_result"
    }
   ],
   "source": [
    "import pandas as pd\n",
    "df = pd.read_csv('chennai-rainfall.csv')\n",
    "df.head()"
   ]
  },
  {
   "cell_type": "code",
   "execution_count": 1,
   "metadata": {},
   "outputs": [
    {
     "ename": "NameError",
     "evalue": "name 'gis' is not defined",
     "output_type": "error",
     "traceback": [
      "\u001b[1;31m---------------------------------------------------------------------------\u001b[0m",
      "\u001b[1;31mNameError\u001b[0m                                 Traceback (most recent call last)",
      "\u001b[1;32m<ipython-input-1-37169f22c7dd>\u001b[0m in \u001b[0;36m<module>\u001b[1;34m\u001b[0m\n\u001b[0;32m      1\u001b[0m \u001b[1;31m# Create an arcgis.features.FeatureCollection object by importing the pandas dataframe with an address field\u001b[0m\u001b[1;33m\u001b[0m\u001b[1;33m\u001b[0m\u001b[1;33m\u001b[0m\u001b[0m\n\u001b[1;32m----> 2\u001b[1;33m \u001b[0maddress_map\u001b[0m \u001b[1;33m=\u001b[0m \u001b[0mgis\u001b[0m\u001b[1;33m.\u001b[0m\u001b[0mcontent\u001b[0m\u001b[1;33m.\u001b[0m\u001b[0mimport_data\u001b[0m\u001b[1;33m(\u001b[0m\u001b[0maddresses\u001b[0m\u001b[1;33m)\u001b[0m\u001b[1;33m\u001b[0m\u001b[1;33m\u001b[0m\u001b[0m\n\u001b[0m",
      "\u001b[1;31mNameError\u001b[0m: name 'gis' is not defined"
     ]
    }
   ],
   "source": [
    "# Create an arcgis.features.FeatureCollection object by importing the pandas dataframe with an address field\n",
    "address_map = gis.content.import_data(addresses)"
   ]
  },
  {
   "cell_type": "code",
   "execution_count": 14,
   "metadata": {},
   "outputs": [],
   "source": [
    "# The FeatureCollection can be added to the map using add_layer() method, just like regular portal items\n",
    "new_map.add_layer(rainfall, { \"renderer\":\"ClassedSizeRenderer\", \"field_name\":\"RAINFALL\" })"
   ]
  },
  {
   "cell_type": "code",
   "execution_count": null,
   "metadata": {},
   "outputs": [],
   "source": []
  }
 ],
 "metadata": {
  "kernelspec": {
   "display_name": "Python 3",
   "language": "python",
   "name": "python3"
  },
  "language_info": {
   "codemirror_mode": {
    "name": "ipython",
    "version": 3
   },
   "file_extension": ".py",
   "mimetype": "text/x-python",
   "name": "python",
   "nbconvert_exporter": "python",
   "pygments_lexer": "ipython3",
   "version": "3.6.9"
  }
 },
 "nbformat": 4,
 "nbformat_minor": 4
}
