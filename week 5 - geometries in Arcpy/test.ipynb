{
 "cells": [
  {
   "cell_type": "code",
   "execution_count": 1,
   "metadata": {},
   "outputs": [],
   "source": [
    "import arcpy"
   ]
  },
  {
   "cell_type": "code",
   "execution_count": 2,
   "metadata": {},
   "outputs": [
    {
     "data": {
      "text/plain": [
       "{'LicenseLevel': 'Advanced', 'InstallDir': 'c:\\\\program files\\\\arcgis\\\\pro\\\\', 'Installer': 'Carter', 'ProductName': 'ArcGISPro', 'Version': '2.5', 'SourceDir': 'C:\\\\Users\\\\Carter\\\\AppData\\\\Local\\\\Microsoft\\\\Windows\\\\INetCache\\\\ArcGISUpdate\\\\ArcGISPro\\\\esrisoftware.esri.com\\\\', 'InstallType': 'N/A', 'BuildNumber': '22081', 'InstallDate': '3/16/2020', 'InstallTime': '13:45:28', 'SPNumber': 'N/A', 'SPBuild': 'N/A'}"
      ]
     },
     "execution_count": 2,
     "metadata": {},
     "output_type": "execute_result"
    }
   ],
   "source": [
    "arcpy.GetInstallInfo()"
   ]
  },
  {
   "cell_type": "code",
   "execution_count": 4,
   "metadata": {},
   "outputs": [],
   "source": [
    "import arcgis"
   ]
  },
  {
   "cell_type": "code",
   "execution_count": 5,
   "metadata": {},
   "outputs": [
    {
     "data": {
      "text/plain": [
       "'1.7.0'"
      ]
     },
     "execution_count": 5,
     "metadata": {},
     "output_type": "execute_result"
    }
   ],
   "source": [
    "arcgis.__version__"
   ]
  },
  {
   "cell_type": "code",
   "execution_count": null,
   "metadata": {},
   "outputs": [],
   "source": []
  }
 ],
 "metadata": {
  "kernelspec": {
   "display_name": "ArcGISPro",
   "language": "Python",
   "name": "python3"
  },
  "language_info": {
   "file_extension": ".py",
   "name": "python",
   "version": "3"
  }
 },
 "nbformat": 4,
 "nbformat_minor": 2
}
