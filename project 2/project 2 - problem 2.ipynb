{
 "cells": [
  {
   "cell_type": "markdown",
   "metadata": {},
   "source": [
    "# Project 2 - Problem 2: Creating Data Science Notebooks\n",
    "## GIS5090 - Intro to Python Programming for GIS and Remote Sensing\n",
    "### Carter Hanford\n",
    "This is the Jupyter Notebook for problem 2 of project 2 in GIS5090. This problem entails creating data science notebooks exploring the **Missouri Demographic study**. The goal of this notebook/problem is to utilize ArcGIS Python API and web services, and answer a few questions regarding the study. \n",
    "\n",
    "* `1) - For the counties in Missouri only, what is the dominant Tapestry LifeMode Group Name.`\n",
    "* `2) - Create a histrogram that shows the number of Missouri counties per Tapestry LifeMode Group Name.`\n",
    "* `3) - Create a pie chart that shows the number of Missouri counties per Tapestry LifeMode Group Name.`\n",
    "* `4) - For the counties in Missouri, what is the dominant Dominant Tapestry Segment Name.`\n",
    "* `5) - Create a histogram that shows the number of Missouri counties per Tapestry Segment Name`\n",
    "* `6) - Create a pie chart that shows the number of Missouri counties per Tapestry Segment Name.`\n",
    "* `7) - Make sure the notebook is well-documented.`\n",
    "\n",
    "Now that we've highlighted the questions and introductions, let's get started!\n",
    "\n",
    "![](https://upload.wikimedia.org/wikipedia/en/thumb/4/4b/Saint_Louis_University_logo.svg/250px-Saint_Louis_University_logo.svg.png)."
   ]
  },
  {
   "cell_type": "markdown",
   "metadata": {},
   "source": [
    "### Problem 1 \n",
    "This question asks us to identify the dominant Tapestry LifeMode group name for Missouri only. Since we only want Missouri, we'll need to use a query to narrow down the data. \n",
    "\n",
    "Let's start with loading modules and calling the feature service data:"
   ]
  },
  {
   "cell_type": "code",
   "execution_count": 1,
   "metadata": {},
   "outputs": [
    {
     "name": "stdout",
     "output_type": "stream",
     "text": [
      "Enter password: ········\n"
     ]
    }
   ],
   "source": [
    "# load arcgis modules\n",
    "from arcgis.gis import GIS\n",
    "from arcgis.features.analysis import *\n",
    "from arcgis.features import FeatureLayer\n",
    "\n",
    "# load data viz modules\n",
    "import pandas as pd\n",
    "import matplotlib.pyplot as plt\n",
    "\n",
    "# connect to ArcGIS online\n",
    "gis = GIS(\"http://slustl.maps.arcgis.com/home\", \"carter.hanford_SLUSTL\")"
   ]
  },
  {
   "cell_type": "markdown",
   "metadata": {},
   "source": [
    "Now that we've imported the modules we need and connected to ArcGIS online, let's access the Missouri Demographic data. To do this we'll need to connect to the feature service which is available online, then use our ArcGIS online connection to load it as an object in our notebook."
   ]
  },
  {
   "cell_type": "code",
   "execution_count": 2,
   "metadata": {},
   "outputs": [],
   "source": [
    "# load feature layer data\n",
    "fl = FeatureLayer(\n",
    "    url='https://services.arcgis.com/P3ePLMYs2RVChkJx/ArcGIS/rest/services/Tapestry_Households/FeatureServer/1', \n",
    "    gis=gis\n",
    ")"
   ]
  },
  {
   "cell_type": "markdown",
   "metadata": {},
   "source": [
    "Next, the question asks us to look at only Missouri, so we'll use a search query to only include results from the state of Missouri. Then we'll write that to an spatial data frame object and take a look at the table to see what we can do with it."
   ]
  },
  {
   "cell_type": "code",
   "execution_count": 3,
   "metadata": {},
   "outputs": [
    {
     "data": {
      "text/html": [
       "<div>\n",
       "<style scoped>\n",
       "    .dataframe tbody tr th:only-of-type {\n",
       "        vertical-align: middle;\n",
       "    }\n",
       "\n",
       "    .dataframe tbody tr th {\n",
       "        vertical-align: top;\n",
       "    }\n",
       "\n",
       "    .dataframe thead th {\n",
       "        text-align: right;\n",
       "    }\n",
       "</style>\n",
       "<table border=\"1\" class=\"dataframe\">\n",
       "  <thead>\n",
       "    <tr style=\"text-align: right;\">\n",
       "      <th></th>\n",
       "      <th>OBJECTID</th>\n",
       "      <th>ID</th>\n",
       "      <th>NAME</th>\n",
       "      <th>STATE_NAME</th>\n",
       "      <th>ST_ABBREV</th>\n",
       "      <th>County_AREA</th>\n",
       "      <th>TSEGNUM</th>\n",
       "      <th>TSEGCODE</th>\n",
       "      <th>TSEGNAME</th>\n",
       "      <th>THHBASE</th>\n",
       "      <th>...</th>\n",
       "      <th>THHGRPL6</th>\n",
       "      <th>THHGRPL7</th>\n",
       "      <th>THHGRPL8</th>\n",
       "      <th>THHGRPL9</th>\n",
       "      <th>THHGRPL10</th>\n",
       "      <th>THHGRPL11</th>\n",
       "      <th>THHGRPL12</th>\n",
       "      <th>THHGRPL13</th>\n",
       "      <th>THHGRPL14</th>\n",
       "      <th>SHAPE</th>\n",
       "    </tr>\n",
       "  </thead>\n",
       "  <tbody>\n",
       "    <tr>\n",
       "      <td>0</td>\n",
       "      <td>1484</td>\n",
       "      <td>29001</td>\n",
       "      <td>Adair County</td>\n",
       "      <td>Missouri</td>\n",
       "      <td>MO</td>\n",
       "      <td>569.508658</td>\n",
       "      <td>38</td>\n",
       "      <td>8F</td>\n",
       "      <td>Old and Newcomers</td>\n",
       "      <td>9939</td>\n",
       "      <td>...</td>\n",
       "      <td>2312</td>\n",
       "      <td>0</td>\n",
       "      <td>2178</td>\n",
       "      <td>0</td>\n",
       "      <td>718</td>\n",
       "      <td>414</td>\n",
       "      <td>552</td>\n",
       "      <td>0</td>\n",
       "      <td>2216</td>\n",
       "      <td>{'rings': [[[-10280362.7670118, 4916410.069564...</td>\n",
       "    </tr>\n",
       "    <tr>\n",
       "      <td>1</td>\n",
       "      <td>1485</td>\n",
       "      <td>29003</td>\n",
       "      <td>Andrew County</td>\n",
       "      <td>Missouri</td>\n",
       "      <td>MO</td>\n",
       "      <td>436.317612</td>\n",
       "      <td>26</td>\n",
       "      <td>6F</td>\n",
       "      <td>Heartland Communities</td>\n",
       "      <td>6896</td>\n",
       "      <td>...</td>\n",
       "      <td>4824</td>\n",
       "      <td>0</td>\n",
       "      <td>0</td>\n",
       "      <td>0</td>\n",
       "      <td>456</td>\n",
       "      <td>0</td>\n",
       "      <td>0</td>\n",
       "      <td>0</td>\n",
       "      <td>0</td>\n",
       "      <td>{'rings': [[[-10531483.9534014, 4884315.773069...</td>\n",
       "    </tr>\n",
       "    <tr>\n",
       "      <td>2</td>\n",
       "      <td>1486</td>\n",
       "      <td>29005</td>\n",
       "      <td>Atchison County</td>\n",
       "      <td>Missouri</td>\n",
       "      <td>MO</td>\n",
       "      <td>556.848560</td>\n",
       "      <td>24</td>\n",
       "      <td>6D</td>\n",
       "      <td>Prairie Living</td>\n",
       "      <td>2480</td>\n",
       "      <td>...</td>\n",
       "      <td>1718</td>\n",
       "      <td>0</td>\n",
       "      <td>0</td>\n",
       "      <td>0</td>\n",
       "      <td>0</td>\n",
       "      <td>0</td>\n",
       "      <td>324</td>\n",
       "      <td>0</td>\n",
       "      <td>0</td>\n",
       "      <td>{'rings': [[[-10616987.3411962, 4950653.710427...</td>\n",
       "    </tr>\n",
       "    <tr>\n",
       "      <td>3</td>\n",
       "      <td>1487</td>\n",
       "      <td>29007</td>\n",
       "      <td>Audrain County</td>\n",
       "      <td>Missouri</td>\n",
       "      <td>MO</td>\n",
       "      <td>696.737302</td>\n",
       "      <td>58</td>\n",
       "      <td>12C</td>\n",
       "      <td>Small Town Simplicity</td>\n",
       "      <td>9575</td>\n",
       "      <td>...</td>\n",
       "      <td>4784</td>\n",
       "      <td>0</td>\n",
       "      <td>537</td>\n",
       "      <td>0</td>\n",
       "      <td>0</td>\n",
       "      <td>0</td>\n",
       "      <td>2879</td>\n",
       "      <td>0</td>\n",
       "      <td>0</td>\n",
       "      <td>{'rings': [[[-10209994.3775193, 4770334.446140...</td>\n",
       "    </tr>\n",
       "    <tr>\n",
       "      <td>4</td>\n",
       "      <td>1488</td>\n",
       "      <td>29009</td>\n",
       "      <td>Barry County</td>\n",
       "      <td>Missouri</td>\n",
       "      <td>MO</td>\n",
       "      <td>790.957836</td>\n",
       "      <td>46</td>\n",
       "      <td>10A</td>\n",
       "      <td>Southern Satellites</td>\n",
       "      <td>14390</td>\n",
       "      <td>...</td>\n",
       "      <td>5737</td>\n",
       "      <td>272</td>\n",
       "      <td>0</td>\n",
       "      <td>688</td>\n",
       "      <td>5942</td>\n",
       "      <td>238</td>\n",
       "      <td>382</td>\n",
       "      <td>0</td>\n",
       "      <td>0</td>\n",
       "      <td>{'rings': [[[-10420742.210988, 4428344.5967196...</td>\n",
       "    </tr>\n",
       "    <tr>\n",
       "      <td>...</td>\n",
       "      <td>...</td>\n",
       "      <td>...</td>\n",
       "      <td>...</td>\n",
       "      <td>...</td>\n",
       "      <td>...</td>\n",
       "      <td>...</td>\n",
       "      <td>...</td>\n",
       "      <td>...</td>\n",
       "      <td>...</td>\n",
       "      <td>...</td>\n",
       "      <td>...</td>\n",
       "      <td>...</td>\n",
       "      <td>...</td>\n",
       "      <td>...</td>\n",
       "      <td>...</td>\n",
       "      <td>...</td>\n",
       "      <td>...</td>\n",
       "      <td>...</td>\n",
       "      <td>...</td>\n",
       "      <td>...</td>\n",
       "      <td>...</td>\n",
       "    </tr>\n",
       "    <tr>\n",
       "      <td>110</td>\n",
       "      <td>1594</td>\n",
       "      <td>29223</td>\n",
       "      <td>Wayne County</td>\n",
       "      <td>Missouri</td>\n",
       "      <td>MO</td>\n",
       "      <td>774.074683</td>\n",
       "      <td>47</td>\n",
       "      <td>10B</td>\n",
       "      <td>Rooted Rural</td>\n",
       "      <td>5526</td>\n",
       "      <td>...</td>\n",
       "      <td>844</td>\n",
       "      <td>0</td>\n",
       "      <td>0</td>\n",
       "      <td>1187</td>\n",
       "      <td>2720</td>\n",
       "      <td>0</td>\n",
       "      <td>775</td>\n",
       "      <td>0</td>\n",
       "      <td>0</td>\n",
       "      <td>{'rings': [[[-10042980.631842, 4483088.3538738...</td>\n",
       "    </tr>\n",
       "    <tr>\n",
       "      <td>111</td>\n",
       "      <td>1595</td>\n",
       "      <td>29225</td>\n",
       "      <td>Webster County</td>\n",
       "      <td>Missouri</td>\n",
       "      <td>MO</td>\n",
       "      <td>593.759317</td>\n",
       "      <td>46</td>\n",
       "      <td>10A</td>\n",
       "      <td>Southern Satellites</td>\n",
       "      <td>13299</td>\n",
       "      <td>...</td>\n",
       "      <td>3650</td>\n",
       "      <td>0</td>\n",
       "      <td>579</td>\n",
       "      <td>0</td>\n",
       "      <td>5698</td>\n",
       "      <td>0</td>\n",
       "      <td>1535</td>\n",
       "      <td>0</td>\n",
       "      <td>0</td>\n",
       "      <td>{'rings': [[[-10336402.1117608, 4506783.785767...</td>\n",
       "    </tr>\n",
       "    <tr>\n",
       "      <td>112</td>\n",
       "      <td>1596</td>\n",
       "      <td>29227</td>\n",
       "      <td>Worth County</td>\n",
       "      <td>Missouri</td>\n",
       "      <td>MO</td>\n",
       "      <td>266.848030</td>\n",
       "      <td>24</td>\n",
       "      <td>6D</td>\n",
       "      <td>Prairie Living</td>\n",
       "      <td>944</td>\n",
       "      <td>...</td>\n",
       "      <td>944</td>\n",
       "      <td>0</td>\n",
       "      <td>0</td>\n",
       "      <td>0</td>\n",
       "      <td>0</td>\n",
       "      <td>0</td>\n",
       "      <td>0</td>\n",
       "      <td>0</td>\n",
       "      <td>0</td>\n",
       "      <td>{'rings': [[[-10487882.3352475, 4921935.643943...</td>\n",
       "    </tr>\n",
       "    <tr>\n",
       "      <td>113</td>\n",
       "      <td>1597</td>\n",
       "      <td>29229</td>\n",
       "      <td>Wright County</td>\n",
       "      <td>Missouri</td>\n",
       "      <td>MO</td>\n",
       "      <td>683.011720</td>\n",
       "      <td>47</td>\n",
       "      <td>10B</td>\n",
       "      <td>Rooted Rural</td>\n",
       "      <td>7625</td>\n",
       "      <td>...</td>\n",
       "      <td>890</td>\n",
       "      <td>0</td>\n",
       "      <td>0</td>\n",
       "      <td>0</td>\n",
       "      <td>4607</td>\n",
       "      <td>0</td>\n",
       "      <td>2128</td>\n",
       "      <td>0</td>\n",
       "      <td>0</td>\n",
       "      <td>{'rings': [[[-10269474.7189368, 4505235.714080...</td>\n",
       "    </tr>\n",
       "    <tr>\n",
       "      <td>114</td>\n",
       "      <td>1598</td>\n",
       "      <td>29510</td>\n",
       "      <td>St. Louis city</td>\n",
       "      <td>Missouri</td>\n",
       "      <td>MO</td>\n",
       "      <td>65.972628</td>\n",
       "      <td>34</td>\n",
       "      <td>8B</td>\n",
       "      <td>Emerald City</td>\n",
       "      <td>142916</td>\n",
       "      <td>...</td>\n",
       "      <td>0</td>\n",
       "      <td>0</td>\n",
       "      <td>46308</td>\n",
       "      <td>6536</td>\n",
       "      <td>0</td>\n",
       "      <td>28502</td>\n",
       "      <td>28477</td>\n",
       "      <td>1806</td>\n",
       "      <td>2597</td>\n",
       "      <td>{'rings': [[[-10037287.7531941, 4689126.347551...</td>\n",
       "    </tr>\n",
       "  </tbody>\n",
       "</table>\n",
       "<p>115 rows × 96 columns</p>\n",
       "</div>"
      ],
      "text/plain": [
       "     OBJECTID     ID             NAME STATE_NAME ST_ABBREV  County_AREA  \\\n",
       "0        1484  29001     Adair County   Missouri        MO   569.508658   \n",
       "1        1485  29003    Andrew County   Missouri        MO   436.317612   \n",
       "2        1486  29005  Atchison County   Missouri        MO   556.848560   \n",
       "3        1487  29007   Audrain County   Missouri        MO   696.737302   \n",
       "4        1488  29009     Barry County   Missouri        MO   790.957836   \n",
       "..        ...    ...              ...        ...       ...          ...   \n",
       "110      1594  29223     Wayne County   Missouri        MO   774.074683   \n",
       "111      1595  29225   Webster County   Missouri        MO   593.759317   \n",
       "112      1596  29227     Worth County   Missouri        MO   266.848030   \n",
       "113      1597  29229    Wright County   Missouri        MO   683.011720   \n",
       "114      1598  29510   St. Louis city   Missouri        MO    65.972628   \n",
       "\n",
       "     TSEGNUM TSEGCODE               TSEGNAME  THHBASE  ...  THHGRPL6  \\\n",
       "0         38       8F      Old and Newcomers     9939  ...      2312   \n",
       "1         26       6F  Heartland Communities     6896  ...      4824   \n",
       "2         24       6D         Prairie Living     2480  ...      1718   \n",
       "3         58      12C  Small Town Simplicity     9575  ...      4784   \n",
       "4         46      10A    Southern Satellites    14390  ...      5737   \n",
       "..       ...      ...                    ...      ...  ...       ...   \n",
       "110       47      10B           Rooted Rural     5526  ...       844   \n",
       "111       46      10A    Southern Satellites    13299  ...      3650   \n",
       "112       24       6D         Prairie Living      944  ...       944   \n",
       "113       47      10B           Rooted Rural     7625  ...       890   \n",
       "114       34       8B           Emerald City   142916  ...         0   \n",
       "\n",
       "     THHGRPL7  THHGRPL8  THHGRPL9  THHGRPL10  THHGRPL11  THHGRPL12  THHGRPL13  \\\n",
       "0           0      2178         0        718        414        552          0   \n",
       "1           0         0         0        456          0          0          0   \n",
       "2           0         0         0          0          0        324          0   \n",
       "3           0       537         0          0          0       2879          0   \n",
       "4         272         0       688       5942        238        382          0   \n",
       "..        ...       ...       ...        ...        ...        ...        ...   \n",
       "110         0         0      1187       2720          0        775          0   \n",
       "111         0       579         0       5698          0       1535          0   \n",
       "112         0         0         0          0          0          0          0   \n",
       "113         0         0         0       4607          0       2128          0   \n",
       "114         0     46308      6536          0      28502      28477       1806   \n",
       "\n",
       "     THHGRPL14                                              SHAPE  \n",
       "0         2216  {'rings': [[[-10280362.7670118, 4916410.069564...  \n",
       "1            0  {'rings': [[[-10531483.9534014, 4884315.773069...  \n",
       "2            0  {'rings': [[[-10616987.3411962, 4950653.710427...  \n",
       "3            0  {'rings': [[[-10209994.3775193, 4770334.446140...  \n",
       "4            0  {'rings': [[[-10420742.210988, 4428344.5967196...  \n",
       "..         ...                                                ...  \n",
       "110          0  {'rings': [[[-10042980.631842, 4483088.3538738...  \n",
       "111          0  {'rings': [[[-10336402.1117608, 4506783.785767...  \n",
       "112          0  {'rings': [[[-10487882.3352475, 4921935.643943...  \n",
       "113          0  {'rings': [[[-10269474.7189368, 4505235.714080...  \n",
       "114       2597  {'rings': [[[-10037287.7531941, 4689126.347551...  \n",
       "\n",
       "[115 rows x 96 columns]"
      ]
     },
     "execution_count": 3,
     "metadata": {},
     "output_type": "execute_result"
    }
   ],
   "source": [
    "# create data object from search query\n",
    "mo_demo = fl.query(where = \"STATE_NAME = 'Missouri'\").sdf\n",
    "mo_demo"
   ]
  },
  {
   "cell_type": "markdown",
   "metadata": {},
   "source": [
    "This particular question asks us to look at the dominant Tapestry LifeMode Group Name which is characterized by the variable `TLIFENAME` in this data frame. In order to find the most dominant, we can simply write the variable to an object and use the `max` function to find the largest value."
   ]
  },
  {
   "cell_type": "code",
   "execution_count": 4,
   "metadata": {},
   "outputs": [
    {
     "name": "stdout",
     "output_type": "stream",
     "text": [
      "Cozy Country Living\n"
     ]
    }
   ],
   "source": [
    "# set object to TLIFENAME variable \n",
    "tlife = mo_demo['TLIFENAME']\n",
    "print(min(tlife))"
   ]
  },
  {
   "cell_type": "markdown",
   "metadata": {},
   "source": [
    "In Missouri, the dominant Tapestry LifeMode Group Name is 'Cozy Country Living.' \n",
    "\n",
    "Just for fun, I want to see what the least dominant group name is:"
   ]
  },
  {
   "cell_type": "code",
   "execution_count": 5,
   "metadata": {},
   "outputs": [
    {
     "name": "stdout",
     "output_type": "stream",
     "text": [
      "Senior Styles\n"
     ]
    }
   ],
   "source": [
    "print(max(tlife))"
   ]
  },
  {
   "cell_type": "markdown",
   "metadata": {},
   "source": [
    "I know it may seem counter-intuitive to use `min` to locate the dominant group and `max` to locate the least dominant group, but let's take a look at a list of the data just to verify that these function calls are actually doing their job:"
   ]
  },
  {
   "cell_type": "code",
   "execution_count": 6,
   "metadata": {},
   "outputs": [
    {
     "data": {
      "text/plain": [
       "['Middle Ground',\n",
       " 'Cozy Country Living',\n",
       " 'Cozy Country Living',\n",
       " 'Hometown',\n",
       " 'Rustic Outposts',\n",
       " 'Cozy Country Living',\n",
       " 'Cozy Country Living',\n",
       " 'Cozy Country Living',\n",
       " 'Rustic Outposts',\n",
       " 'Middle Ground',\n",
       " 'Hometown',\n",
       " 'Hometown',\n",
       " 'Cozy Country Living',\n",
       " 'Family Landscapes',\n",
       " 'Cozy Country Living',\n",
       " 'Cozy Country Living',\n",
       " 'Cozy Country Living',\n",
       " 'Rustic Outposts',\n",
       " 'Cozy Country Living',\n",
       " 'Rustic Outposts',\n",
       " 'Cozy Country Living',\n",
       " 'Family Landscapes',\n",
       " 'Rustic Outposts',\n",
       " 'GenXurban',\n",
       " 'Cozy Country Living',\n",
       " 'Family Landscapes',\n",
       " 'Cozy Country Living',\n",
       " 'Rustic Outposts',\n",
       " 'Rustic Outposts',\n",
       " 'Rustic Outposts',\n",
       " 'Cozy Country Living',\n",
       " 'Cozy Country Living',\n",
       " 'Rustic Outposts',\n",
       " 'Rustic Outposts',\n",
       " 'Rustic Outposts',\n",
       " 'Cozy Country Living',\n",
       " 'Rustic Outposts',\n",
       " 'Cozy Country Living',\n",
       " 'Family Landscapes',\n",
       " 'Cozy Country Living',\n",
       " 'Cozy Country Living',\n",
       " 'Cozy Country Living',\n",
       " 'Senior Styles',\n",
       " 'Cozy Country Living',\n",
       " 'Cozy Country Living',\n",
       " 'Rustic Outposts',\n",
       " 'Rustic Outposts',\n",
       " 'GenXurban',\n",
       " 'Hometown',\n",
       " 'Cozy Country Living',\n",
       " 'Family Landscapes',\n",
       " 'Cozy Country Living',\n",
       " 'Rustic Outposts',\n",
       " 'Cozy Country Living',\n",
       " 'Cozy Country Living',\n",
       " 'Cozy Country Living',\n",
       " 'Family Landscapes',\n",
       " 'Cozy Country Living',\n",
       " 'Cozy Country Living',\n",
       " 'Rustic Outposts',\n",
       " 'Cozy Country Living',\n",
       " 'Rustic Outposts',\n",
       " 'Cozy Country Living',\n",
       " 'GenXurban',\n",
       " 'Cozy Country Living',\n",
       " 'Rustic Outposts',\n",
       " 'Hometown',\n",
       " 'Cozy Country Living',\n",
       " 'Cozy Country Living',\n",
       " 'Rustic Outposts',\n",
       " 'Cozy Country Living',\n",
       " 'Rustic Outposts',\n",
       " 'Rustic Outposts',\n",
       " 'Scholars and Patriots',\n",
       " 'Rustic Outposts',\n",
       " 'Cozy Country Living',\n",
       " 'Rustic Outposts',\n",
       " 'Hometown',\n",
       " 'Cozy Country Living',\n",
       " 'Cozy Country Living',\n",
       " 'Scholars and Patriots',\n",
       " 'Cozy Country Living',\n",
       " 'Cozy Country Living',\n",
       " 'Rustic Outposts',\n",
       " 'Family Landscapes',\n",
       " 'Rustic Outposts',\n",
       " 'Cozy Country Living',\n",
       " 'Rustic Outposts',\n",
       " 'Cozy Country Living',\n",
       " 'Rustic Outposts',\n",
       " 'Rustic Outposts',\n",
       " 'Family Landscapes',\n",
       " 'Hometown',\n",
       " 'Cozy Country Living',\n",
       " 'Hometown',\n",
       " 'Hometown',\n",
       " 'GenXurban',\n",
       " 'Rustic Outposts',\n",
       " 'Cozy Country Living',\n",
       " 'Cozy Country Living',\n",
       " 'Rustic Outposts',\n",
       " 'Cozy Country Living',\n",
       " 'Rustic Outposts',\n",
       " 'Cozy Country Living',\n",
       " 'Rustic Outposts',\n",
       " 'Middle Ground',\n",
       " 'Rustic Outposts',\n",
       " 'Cozy Country Living',\n",
       " 'Family Landscapes',\n",
       " 'Rustic Outposts',\n",
       " 'Rustic Outposts',\n",
       " 'Rustic Outposts',\n",
       " 'Cozy Country Living',\n",
       " 'Rustic Outposts',\n",
       " 'Middle Ground']"
      ]
     },
     "execution_count": 6,
     "metadata": {},
     "output_type": "execute_result"
    }
   ],
   "source": [
    "list(tlife)"
   ]
  },
  {
   "cell_type": "markdown",
   "metadata": {},
   "source": [
    "As you can see here, 'Cozy Country living' is certainly the most dominant life group listed here for Missouri."
   ]
  },
  {
   "cell_type": "markdown",
   "metadata": {},
   "source": [
    "### Problem 2\n",
    "Problem 2 asks us to create a histrogram that shows the number of Missouri counties per Tapestry LifeMode Group Name."
   ]
  },
  {
   "cell_type": "code",
   "execution_count": null,
   "metadata": {},
   "outputs": [],
   "source": [
    "hist = plt.hist(mo_demo['TLIFENAME'], bins = 10, alpha = 0.5)"
   ]
  },
  {
   "cell_type": "markdown",
   "metadata": {},
   "source": [
    "In this histogram case, the count represents the number of Missouri counties per tapestry life group. As the previous question confirmed, \"Cozy Country Living\" is the dominant lifegroup name, with almost 50 counties in Missouri belonging to this group."
   ]
  },
  {
   "cell_type": "markdown",
   "metadata": {},
   "source": [
    "### Problem 3\n",
    "Problem 3 asks us to create a pie chart that shows the number of Missouri counties per Tapestry LifeMode Group Name. This will be very similar to the previous two problems in terms of outcomes."
   ]
  },
  {
   "cell_type": "code",
   "execution_count": null,
   "metadata": {
    "scrolled": true
   },
   "outputs": [],
   "source": [
    "tlife = mo_demo[\"TLIFENAME\"]"
   ]
  },
  {
   "cell_type": "code",
   "execution_count": 31,
   "metadata": {},
   "outputs": [],
   "source": [
    "# use this to find count of life category\n",
    "#list(tlife).count('name goes here')"
   ]
  },
  {
   "cell_type": "code",
   "execution_count": 30,
   "metadata": {},
   "outputs": [
    {
     "data": {
      "text/plain": [
       "([<matplotlib.patches.Wedge at 0x1caa5790080>,\n",
       "  <matplotlib.patches.Wedge at 0x1caa5790e48>,\n",
       "  <matplotlib.patches.Wedge at 0x1cab197d630>,\n",
       "  <matplotlib.patches.Wedge at 0x1cab197df28>,\n",
       "  <matplotlib.patches.Wedge at 0x1cab0abd0f0>,\n",
       "  <matplotlib.patches.Wedge at 0x1caa590fa20>,\n",
       "  <matplotlib.patches.Wedge at 0x1cab19b3240>,\n",
       "  <matplotlib.patches.Wedge at 0x1cab19b3160>],\n",
       " [Text(0.2761482812213907, 1.1677937004361993, 'Cozy Country Living'),\n",
       "  Text(-1.0313589259228029, 0.3824902167629424, 'Middle Ground'),\n",
       "  Text(-1.0999999999999999, -2.5747358288378247e-08, 'Hometown'),\n",
       "  Text(-0.33991864973549474, -1.0461621822461364, 'Rustic Outposts'),\n",
       "  Text(0.8899187331606258, -0.6465637233635886, 'Family Landscapes'),\n",
       "  Text(1.0592090319388425, -0.2967763916809762, 'GenXurban'),\n",
       "  Text(1.0897545477089876, -0.14978326257489566, 'Senior Styles'),\n",
       "  Text(1.0983585864414593, -0.06007008898211837, 'Scholars and Patriots')],\n",
       " [Text(0.16108649737914457, 0.6812129919211163, '42.6%'),\n",
       "  Text(-0.5625594141397106, 0.2086310273252413, '3.5%'),\n",
       "  Text(-0.5999999999999999, -1.4044013611842678e-08, '7.8%'),\n",
       "  Text(-0.1854101725829971, -0.5706339175888016, '32.2%'),\n",
       "  Text(0.485410218087614, -0.3526711218346847, '7.8%'),\n",
       "  Text(0.5777503810575504, -0.16187803182598698, '3.5%'),\n",
       "  Text(0.5944115714776295, -0.08169996140448854, '0.9%'),\n",
       "  Text(0.5991046835135232, -0.03276550308115547, '1.7%')])"
      ]
     },
     "execution_count": 30,
     "metadata": {},
     "output_type": "execute_result"
    },
    {
     "data": {
      "image/png": "[encoded data removed]",
      "text/plain": [
       "<Figure size 432x288 with 1 Axes>"
      ]
     },
     "metadata": {},
     "output_type": "display_data"
    }
   ],
   "source": [
    "# create labels\n",
    "labels = ('Cozy Country Living', 'Middle Ground', 'Hometown', 'Rustic Outposts', 'Family Landscapes', 'GenXurban', \n",
    "'Senior Styles', 'Scholars and Patriots')\n",
    "\n",
    "# add sizes\n",
    "sizes = [49, 4, 9, 37, 9, 4, 1, 2]\n",
    "explode = (0.1, 0, 0, 0, 0, 0, 0, 0)\n",
    "\n",
    "# create pie chart\n",
    "plt.pie(sizes, labels = labels, explode = explode, autopct='%1.1f%%',\n",
    "        shadow=True)"
   ]
  },
  {
   "cell_type": "markdown",
   "metadata": {},
   "source": [
    "Again, nothing new here in terms of top tapestry names. Just some cool new data visualizations!"
   ]
  },
  {
   "cell_type": "markdown",
   "metadata": {},
   "source": [
    "### Problem 4\n",
    "Problem 4 asks us to find the dominant Dominant Tapestry Segment Name for all counties in Missouri. For this problem and the next two, we'll be doing the same analysis in terms of code. We're just looking at a new variable!"
   ]
  },
  {
   "cell_type": "code",
   "execution_count": 44,
   "metadata": {},
   "outputs": [],
   "source": [
    "# set object to TSEGNAME variable \n",
    "tseg = mo_demo['TSEGNAME']"
   ]
  },
  {
   "cell_type": "markdown",
   "metadata": {},
   "source": [
    "Let's start by taking a look at all of the `'TSEGNAME'` listings in the state of Missouri:"
   ]
  },
  {
   "cell_type": "code",
   "execution_count": 48,
   "metadata": {},
   "outputs": [
    {
     "data": {
      "text/plain": [
       "['Old and Newcomers',\n",
       " 'Heartland Communities',\n",
       " 'Prairie Living',\n",
       " 'Small Town Simplicity',\n",
       " 'Southern Satellites',\n",
       " 'Heartland Communities',\n",
       " 'Prairie Living',\n",
       " 'Rural Resort Dwellers',\n",
       " 'Rooted Rural',\n",
       " 'Bright Young Professionals',\n",
       " 'Traditional Living',\n",
       " 'Small Town Simplicity',\n",
       " 'Salt of the Earth',\n",
       " 'Middleburg',\n",
       " 'Rural Resort Dwellers',\n",
       " 'Green Acres',\n",
       " 'Prairie Living',\n",
       " 'Rural Bypasses',\n",
       " 'Green Acres',\n",
       " 'Rooted Rural',\n",
       " 'Prairie Living',\n",
       " 'Middleburg',\n",
       " 'Rooted Rural',\n",
       " 'Rustbelt Traditions',\n",
       " 'Salt of the Earth',\n",
       " 'Middleburg',\n",
       " 'Prairie Living',\n",
       " 'Rooted Rural',\n",
       " 'Rooted Rural',\n",
       " 'Rooted Rural',\n",
       " 'Prairie Living',\n",
       " 'Prairie Living',\n",
       " 'Rooted Rural',\n",
       " 'Rooted Rural',\n",
       " 'Rural Bypasses',\n",
       " 'Salt of the Earth',\n",
       " 'Rooted Rural',\n",
       " 'Heartland Communities',\n",
       " 'Middleburg',\n",
       " 'Prairie Living',\n",
       " 'Prairie Living',\n",
       " 'Heartland Communities',\n",
       " 'Senior Escapes',\n",
       " 'Heartland Communities',\n",
       " 'Heartland Communities',\n",
       " 'Rooted Rural',\n",
       " 'Rooted Rural',\n",
       " 'Rustbelt Traditions',\n",
       " 'Traditional Living',\n",
       " 'Green Acres',\n",
       " 'Middleburg',\n",
       " 'Prairie Living',\n",
       " 'Southern Satellites',\n",
       " 'Heartland Communities',\n",
       " 'Heartland Communities',\n",
       " 'Salt of the Earth',\n",
       " 'Middleburg',\n",
       " 'Heartland Communities',\n",
       " 'Prairie Living',\n",
       " 'Southern Satellites',\n",
       " 'Heartland Communities',\n",
       " 'Rooted Rural',\n",
       " 'Salt of the Earth',\n",
       " 'Midlife Constants',\n",
       " 'Prairie Living',\n",
       " 'Southern Satellites',\n",
       " 'Small Town Simplicity',\n",
       " 'Prairie Living',\n",
       " 'Heartland Communities',\n",
       " 'Rooted Rural',\n",
       " 'Rural Resort Dwellers',\n",
       " 'Rooted Rural',\n",
       " 'Southern Satellites',\n",
       " 'College Towns',\n",
       " 'Rooted Rural',\n",
       " 'Salt of the Earth',\n",
       " 'Rooted Rural',\n",
       " 'Small Town Simplicity',\n",
       " 'Heartland Communities',\n",
       " 'Heartland Communities',\n",
       " 'College Towns',\n",
       " 'Heartland Communities',\n",
       " 'Green Acres',\n",
       " 'Southern Satellites',\n",
       " 'Middleburg',\n",
       " 'Rooted Rural',\n",
       " 'Salt of the Earth',\n",
       " 'Southern Satellites',\n",
       " 'Salt of the Earth',\n",
       " 'Rooted Rural',\n",
       " 'Rooted Rural',\n",
       " 'Soccer Moms',\n",
       " 'Small Town Simplicity',\n",
       " 'Salt of the Earth',\n",
       " 'Small Town Simplicity',\n",
       " 'Family Foundations',\n",
       " 'Midlife Constants',\n",
       " 'Rooted Rural',\n",
       " 'Prairie Living',\n",
       " 'Heartland Communities',\n",
       " 'Rooted Rural',\n",
       " 'Heartland Communities',\n",
       " 'Rooted Rural',\n",
       " 'Rural Resort Dwellers',\n",
       " 'Rooted Rural',\n",
       " 'Old and Newcomers',\n",
       " 'Rooted Rural',\n",
       " 'Prairie Living',\n",
       " 'Middleburg',\n",
       " 'Rooted Rural',\n",
       " 'Rooted Rural',\n",
       " 'Southern Satellites',\n",
       " 'Prairie Living',\n",
       " 'Rooted Rural',\n",
       " 'Emerald City']"
      ]
     },
     "execution_count": 48,
     "metadata": {},
     "output_type": "execute_result"
    }
   ],
   "source": [
    "list(tseg)"
   ]
  },
  {
   "cell_type": "markdown",
   "metadata": {},
   "source": [
    "Just from simply looking at the list, it looks like 'Rooted Rural' appears quite a bit more often than any other segment name.\n",
    "\n",
    "Let's count those:"
   ]
  },
  {
   "cell_type": "code",
   "execution_count": null,
   "metadata": {},
   "outputs": [],
   "source": [
    "# count rooted rural in list\n",
    "list(tseg).count('Rooted Rural')"
   ]
  },
  {
   "cell_type": "markdown",
   "metadata": {},
   "source": [
    "There are 27 instances of 'Rooted Rural' segment names of the counties in Missouri. \n",
    "\n",
    "Here's what is interesting though, in the previous code above I was able to use the `max` function to find the maximum value that appears in a list. When using it here, however, it gives me 'Traditional Living' which only appears twice in all the counties. "
   ]
  },
  {
   "cell_type": "code",
   "execution_count": 45,
   "metadata": {},
   "outputs": [
    {
     "data": {
      "text/plain": [
       "'Traditional Living'"
      ]
     },
     "execution_count": 45,
     "metadata": {},
     "output_type": "execute_result"
    }
   ],
   "source": [
    "max(list(tseg))"
   ]
  },
  {
   "cell_type": "code",
   "execution_count": 51,
   "metadata": {},
   "outputs": [
    {
     "data": {
      "text/plain": [
       "2"
      ]
     },
     "execution_count": 51,
     "metadata": {},
     "output_type": "execute_result"
    }
   ],
   "source": [
    "# count \n",
    "list(tseg).count('Traditional Living')"
   ]
  },
  {
   "cell_type": "markdown",
   "metadata": {},
   "source": [
    "Using the `min` call, however, does give us the minimum value in the list, or the least dominant."
   ]
  },
  {
   "cell_type": "code",
   "execution_count": 50,
   "metadata": {},
   "outputs": [
    {
     "data": {
      "text/plain": [
       "'Bright Young Professionals'"
      ]
     },
     "execution_count": 50,
     "metadata": {},
     "output_type": "execute_result"
    }
   ],
   "source": [
    "min(list(tseg))"
   ]
  },
  {
   "cell_type": "code",
   "execution_count": 52,
   "metadata": {},
   "outputs": [
    {
     "data": {
      "text/plain": [
       "1"
      ]
     },
     "execution_count": 52,
     "metadata": {},
     "output_type": "execute_result"
    }
   ],
   "source": [
    "# count \n",
    "list(tseg).count('Bright Young Professionals')"
   ]
  },
  {
   "cell_type": "markdown",
   "metadata": {},
   "source": [
    "### Problem 5\n",
    "Problem 5 asks us to create a histogram that shows the number of Missouri counties per Tapestry Segment Name."
   ]
  },
  {
   "cell_type": "code",
   "execution_count": 53,
   "metadata": {},
   "outputs": [
    {
     "data": {
      "image/png": "[encoded data removed]",
      "text/plain": [
       "<Figure size 432x288 with 1 Axes>"
      ]
     },
     "metadata": {
      "needs_background": "light"
     },
     "output_type": "display_data"
    }
   ],
   "source": [
    "hist = plt.hist(mo_demo['TSEGNAME'], bins = 10, alpha = 0.5)"
   ]
  },
  {
   "cell_type": "markdown",
   "metadata": {},
   "source": [
    "Similar to the previous problem, we can confirm that 'Rooted Rural' does in fact have the highest instances in Missouri counties with a count of 27."
   ]
  },
  {
   "cell_type": "markdown",
   "metadata": {},
   "source": [
    "### Problem 6\n",
    "Problem 6 asks us to create a pie chart that shows the number of Missouri counties per Tapestry Segment Name.\n",
    "\n",
    "Again, we'll use the same workflow as before."
   ]
  },
  {
   "cell_type": "code",
   "execution_count": 54,
   "metadata": {},
   "outputs": [
    {
     "data": {
      "text/plain": [
       "['Old and Newcomers',\n",
       " 'Heartland Communities',\n",
       " 'Prairie Living',\n",
       " 'Small Town Simplicity',\n",
       " 'Southern Satellites',\n",
       " 'Heartland Communities',\n",
       " 'Prairie Living',\n",
       " 'Rural Resort Dwellers',\n",
       " 'Rooted Rural',\n",
       " 'Bright Young Professionals',\n",
       " 'Traditional Living',\n",
       " 'Small Town Simplicity',\n",
       " 'Salt of the Earth',\n",
       " 'Middleburg',\n",
       " 'Rural Resort Dwellers',\n",
       " 'Green Acres',\n",
       " 'Prairie Living',\n",
       " 'Rural Bypasses',\n",
       " 'Green Acres',\n",
       " 'Rooted Rural',\n",
       " 'Prairie Living',\n",
       " 'Middleburg',\n",
       " 'Rooted Rural',\n",
       " 'Rustbelt Traditions',\n",
       " 'Salt of the Earth',\n",
       " 'Middleburg',\n",
       " 'Prairie Living',\n",
       " 'Rooted Rural',\n",
       " 'Rooted Rural',\n",
       " 'Rooted Rural',\n",
       " 'Prairie Living',\n",
       " 'Prairie Living',\n",
       " 'Rooted Rural',\n",
       " 'Rooted Rural',\n",
       " 'Rural Bypasses',\n",
       " 'Salt of the Earth',\n",
       " 'Rooted Rural',\n",
       " 'Heartland Communities',\n",
       " 'Middleburg',\n",
       " 'Prairie Living',\n",
       " 'Prairie Living',\n",
       " 'Heartland Communities',\n",
       " 'Senior Escapes',\n",
       " 'Heartland Communities',\n",
       " 'Heartland Communities',\n",
       " 'Rooted Rural',\n",
       " 'Rooted Rural',\n",
       " 'Rustbelt Traditions',\n",
       " 'Traditional Living',\n",
       " 'Green Acres',\n",
       " 'Middleburg',\n",
       " 'Prairie Living',\n",
       " 'Southern Satellites',\n",
       " 'Heartland Communities',\n",
       " 'Heartland Communities',\n",
       " 'Salt of the Earth',\n",
       " 'Middleburg',\n",
       " 'Heartland Communities',\n",
       " 'Prairie Living',\n",
       " 'Southern Satellites',\n",
       " 'Heartland Communities',\n",
       " 'Rooted Rural',\n",
       " 'Salt of the Earth',\n",
       " 'Midlife Constants',\n",
       " 'Prairie Living',\n",
       " 'Southern Satellites',\n",
       " 'Small Town Simplicity',\n",
       " 'Prairie Living',\n",
       " 'Heartland Communities',\n",
       " 'Rooted Rural',\n",
       " 'Rural Resort Dwellers',\n",
       " 'Rooted Rural',\n",
       " 'Southern Satellites',\n",
       " 'College Towns',\n",
       " 'Rooted Rural',\n",
       " 'Salt of the Earth',\n",
       " 'Rooted Rural',\n",
       " 'Small Town Simplicity',\n",
       " 'Heartland Communities',\n",
       " 'Heartland Communities',\n",
       " 'College Towns',\n",
       " 'Heartland Communities',\n",
       " 'Green Acres',\n",
       " 'Southern Satellites',\n",
       " 'Middleburg',\n",
       " 'Rooted Rural',\n",
       " 'Salt of the Earth',\n",
       " 'Southern Satellites',\n",
       " 'Salt of the Earth',\n",
       " 'Rooted Rural',\n",
       " 'Rooted Rural',\n",
       " 'Soccer Moms',\n",
       " 'Small Town Simplicity',\n",
       " 'Salt of the Earth',\n",
       " 'Small Town Simplicity',\n",
       " 'Family Foundations',\n",
       " 'Midlife Constants',\n",
       " 'Rooted Rural',\n",
       " 'Prairie Living',\n",
       " 'Heartland Communities',\n",
       " 'Rooted Rural',\n",
       " 'Heartland Communities',\n",
       " 'Rooted Rural',\n",
       " 'Rural Resort Dwellers',\n",
       " 'Rooted Rural',\n",
       " 'Old and Newcomers',\n",
       " 'Rooted Rural',\n",
       " 'Prairie Living',\n",
       " 'Middleburg',\n",
       " 'Rooted Rural',\n",
       " 'Rooted Rural',\n",
       " 'Southern Satellites',\n",
       " 'Prairie Living',\n",
       " 'Rooted Rural',\n",
       " 'Emerald City']"
      ]
     },
     "execution_count": 54,
     "metadata": {},
     "output_type": "execute_result"
    }
   ],
   "source": [
    "tseg = mo_demo['TSEGNAME']\n",
    "list(tseg)"
   ]
  },
  {
   "cell_type": "code",
   "execution_count": 77,
   "metadata": {},
   "outputs": [],
   "source": [
    "# use this to find count of life segment category\n",
    "#list(tseg).count('Segment name goes here')"
   ]
  },
  {
   "cell_type": "code",
   "execution_count": 76,
   "metadata": {},
   "outputs": [
    {
     "data": {
      "text/plain": [
       "([<matplotlib.patches.Wedge at 0x1caa5a7e668>,\n",
       "  <matplotlib.patches.Wedge at 0x1caa5a7ef98>,\n",
       "  <matplotlib.patches.Wedge at 0x1caa5a8c908>,\n",
       "  <matplotlib.patches.Wedge at 0x1caa5a98278>,\n",
       "  <matplotlib.patches.Wedge at 0x1caa5a98ba8>,\n",
       "  <matplotlib.patches.Wedge at 0x1caa5aa4518>,\n",
       "  <matplotlib.patches.Wedge at 0x1caa5aa4e48>,\n",
       "  <matplotlib.patches.Wedge at 0x1caa5ab07b8>,\n",
       "  <matplotlib.patches.Wedge at 0x1caa5abd128>,\n",
       "  <matplotlib.patches.Wedge at 0x1caa5abda58>,\n",
       "  <matplotlib.patches.Wedge at 0x1caa5a395c0>,\n",
       "  <matplotlib.patches.Wedge at 0x1caa5ac9cc0>,\n",
       "  <matplotlib.patches.Wedge at 0x1caa5ad6630>,\n",
       "  <matplotlib.patches.Wedge at 0x1caa5ad6f60>,\n",
       "  <matplotlib.patches.Wedge at 0x1caa5ae18d0>,\n",
       "  <matplotlib.patches.Wedge at 0x1caa5aed240>,\n",
       "  <matplotlib.patches.Wedge at 0x1caa5aedb70>,\n",
       "  <matplotlib.patches.Wedge at 0x1caa5af94e0>],\n",
       " [Text(0.8719923754143248, 0.824396322904999, 'Rooted Rural'),\n",
       "  Text(-3.2184197595132574e-08, 1.0999999999999996, 'Old and Newcomers'),\n",
       "  Text(-0.532090825714007, 0.9627457365218431, 'Heartland Communities'),\n",
       "  Text(-1.0844581373133657, 0.1842567459140247, 'Prairie Living'),\n",
       "  Text(-0.991065700431763, -0.47727222570321337, 'Small Town Simplicity'),\n",
       "  Text(-0.7329811328990778, -0.8202064732821758, 'Southern Satellites'),\n",
       "  Text(-0.4209516328768514, -1.0162675448809297, 'Rural Resort Dwellers'),\n",
       "  Text(-0.27475396971838606, -1.0651339146435947, 'Bright Young Professionals'),\n",
       "  Text(-0.18425668245508847, -1.0844581480954647, 'Traditional Living'),\n",
       "  Text(0.15376953647205188, -1.0891992148607024, 'Salt of the Earth'),\n",
       "  Text(0.6365385660380133, -0.8971168563494223, 'Middleburg'),\n",
       "  Text(0.8971170649390199, -0.6365382720584823, 'Green Acres'),\n",
       "  Text(0.9910658400737541, -0.477271935733607, 'Rural Bypasses'),\n",
       "  Text(1.038271730154863, -0.36330677720244603, 'Rustbelt Traditions'),\n",
       "  Text(1.0651339258979853, -0.27475392608868265, 'Senior Escapes'),\n",
       "  Text(1.084458155642932, -0.18425663803383155, 'Midlife Constants'),\n",
       "  Text(1.096107661576233, -0.09245536346736297, 'Family Foundations'),\n",
       "  Text(1.0995672951206465, -0.03085066451578194, 'Emerald City')],\n",
       " [Text(0.5086622189916894, 0.48089785502791604, '24.1%'),\n",
       "  Text(-1.755501687007231e-08, 0.5999999999999998, '1.8%'),\n",
       "  Text(-0.29023135948036743, 0.5251340381028234, '14.3%'),\n",
       "  Text(-0.5915226203527448, 0.100503679589468, '14.3%'),\n",
       "  Text(-0.540581291144598, -0.2603303049290255, '5.4%'),\n",
       "  Text(-0.3998078906722242, -0.4473853490630049, '7.1%'),\n",
       "  Text(-0.22960998156919163, -0.5543277517532343, '3.6%'),\n",
       "  Text(-0.1498658016645742, -0.5809821352601425, '0.9%'),\n",
       "  Text(-0.10050364497550279, -0.5915226262338898, '1.8%'),\n",
       "  Text(0.0838742926211192, -0.5941086626512921, '8.0%'),\n",
       "  Text(0.3472028542025527, -0.4893364670996848, '7.1%'),\n",
       "  Text(0.489336580875829, -0.34720269385008123, '3.6%'),\n",
       "  Text(0.5405813673129567, -0.2603301467637856, '1.8%'),\n",
       "  Text(0.5663300346299251, -0.198167333019516, '1.8%'),\n",
       "  Text(0.580982141398901, -0.14986577786655414, '0.9%'),\n",
       "  Text(0.5915226303506901, -0.10050362074572629, '1.8%'),\n",
       "  Text(0.5978769063143089, -0.05043019825492525, '0.9%'),\n",
       "  Text(0.5997639791567162, -0.016827635190426512, '0.9%')])"
      ]
     },
     "execution_count": 76,
     "metadata": {},
     "output_type": "execute_result"
    },
    {
     "data": {
      "image/png": "[encoded data removed]",
      "text/plain": [
       "<Figure size 432x288 with 1 Axes>"
      ]
     },
     "metadata": {},
     "output_type": "display_data"
    }
   ],
   "source": [
    "# create labels\n",
    "labels = ('Rooted Rural', 'Old and Newcomers', 'Heartland Communities', 'Prairie Living', 'Small Town Simplicity', \n",
    "         'Southern Satellites', 'Rural Resort Dwellers', 'Bright Young Professionals', 'Traditional Living', 'Salt of the Earth',\n",
    "         'Middleburg', 'Green Acres', 'Rural Bypasses', 'Rustbelt Traditions', 'Senior Escapes', 'Midlife Constants', \n",
    "         'Family Foundations', 'Emerald City')\n",
    "\n",
    "# add sizes\n",
    "sizes = [27, 2, 16, 16, 6, 8, 4, 1, 2, 9, 8, 4, 2, 2, 1, 2, 1, 1]\n",
    "explode = (0.1, 0, 0, 0, 0, 0, 0, 0, 0, 0, 0, 0, 0, 0, 0, 0, 0, 0)\n",
    "\n",
    "# create pie chart\n",
    "plt.pie(sizes, labels = labels, explode = explode, autopct='%1.1f%%',\n",
    "        shadow=True)"
   ]
  }
 ],
 "metadata": {
  "kernelspec": {
   "display_name": "Python 3",
   "language": "python",
   "name": "python3"
  },
  "language_info": {
   "codemirror_mode": {
    "name": "ipython",
    "version": 3
   },
   "file_extension": ".py",
   "mimetype": "text/x-python",
   "name": "python",
   "nbconvert_exporter": "python",
   "pygments_lexer": "ipython3",
   "version": "3.6.9"
  }
 },
 "nbformat": 4,
 "nbformat_minor": 4
}
