{
 "cells": [
  {
   "cell_type": "markdown",
   "metadata": {},
   "source": [
    "# Project 2 - Problem 1: Publishing Data\n",
    "## GIS5090 - Intro to Python Programming for GIS and Remote Sensing\n",
    "### Carter Hanford\n",
    "This is the Jupyter Notebook for problem 1 of project 2 in GIS5090. This problem entails publishing data, and asks us to do the following using data from the **Fragile States Index**. \n",
    "\n",
    "* `1) - Publish each FSI CSV file as a uniquely named feature service.`\n",
    "* `2) - Create a webmap containing each feature service symbolized to indicate which countries are worse or better.`\n",
    "* `3) - Describe the procress and data along the way in the Jupyter Notebook.`\n",
    "\n",
    "**Understanding the Fragile States Index**\n",
    "- The [Fragile States Index](https://fragilestatesindex.org/) is an open source dataset that ranks the fragility of the countries of the world. The FSI data is available as CSV files that ranks the courties in terms of fragility but also provides metrics on other aspects of each country's health, such as the econmony, human rights, and pliltical division.\n",
    "\n",
    "![](https://upload.wikimedia.org/wikipedia/en/thumb/4/4b/Saint_Louis_University_logo.svg/250px-Saint_Louis_University_logo.svg.png)."
   ]
  },
  {
   "cell_type": "markdown",
   "metadata": {},
   "source": [
    "#### Part 1 - Publish the CSV files\n",
    "Part one asks us to take the Fragile States Index csv files and publish them as uniquely named feature services. There are 12 csv files which represents years 2006-2018 of the FSI, so publishing each csv file one at a time will make this code long. Instead, we'll use a `for loop` to iterate over the files in the designated filepath, and publishing each file using the `gis.content.add({})` function.\n",
    "\n",
    "First, let's import the modules we'll need to pull this off:"
   ]
  },
  {
   "cell_type": "code",
   "execution_count": 1,
   "metadata": {},
   "outputs": [],
   "source": [
    "# import modules\n",
    "import arcpy\n",
    "import arcgis \n",
    "from arcpy import env\n",
    "from arcgis.gis import GIS\n",
    "\n",
    "#path=\"C:\\Users\\Cahan\\Documents\\GitHub\\python-programming-spring-2020\\project 2\\data\"\n",
    "#os.chdir(path)"
   ]
  },
  {
   "cell_type": "markdown",
   "metadata": {},
   "source": [
    "Next we need to connect our notebook kernel to ArcGIS online: "
   ]
  },
  {
   "cell_type": "code",
   "execution_count": 2,
   "metadata": {},
   "outputs": [
    {
     "name": "stdout",
     "output_type": "stream",
     "text": [
      "Enter password: ········\n"
     ]
    }
   ],
   "source": [
    "# connect to arcgis online\n",
    "gis = GIS(\"http://slustl.maps.arcgis.com/home\", \"carter.hanford_SLUSTL\")"
   ]
  },
  {
   "cell_type": "markdown",
   "metadata": {},
   "source": [
    "Now that we've connected to ArcGIS online and imported the proper modules, we need to tell python which filepath to use. In this instance, I have all the FSI csv files in one data folder which I'll designate to an object. \n",
    "\n",
    "Once the filepath is designated, we can use `os.listdir()` to make sure that python is reading the files in the path:"
   ]
  },
  {
   "cell_type": "code",
   "execution_count": 7,
   "metadata": {},
   "outputs": [],
   "source": [
    "# import os\n",
    "import os\n",
    "\n",
    "# set path for data\n",
    "data_dir = \"C:/Users/Cahan/Documents/GitHub/python-programming-spring-2020/project 2/data/\"\n",
    "os.chdir(data_dir)\n",
    "\n",
    "# designate filepath object\n",
    "filepath = os.listdir(data_dir)\n",
    "\n",
    "csv_file_list = [x for x in filepath if x.endswith(\".csv\")]"
   ]
  },
  {
   "cell_type": "markdown",
   "metadata": {},
   "source": [
    "Perfect! Now let's build the for loop. \n",
    "\n",
    "First, we want the loop to look in the designated filepath, and indicate that if the file ends with **.csv** (all of them), then publish them as a feature service using the `gis.content.add` function."
   ]
  },
  {
   "cell_type": "code",
   "execution_count": 13,
   "metadata": {},
   "outputs": [
    {
     "name": "stdout",
     "output_type": "stream",
     "text": [
      "Done, all csv files in path published to ArcGIS online as feature services.\n"
     ]
    }
   ],
   "source": [
    "# Loop through each file and publish it as a service\n",
    "for current_file in csv_file_list:\n",
    "    item = gis.content.add({}, data_dir + current_file)\n",
    "    if \"BuildCache\" not in current_file:\n",
    "        published_item = item.publish(None, {\"Address\":\"Country\"}, overwrite = True)\n",
    "print(\"Done, all csv files in path published to ArcGIS online as feature services.\")"
   ]
  },
  {
   "cell_type": "markdown",
   "metadata": {},
   "source": [
    "#### Part 2 - Create webmap\n",
    "\n",
    "In this section we'll be adding the data we just published to ArcGIS online to a webmap. Let's start by creating the map object. Since this is a world map, we don't need to zoom to any specific country."
   ]
  },
  {
   "cell_type": "code",
   "execution_count": 43,
   "metadata": {},
   "outputs": [],
   "source": [
    "# create map object\n",
    "map = gis.map(zoomlevel=2)"
   ]
  },
  {
   "cell_type": "markdown",
   "metadata": {},
   "source": [
    "The next step is to symbolize our map and add data. We can just add the data to the map without a renderer, but in doing this its not clear what we're symbolizing. Including a renderer allows us to make each data point mean something.\n",
    "\n",
    "Typically, we'd look at the `Rank` variable within the FGI dataset. However, this variable is character and we need a numeric variable in order to add it in the renderer. Luckily, the `Total` variable actually dictates what a country's rank is on the FGI, and it is numeric since it is calculated from the different variables that make up the index. For this reason, we'll add the `Total` variable in the renderer."
   ]
  },
  {
   "cell_type": "code",
   "execution_count": 60,
   "metadata": {},
   "outputs": [],
   "source": [
    "# set map render to class size\n",
    "renderer = { \"renderer\": \"ClassedSizeRenderer\", \"field_name\":\"Total\"}\n",
    "\n",
    "# add render and data to webmap\n",
    "map.add_layer(published_item, renderer)"
   ]
  },
  {
   "cell_type": "markdown",
   "metadata": {},
   "source": [
    "This part of problem 1 is pretty simple. Now all we need to do is display the webmap!"
   ]
  },
  {
   "cell_type": "code",
   "execution_count": 58,
   "metadata": {},
   "outputs": [
    {
     "data": {
      "application/vnd.jupyter.widget-view+json": {
       "model_id": "061dbb26f87c43a1b714dfe95163b5ca",
       "version_major": 2,
       "version_minor": 0
      },
      "text/plain": [
       "MapView(jupyter_target='notebook', layout=Layout(height='400px', width='100%'), ready=True, zoom=2.0)"
      ]
     },
     "metadata": {},
     "output_type": "display_data"
    },
    {
     "data": {
      "text/html": [
       "<div class=\"map-static-img-preview-6dc1ce05-83cf-48ee-95e0-2051a3a9512a\"><img src=\"\"></img></div>"
      ],
      "text/plain": [
       "<IPython.core.display.HTML object>"
      ]
     },
     "metadata": {},
     "output_type": "display_data"
    }
   ],
   "source": [
    "# display Fragile States Index Map\n",
    "map"
   ]
  },
  {
   "cell_type": "markdown",
   "metadata": {},
   "source": [
    "Each circle symbolizes it's \"rank\" (based on variable `Total`) on the Fragile States Index. What we can see from this map is African countries tend to rank worse on this index, as well as some countries in South America and southern Asian countries. On the other hand, most European countries and the United States/Canada rank pretty high on the FGI. \n",
    "\n",
    "Now that we've created our FGI map, let's save it to ArcGIS online:"
   ]
  },
  {
   "cell_type": "code",
   "execution_count": 65,
   "metadata": {},
   "outputs": [
    {
     "data": {
      "text/html": [
       "<div class=\"item_container\" style=\"height: auto; overflow: hidden; border: 1px solid #cfcfcf; border-radius: 2px; background: #f6fafa; line-height: 1.21429em; padding: 10px;\">\n",
       "                    <div class=\"item_left\" style=\"width: 210px; float: left;\">\n",
       "                       <a href='http://SLUSTL.maps.arcgis.com/home/item.html?id=202c94a34455436bad0a18a2723610ff' target='_blank'>\n",
       "                        <img src='http://static.arcgis.com/images/desktopapp.png' class=\"itemThumbnail\">\n",
       "                       </a>\n",
       "                    </div>\n",
       "\n",
       "                    <div class=\"item_right\"     style=\"float: none; width: auto; overflow: hidden;\">\n",
       "                        <a href='http://SLUSTL.maps.arcgis.com/home/item.html?id=202c94a34455436bad0a18a2723610ff' target='_blank'><b>Fragile States Index</b>\n",
       "                        </a>\n",
       "                        <br/>Countries based on Index Rank<img src='http://SLUSTL.maps.arcgis.com/home/js/jsapi/esri/css/images/item_type_icons/maps16.png' style=\"vertical-align:middle;\">Web Map by carter.hanford_SLUSTL\n",
       "                        <br/>Last Modified: April 24, 2020\n",
       "                        <br/>0 comments, 0 views\n",
       "                    </div>\n",
       "                </div>\n",
       "                "
      ],
      "text/plain": [
       "<Item title:\"Fragile States Index\" type:Web Map owner:carter.hanford_SLUSTL>"
      ]
     },
     "execution_count": 65,
     "metadata": {},
     "output_type": "execute_result"
    }
   ],
   "source": [
    "# add properties for online map\n",
    "webmap_item_properties = {'title':'Fragile States Index',\n",
    "                         'snippet':'Countries based on Index Rank',\n",
    "                         'tags':['FGI', \"World Map\"]}\n",
    "\n",
    "# save map \n",
    "map.save(webmap_item_properties)"
   ]
  },
  {
   "cell_type": "markdown",
   "metadata": {},
   "source": [
    "And with that, we wrap up problem 1!"
   ]
  }
 ],
 "metadata": {
  "kernelspec": {
   "display_name": "Python 3",
   "language": "python",
   "name": "python3"
  },
  "language_info": {
   "codemirror_mode": {
    "name": "ipython",
    "version": 3
   },
   "file_extension": ".py",
   "mimetype": "text/x-python",
   "name": "python",
   "nbconvert_exporter": "python",
   "pygments_lexer": "ipython3",
   "version": "3.7.6"
  }
 },
 "nbformat": 4,
 "nbformat_minor": 2
}
