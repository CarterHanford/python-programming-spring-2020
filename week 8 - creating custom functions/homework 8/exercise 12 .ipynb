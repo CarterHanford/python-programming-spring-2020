{
 "cells": [
  {
   "cell_type": "code",
   "execution_count": 1,
   "metadata": {},
   "outputs": [
    {
     "name": "stdout",
     "output_type": "stream",
     "text": [
      "[<Field object at 0x1c9a7e0eb00[0x1c9a6b3cad0]>, <Field object at 0x1c9a65017b8[0x1c9a7b609b0]>, <Field object at 0x1c9a2b25ba8[0x1c9a7b600b0]>, <Field object at 0x1c9a6008ac8[0x1c9a7b60030]>, <Field object at 0x1c9a67fde80[0x1c9a7b60430]>, <Field object at 0x1c9a7e10550[0x1c9a7169090]>, <Field object at 0x1c9a7e0d588[0x1c9a7b602d0]>, <Field object at 0x1c9b2e5e5c0[0x1c9a7b608d0]>, <Field object at 0x1c9a8546860[0x1c9a7b60170]>, <Field object at 0x1c9b2e55710[0x1c9a7b60770]>, <Field object at 0x1c9a6b35588[0x1c9a7b60b70]>, <Field object at 0x1c9a8034080[0x1c9a7b60f50]>, <Field object at 0x1c9b2e51518[0x1c9a7b60e90]>, <Field object at 0x1c9b2e51588[0x1c9a7c448d0]>, <Field object at 0x1c9b2e515c0[0x1c9a7c440d0]>, <Field object at 0x1c9b2e510f0[0x1c9a7c44ad0]>, <Field object at 0x1c9b2e65da0[0x1c9a7c44270]>, <Field object at 0x1c9b2e65e10[0x1c9a7c44430]>, <Field object at 0x1c9b2e656d8[0x1c9a7c44a30]>, <Field object at 0x1c9b2e650f0[0x1c9a7c44390]>, <Field object at 0x1c9b2e65128[0x1c9a7c44030]>, <Field object at 0x1c9b2e65160[0x1c9a7c44a10]>, <Field object at 0x1c9b2e65198[0x1c9a7c449f0]>, <Field object at 0x1c9b2e651d0[0x1c9a7c440b0]>, <Field object at 0x1c9b2e65208[0x1c9a7c44170]>, <Field object at 0x1c9b2e65240[0x1c9a7c449b0]>, <Field object at 0x1c9b2e65278[0x1c9a7c449d0]>, <Field object at 0x1c9b2e652b0[0x1c9a7c44050]>, <Field object at 0x1c9b2e65320[0x1c9a7c44f50]>, <Field object at 0x1c9b2e652e8[0x1c9a7c44db0]>, <Field object at 0x1c9b2e65710[0x1c9a7c44290]>, <Field object at 0x1c9b2e65748[0x1c9a7c44e90]>, <Field object at 0x1c9b2e65780[0x1c9a7c44470]>, <Field object at 0x1c9b2e657b8[0x1c9a7c44150]>, <Field object at 0x1c9b2e657f0[0x1c9a7c443d0]>, <Field object at 0x1c9b2e65828[0x1c9a7c446f0]>, <Field object at 0x1c9b2e65898[0x1c9a7c44bd0]>, <Field object at 0x1c9b2e658d0[0x1c9a7c44410]>, <Field object at 0x1c9a7e10518[0x1c9a7c44450]>, <Field object at 0x1c9b2e65908[0x1c9a7c44ed0]>, <Field object at 0x1c9b2e65940[0x1c9a7c44b70]>, <Field object at 0x1c9b2e65978[0x1c9a7c44950]>, <Field object at 0x1c9b2e659b0[0x1c9a7c441f0]>, <Field object at 0x1c9b2e659e8[0x1c9a7c44530]>, <Field object at 0x1c9b2e65a20[0x1c9a7c443b0]>, <Field object at 0x1c9b2e65a58[0x1c9a7c44990]>, <Field object at 0x1c9b2e65a90[0x1c9a7c44970]>, <Field object at 0x1c9b2e65ac8[0x1c9a7c44b90]>, <Field object at 0x1c9b2e65b00[0x1c9a7c44650]>, <Field object at 0x1c9b2e65b38[0x1c9a7c44690]>, <Field object at 0x1c9b2e65b70[0x1c9a7c444b0]>, <Field object at 0x1c9b2e65ba8[0x1c9a7c44490]>, <Field object at 0x1c9b2e65be0[0x1c9a7c44e30]>, <Field object at 0x1c9b2e65c18[0x1c9a7c44cd0]>, <Field object at 0x1c9b2e65c50[0x1c9a7c44ef0]>, <Field object at 0x1c9b2e65c88[0x1c9a7c446b0]>, <Field object at 0x1c9b2e65cc0[0x1c9a7c44070]>, <Field object at 0x1c9b2e65cf8[0x1c9a7c44670]>, <Field object at 0x1c9b2e65d30[0x1c9a7c44750]>, <Field object at 0x1c9b2e65d68[0x1c9a7c44770]>, <Field object at 0x1c9b2e65dd8[0x1c9a7c44bb0]>, <Field object at 0x1c9b2e65e80[0x1c9a7c446d0]>, <Field object at 0x1c9b2e65eb8[0x1c9a7c44870]>, <Field object at 0x1c9b2e65ef0[0x1c9a7c44e10]>, <Field object at 0x1c9b2e65f28[0x1c9a7c44df0]>, <Field object at 0x1c9b2e65f60[0x1c9a7c448f0]>, <Field object at 0x1c9b2e65f98[0x1c9a7c44730]>, <Field object at 0x1c9b2e65fd0[0x1c9a7c44d10]>, <Field object at 0x1c9b2e6a048[0x1c9a7c44b10]>, <Field object at 0x1c9b2e6a080[0x1c9a7c44af0]>, <Field object at 0x1c9b2e6a0b8[0x1c9a7c44b30]>, <Field object at 0x1c9b2e6a0f0[0x1c9a7c44890]>, <Field object at 0x1c9b2e6a128[0x1c9a7c44830]>]\n"
     ]
    }
   ],
   "source": [
    "# print fields basic\n",
    "import arcpy\n",
    "arcpy.env.workspace = r'C:\\Users\\Carter\\Documents\\GitHub\\python-programming-spring-2020\\week 8 - creating custom functions\\data\\Exercise12'\n",
    "fields = arcpy.ListFields(\"streets.shp\")\n",
    "print(fields)"
   ]
  },
  {
   "cell_type": "code",
   "execution_count": 2,
   "metadata": {},
   "outputs": [
    {
     "name": "stdout",
     "output_type": "stream",
     "text": [
      "['FID', 'Shape', 'OBJECTID', 'PRE_TYPE', 'ST_NAME', 'STREET_NAM', 'STREET_TYP', 'SUF_DIR', 'FULLNAME', 'LOW', 'HIGH', 'L_ADD_FROM', 'L_ADD_TO', 'R_ADD_FROM', 'R_ADD_TO', 'L_PLACE', 'R_PLACE', 'L_CITY', 'R_CITY', 'STATE', 'ZIP_RIGHT', 'ZIP_LEFT', 'ESN_LEFT', 'ESN_RIGHT', 'L_PRECINCT', 'R_PRECINCT', 'L_SCHOOL', 'R_SCHOOL', 'REGION', 'EDIT_DATE', 'COMMENTS', 'STATUS', 'SURFACE_TY', 'SPEED', 'NUM_LANES', 'ROAD_ROW_W', 'ALIAS', 'RD_NUMBER', 'FUNCTIONAL', 'LABEL_CLAS', 'ROADCLASS', 'CLASS', 'LINK_CLASS', 'LINK_NUM', 'SNOW_ROUTE', 'GARBAGE_RO', 'RECYCLING_', 'STATE_AID_', 'STATE_AID1', 'MAINT_FUND', 'MAINT_OWNE', 'MAINT_BY', 'MAINT_DIST', 'MAINT_DI_1', 'MAINT_TYPE', 'MAINT_WINT', 'MAINT_RURA', 'MAINT_LINK', 'HWY_CONTRO', 'HWY_SEGMEN', 'LOAD_RESTR', 'POSTAL_ROU', 'NAVSTREETS', 'CO_CODE', 'CO_NAME', 'PSAP_ID', 'ONEWAY', 'TF_MINUTES', 'FT_MINUTES', 'F_ZLEV', 'T_ZLEV', 'FEET', 'Shape_len']\n"
     ]
    }
   ],
   "source": [
    "# specifies the fields\n",
    "namelist = []\n",
    "for field in fields:\n",
    "    namelist.append(field.name)\n",
    "    \n",
    "print(namelist)"
   ]
  },
  {
   "cell_type": "code",
   "execution_count": 3,
   "metadata": {},
   "outputs": [],
   "source": [
    "# further modification\n",
    "def listfieldnames(table):\n",
    "    fields = arcpy.ListFields(table)\n",
    "    namelist = []\n",
    "    for field in fields:\n",
    "        namelist.append(field.name)\n",
    "        return namelist\n",
    "    \n",
    "# this code creates the list of names and is now defined as a function that we can call "
   ]
  },
  {
   "cell_type": "code",
   "execution_count": 7,
   "metadata": {},
   "outputs": [
    {
     "name": "stdout",
     "output_type": "stream",
     "text": [
      "['FID']\n"
     ]
    }
   ],
   "source": [
    "fieldnames = listfieldnames(r'C:\\Users\\Carter\\Documents\\GitHub\\python-programming-spring-2020\\week 8 - creating custom functions\\data\\Exercise12\\streets.shp')\n",
    "print(fieldnames)"
   ]
  },
  {
   "cell_type": "markdown",
   "metadata": {},
   "source": [
    "# Call functions from other scripts"
   ]
  },
  {
   "cell_type": "code",
   "execution_count": null,
   "metadata": {},
   "outputs": [],
   "source": [
    "import arcpy\n",
    "import list\n",
    "arcpy.env.workspace = r'C:\\Users\\Carter\\Documents\\GitHub\\python-programming-spring-2020\\week 8 - creating custom functions\\data\\Exercise12'"
   ]
  }
 ],
 "metadata": {
  "kernelspec": {
   "display_name": "Python 3",
   "language": "python",
   "name": "python3"
  },
  "language_info": {
   "codemirror_mode": {
    "name": "ipython",
    "version": 3
   },
   "file_extension": ".py",
   "mimetype": "text/x-python",
   "name": "python",
   "nbconvert_exporter": "python",
   "pygments_lexer": "ipython3",
   "version": "3.6.9"
  }
 },
 "nbformat": 4,
 "nbformat_minor": 2
}
