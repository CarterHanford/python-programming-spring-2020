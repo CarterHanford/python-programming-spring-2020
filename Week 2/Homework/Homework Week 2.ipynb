{
 "cells": [
  {
   "cell_type": "markdown",
   "metadata": {},
   "source": [
    "# Homework - Week 3"
   ]
  },
  {
   "cell_type": "markdown",
   "metadata": {},
   "source": [
    "## Carter Hanford - GIS5090"
   ]
  },
  {
   "cell_type": "markdown",
   "metadata": {},
   "source": [
    "## Introduction"
   ]
  },
  {
   "cell_type": "markdown",
   "metadata": {},
   "source": [
    "This is the jupyter notebook for the homework assignment for week 2. Using data ```(dems.zip)``` from blackboard, we will Create a Jupyter Notebook where we set the ```arcpy.env.workspace``` to the folder that contains the DEM files, use ```arcpy.ListRasters()``` to create a list of rasters in the folder, then indicate how many rasters there are. \n",
    "\n",
    "First, we need *import* **arcpy** and set the workspace directory to point to our data."
   ]
  },
  {
   "cell_type": "code",
   "execution_count": 17,
   "metadata": {},
   "outputs": [],
   "source": [
    "import arcpy"
   ]
  },
  {
   "cell_type": "code",
   "execution_count": 18,
   "metadata": {},
   "outputs": [
    {
     "name": "stdout",
     "output_type": "stream",
     "text": [
      "C:\\Users\\hanfordca\\Documents\\GitHub\\python-programming-spring-2020\\Week 2\\data\\dems\n"
     ]
    }
   ],
   "source": [
    "arcpy.env.workspace = r'C:\\Users\\hanfordca\\Documents\\GitHub\\python-programming-spring-2020\\Week 2\\data\\dems'\n",
    "print(arcpy.env.workspace) # ensuring the path is correct"
   ]
  },
  {
   "cell_type": "code",
   "execution_count": 26,
   "metadata": {
    "scrolled": true
   },
   "outputs": [
    {
     "name": "stdout",
     "output_type": "stream",
     "text": [
      "['af_dem_30s.tif', 'as_dem_30s.tif', 'au_dem_30s.tif', 'ca_dem_30s.tif', 'eu_dem_30s.tif', 'na_dem_30s.tif', 'sa_dem_30s.tif']\n"
     ]
    }
   ],
   "source": [
    "raster_list = arcpy.ListRasters()\n",
    "print(raster_list) # print rasters in dems data folder"
   ]
  },
  {
   "cell_type": "markdown",
   "metadata": {},
   "source": [
    "Our raster list indicates that there are 7 rasters in the **dems** folder."
   ]
  }
 ],
 "metadata": {
  "kernelspec": {
   "display_name": "Python 3",
   "language": "python",
   "name": "python3"
  },
  "language_info": {
   "codemirror_mode": {
    "name": "ipython",
    "version": 3
   },
   "file_extension": ".py",
   "mimetype": "text/x-python",
   "name": "python",
   "nbconvert_exporter": "python",
   "pygments_lexer": "ipython3",
   "version": "3.6.6"
  }
 },
 "nbformat": 4,
 "nbformat_minor": 2
}
