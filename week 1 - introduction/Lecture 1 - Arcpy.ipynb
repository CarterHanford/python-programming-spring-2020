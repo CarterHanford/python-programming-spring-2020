{
 "cells": [
  {
   "cell_type": "code",
   "execution_count": 1,
   "metadata": {},
   "outputs": [],
   "source": [
    "import arcpy"
   ]
  },
  {
   "cell_type": "code",
   "execution_count": 2,
   "metadata": {},
   "outputs": [
    {
     "data": {
      "text/plain": [
       "{'LicenseLevel': 'Advanced',\n",
       " 'InstallDir': 'c:\\\\program files\\\\arcgis\\\\pro\\\\',\n",
       " 'Installer': 'wurthrs',\n",
       " 'ProductName': 'ArcGISPro',\n",
       " 'Version': '2.3',\n",
       " 'SourceDir': 'U:\\\\Lab 204\\\\ArcGIS_Pro_2.3\\\\ArcGISPro\\\\',\n",
       " 'InstallType': 'N/A',\n",
       " 'BuildNumber': '15769',\n",
       " 'InstallDate': '3/7/2019',\n",
       " 'InstallTime': '13:33:55',\n",
       " 'SPNumber': 'N/A',\n",
       " 'SPBuild': 'N/A'}"
      ]
     },
     "execution_count": 2,
     "metadata": {},
     "output_type": "execute_result"
    }
   ],
   "source": [
    "arcpy.GetInstallInfo()"
   ]
  }
 ],
 "metadata": {
  "kernelspec": {
   "display_name": "Python 3",
   "language": "python",
   "name": "python3"
  },
  "language_info": {
   "codemirror_mode": {
    "name": "ipython",
    "version": 3
   },
   "file_extension": ".py",
   "mimetype": "text/x-python",
   "name": "python",
   "nbconvert_exporter": "python",
   "pygments_lexer": "ipython3",
   "version": "3.6.6"
  }
 },
 "nbformat": 4,
 "nbformat_minor": 2
}
