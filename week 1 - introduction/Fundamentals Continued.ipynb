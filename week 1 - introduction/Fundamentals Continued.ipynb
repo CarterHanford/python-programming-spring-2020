{
 "cells": [
  {
   "cell_type": "markdown",
   "metadata": {},
   "source": [
    "# Three Options"
   ]
  },
  {
   "cell_type": "code",
   "execution_count": 9,
   "metadata": {},
   "outputs": [],
   "source": [
    "filepath = 'C:/Users/hanfordca/Documents/GitHub/GIS5090/Week 1' "
   ]
  },
  {
   "cell_type": "code",
   "execution_count": 10,
   "metadata": {},
   "outputs": [],
   "source": [
    "filepath = r'C:\\Users\\hanfordca\\Documents\\GitHub\\GIS5090\\Week 1'"
   ]
  },
  {
   "cell_type": "code",
   "execution_count": 11,
   "metadata": {},
   "outputs": [],
   "source": [
    "filepath = 'C:\\\\Users\\\\hanfordca\\\\Documents\\\\GitHub\\\\GIS5090\\\\Week 1'"
   ]
  },
  {
   "cell_type": "markdown",
   "metadata": {},
   "source": [
    "# Modules"
   ]
  },
  {
   "cell_type": "code",
   "execution_count": 1,
   "metadata": {},
   "outputs": [],
   "source": [
    "import arcpy"
   ]
  },
  {
   "cell_type": "code",
   "execution_count": 3,
   "metadata": {},
   "outputs": [
    {
     "data": {
      "text/plain": [
       "{'LicenseLevel': 'Advanced',\n",
       " 'InstallDir': 'c:\\\\program files\\\\arcgis\\\\pro\\\\',\n",
       " 'Installer': 'wurthrs',\n",
       " 'ProductName': 'ArcGISPro',\n",
       " 'Version': '2.3',\n",
       " 'SourceDir': 'U:\\\\Lab 204\\\\ArcGIS_Pro_2.3\\\\ArcGISPro\\\\',\n",
       " 'InstallType': 'N/A',\n",
       " 'BuildNumber': '15769',\n",
       " 'InstallDate': '3/7/2019',\n",
       " 'InstallTime': '13:33:55',\n",
       " 'SPNumber': 'N/A',\n",
       " 'SPBuild': 'N/A'}"
      ]
     },
     "execution_count": 3,
     "metadata": {},
     "output_type": "execute_result"
    }
   ],
   "source": [
    "arcpy.GetInstallInfo()"
   ]
  },
  {
   "cell_type": "code",
   "execution_count": 4,
   "metadata": {},
   "outputs": [
    {
     "data": {
      "text/plain": [
       "1263"
      ]
     },
     "execution_count": 4,
     "metadata": {},
     "output_type": "execute_result"
    }
   ],
   "source": [
    "len(dir(arcpy))"
   ]
  },
  {
   "cell_type": "code",
   "execution_count": 5,
   "metadata": {},
   "outputs": [
    {
     "data": {
      "text/plain": [
       "'Clip_analysis(in_features, clip_features, out_feature_class, {cluster_tolerance})\\n\\n        Extracts input features that overlay the clip features.Use this tool\\n        to cut out a piece of one feature class using one or\\n        more of the features in another feature class as a cookie cutter. This\\n        is particularly useful for creating a new feature class-also referred\\n        to as study area or area of interest (AOI)-that contains a geographic\\n        subset of the features in another, larger feature class.\\n\\n     INPUTS:\\n      in_features (Feature Layer):\\n          The features to be clipped.\\n      clip_features (Feature Layer):\\n          The features used to clip the input features.\\n      cluster_tolerance {Linear Unit}:\\n          The minimum distance separating all feature coordinates as well as the\\n          distance a coordinate can move in X or Y (or both). Set the value to\\n          be higher for data with less coordinate accuracy and lower for data\\n          with extremely high accuracy.\\n\\n     OUTPUTS:\\n      out_feature_class (Feature Class):\\n          The feature class to be created.'"
      ]
     },
     "execution_count": 5,
     "metadata": {},
     "output_type": "execute_result"
    }
   ],
   "source": [
    "arcpy.Clip_analysis.__doc__"
   ]
  },
  {
   "cell_type": "code",
   "execution_count": 6,
   "metadata": {},
   "outputs": [],
   "source": [
    "?arcpy.Clip_analysis"
   ]
  },
  {
   "cell_type": "code",
   "execution_count": 7,
   "metadata": {},
   "outputs": [],
   "source": [
    "import datetime"
   ]
  },
  {
   "cell_type": "code",
   "execution_count": 8,
   "metadata": {},
   "outputs": [
    {
     "data": {
      "text/plain": [
       "datetime.datetime(2020, 1, 13, 18, 47, 42, 288937)"
      ]
     },
     "execution_count": 8,
     "metadata": {},
     "output_type": "execute_result"
    }
   ],
   "source": [
    "datetime.datetime.now()"
   ]
  },
  {
   "cell_type": "code",
   "execution_count": 12,
   "metadata": {},
   "outputs": [],
   "source": [
    "import random"
   ]
  },
  {
   "cell_type": "code",
   "execution_count": 23,
   "metadata": {},
   "outputs": [
    {
     "name": "stdout",
     "output_type": "stream",
     "text": [
      "Value is Even\n"
     ]
    }
   ],
   "source": [
    "# If/else statements in Python\n",
    "random_val = random.randint (1,2)\n",
    "if random_val == 1:\n",
    "    print(\"Value is Odd\")\n",
    "else: \n",
    "    print(\"Value is Even\")"
   ]
  },
  {
   "cell_type": "code",
   "execution_count": 24,
   "metadata": {},
   "outputs": [],
   "source": [
    "nfl_teams = [\"Chiefs\", \"Packers\", \"Titans\", \"49ers\"]"
   ]
  },
  {
   "cell_type": "code",
   "execution_count": 27,
   "metadata": {},
   "outputs": [
    {
     "name": "stdout",
     "output_type": "stream",
     "text": [
      "Chief\n",
      "Packer\n",
      "Titan\n",
      "49er\n"
     ]
    }
   ],
   "source": [
    "for teams in nfl_teams:\n",
    "    print(teams[:-1]) # everything except last index"
   ]
  },
  {
   "cell_type": "code",
   "execution_count": 29,
   "metadata": {},
   "outputs": [
    {
     "name": "stdout",
     "output_type": "stream",
     "text": [
      "CHIEFS\n",
      "PACKERS\n",
      "TITANS\n",
      "49ERS\n"
     ]
    }
   ],
   "source": [
    "for teams in nfl_teams:\n",
    "    print(teams.upper()) # upper case"
   ]
  },
  {
   "cell_type": "code",
   "execution_count": 30,
   "metadata": {},
   "outputs": [
    {
     "name": "stdout",
     "output_type": "stream",
     "text": [
      "The Zen of Python, by Tim Peters\n",
      "\n",
      "Beautiful is better than ugly.\n",
      "Explicit is better than implicit.\n",
      "Simple is better than complex.\n",
      "Complex is better than complicated.\n",
      "Flat is better than nested.\n",
      "Sparse is better than dense.\n",
      "Readability counts.\n",
      "Special cases aren't special enough to break the rules.\n",
      "Although practicality beats purity.\n",
      "Errors should never pass silently.\n",
      "Unless explicitly silenced.\n",
      "In the face of ambiguity, refuse the temptation to guess.\n",
      "There should be one-- and preferably only one --obvious way to do it.\n",
      "Although that way may not be obvious at first unless you're Dutch.\n",
      "Now is better than never.\n",
      "Although never is often better than *right* now.\n",
      "If the implementation is hard to explain, it's a bad idea.\n",
      "If the implementation is easy to explain, it may be a good idea.\n",
      "Namespaces are one honking great idea -- let's do more of those!\n"
     ]
    }
   ],
   "source": [
    "import this"
   ]
  },
  {
   "cell_type": "code",
   "execution_count": null,
   "metadata": {},
   "outputs": [],
   "source": []
  }
 ],
 "metadata": {
  "kernelspec": {
   "display_name": "Python 3",
   "language": "python",
   "name": "python3"
  },
  "language_info": {
   "codemirror_mode": {
    "name": "ipython",
    "version": 3
   },
   "file_extension": ".py",
   "mimetype": "text/x-python",
   "name": "python",
   "nbconvert_exporter": "python",
   "pygments_lexer": "ipython3",
   "version": "3.6.6"
  }
 },
 "nbformat": 4,
 "nbformat_minor": 2
}
