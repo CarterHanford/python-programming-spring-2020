{
 "cells": [
  {
   "cell_type": "markdown",
   "metadata": {},
   "source": [
    "# Exercise 2 - Intro to Arcpy"
   ]
  },
  {
   "cell_type": "code",
   "execution_count": 1,
   "metadata": {},
   "outputs": [],
   "source": [
    "import arcpy"
   ]
  },
  {
   "cell_type": "code",
   "execution_count": 2,
   "metadata": {},
   "outputs": [
    {
     "name": "stdout",
     "output_type": "stream",
     "text": [
      "['C:\\\\Program Files\\\\ArcGIS\\\\Pro\\\\Resources\\\\ArcPy\\\\arcpy']\n"
     ]
    }
   ],
   "source": [
    "print(arcpy.__path__)"
   ]
  },
  {
   "cell_type": "code",
   "execution_count": 3,
   "metadata": {},
   "outputs": [
    {
     "data": {
      "text/plain": [
       "{'LicenseLevel': 'Advanced',\n",
       " 'InstallDir': 'c:\\\\program files\\\\arcgis\\\\pro\\\\',\n",
       " 'Installer': 'wurthrs',\n",
       " 'ProductName': 'ArcGISPro',\n",
       " 'Version': '2.3',\n",
       " 'SourceDir': 'U:\\\\Lab 204\\\\ArcGIS_Pro_2.3\\\\ArcGISPro\\\\',\n",
       " 'InstallType': 'N/A',\n",
       " 'BuildNumber': '15769',\n",
       " 'InstallDate': '3/7/2019',\n",
       " 'InstallTime': '13:33:55',\n",
       " 'SPNumber': 'N/A',\n",
       " 'SPBuild': 'N/A'}"
      ]
     },
     "execution_count": 3,
     "metadata": {},
     "output_type": "execute_result"
    }
   ],
   "source": [
    "arcpy.GetInstallInfo()"
   ]
  },
  {
   "cell_type": "code",
   "execution_count": 4,
   "metadata": {},
   "outputs": [
    {
     "name": "stdout",
     "output_type": "stream",
     "text": [
      "C:\\Users\\hanfordca\\Documents\\GitHub\\python-programming-spring-2020\\Week 2\\data\n"
     ]
    }
   ],
   "source": [
    "arcpy.env.workspace = r'C:\\Users\\hanfordca\\Documents\\GitHub\\python-programming-spring-2020\\Week 2\\data'\n",
    "print(arcpy.env.workspace) # set up file directory for data"
   ]
  },
  {
   "cell_type": "code",
   "execution_count": 5,
   "metadata": {},
   "outputs": [
    {
     "data": {
      "text/plain": [
       "['C:\\\\Users\\\\hanfordca\\\\Documents\\\\GitHub\\\\python-programming-spring-2020\\\\Week 2\\\\data\\\\ch05',\n",
       " 'C:\\\\Users\\\\hanfordca\\\\Documents\\\\GitHub\\\\python-programming-spring-2020\\\\Week 2\\\\data\\\\Missouri.gdb',\n",
       " 'C:\\\\Users\\\\hanfordca\\\\Documents\\\\GitHub\\\\python-programming-spring-2020\\\\Week 2\\\\data\\\\OSM.gdb',\n",
       " 'C:\\\\Users\\\\hanfordca\\\\Documents\\\\GitHub\\\\python-programming-spring-2020\\\\Week 2\\\\data\\\\tlgdb_2016_a_44_ri.gdb']"
      ]
     },
     "execution_count": 5,
     "metadata": {},
     "output_type": "execute_result"
    }
   ],
   "source": [
    "arcpy.ListWorkspaces() # listing geodatabases in file path"
   ]
  },
  {
   "cell_type": "markdown",
   "metadata": {},
   "source": [
    "## Arcpy.mapping and Spatial Analyst"
   ]
  },
  {
   "cell_type": "code",
   "execution_count": 6,
   "metadata": {},
   "outputs": [],
   "source": [
    "from arcpy.sa import *"
   ]
  },
  {
   "cell_type": "markdown",
   "metadata": {},
   "source": [
    "## Geoprocessing Tools"
   ]
  },
  {
   "cell_type": "markdown",
   "metadata": {},
   "source": [
    "### Clip"
   ]
  },
  {
   "cell_type": "code",
   "execution_count": 8,
   "metadata": {},
   "outputs": [],
   "source": [
    "import arcpy\n",
    "arcpy.env.workspace = r'C:\\Users\\hanfordca\\Documents\\GitHub\\python-programming-spring-2020\\Week 2\\data\\Missouri.gdb'"
   ]
  },
  {
   "cell_type": "code",
   "execution_count": 11,
   "metadata": {},
   "outputs": [
    {
     "name": "stdout",
     "output_type": "stream",
     "text": [
      "['County', 'Saint_Charles', 'Roads', 'Lincoln_County_Roads_Buffer']\n"
     ]
    }
   ],
   "source": [
    "fc_list = arcpy.ListFeatureClasses()\n",
    "print(fc_list)"
   ]
  },
  {
   "cell_type": "markdown",
   "metadata": {},
   "source": [
    "## How many counties are there in Missouri?"
   ]
  },
  {
   "cell_type": "code",
   "execution_count": 13,
   "metadata": {},
   "outputs": [
    {
     "data": {
      "text/plain": [
       "<Result '115'>"
      ]
     },
     "execution_count": 13,
     "metadata": {},
     "output_type": "execute_result"
    }
   ],
   "source": [
    "arcpy.GetCount_management('County')"
   ]
  },
  {
   "cell_type": "code",
   "execution_count": 15,
   "metadata": {},
   "outputs": [
    {
     "name": "stdout",
     "output_type": "stream",
     "text": [
      "ProcessingCounty\n",
      "115\n",
      "ProcessingSaint_Charles\n",
      "1\n",
      "ProcessingRoads\n",
      "82745\n",
      "ProcessingLincoln_County_Roads_Buffer\n",
      "6\n"
     ]
    }
   ],
   "source": [
    "for fc in fc_list:\n",
    "    print('Processing' + fc)\n",
    "    print(arcpy.GetCount_management(fc)) # processes the feature class name then prints the count"
   ]
  },
  {
   "cell_type": "code",
   "execution_count": 16,
   "metadata": {},
   "outputs": [
    {
     "name": "stdout",
     "output_type": "stream",
     "text": [
      "# Features in County: 115\n",
      "# Features in Saint_Charles: 1\n",
      "# Features in Roads: 82745\n",
      "# Features in Lincoln_County_Roads_Buffer: 6\n"
     ]
    }
   ],
   "source": [
    "for fc in fc_list:\n",
    "    print('# Features in ' + fc + ': ' + arcpy.GetCount_management(fc)[0]) # a little nicer"
   ]
  },
  {
   "cell_type": "code",
   "execution_count": 17,
   "metadata": {},
   "outputs": [],
   "source": [
    "arcpy.env.workspace = r'C:\\Users\\hanfordca\\Documents\\GitHub\\python-programming-spring-2020\\Week 2\\data\\OSM.gdb'"
   ]
  },
  {
   "cell_type": "markdown",
   "metadata": {},
   "source": [
    "### We can recycle code here when importing a new workspace"
   ]
  },
  {
   "cell_type": "code",
   "execution_count": 19,
   "metadata": {},
   "outputs": [
    {
     "name": "stdout",
     "output_type": "stream",
     "text": [
      "['aeroway_line', 'aeroway_point', 'aeroway_polygon_polygon', 'amenity_point', 'amenity_polygon_polygon', 'barrier_line', 'barrier_point', 'barrier_polygon_polygon', 'boundary_line', 'boundary_polygon_polygon', 'building_point', 'building_polygon_polygon', 'craft_polygon_polygon', 'highway_line', 'highway_point', 'highway_polygon_polygon', 'historic_point', 'landuse_line', 'landuse_point', 'landuse_polygon_polygon', 'leisure_point', 'leisure_polygon_polygon', 'man_made_line', 'man_made_point', 'man_made_polygon_polygon', 'natural_point', 'natural_polygon_polygon', 'office_point', 'place_line', 'place_point', 'place_polygon_polygon', 'power_line', 'power_point', 'power_polygon_polygon', 'railway_line', 'railway_point', 'railway_polygon_polygon', 'route_line', 'shop_point', 'shop_polygon_polygon', 'sport_point', 'sport_polygon_polygon', 'tourism_point', 'tourism_polygon_polygon', 'waterway_line', 'waterway_point', 'waterway_polygon_polygon']\n"
     ]
    }
   ],
   "source": [
    "fc_list = arcpy.ListFeatureClasses()\n",
    "print(fc_list)"
   ]
  },
  {
   "cell_type": "code",
   "execution_count": 20,
   "metadata": {},
   "outputs": [
    {
     "name": "stdout",
     "output_type": "stream",
     "text": [
      "# Features in aeroway_line: 9\n",
      "# Features in aeroway_point: 6\n",
      "# Features in aeroway_polygon_polygon: 4\n",
      "# Features in amenity_point: 240\n",
      "# Features in amenity_polygon_polygon: 202\n",
      "# Features in barrier_line: 16\n",
      "# Features in barrier_point: 5\n",
      "# Features in barrier_polygon_polygon: 1\n",
      "# Features in boundary_line: 57\n",
      "# Features in boundary_polygon_polygon: 23\n",
      "# Features in building_point: 4\n",
      "# Features in building_polygon_polygon: 671\n",
      "# Features in craft_polygon_polygon: 1\n",
      "# Features in highway_line: 7879\n",
      "# Features in highway_point: 363\n",
      "# Features in highway_polygon_polygon: 2\n",
      "# Features in historic_point: 3\n",
      "# Features in landuse_line: 2\n",
      "# Features in landuse_point: 50\n",
      "# Features in landuse_polygon_polygon: 419\n",
      "# Features in leisure_point: 17\n",
      "# Features in leisure_polygon_polygon: 128\n",
      "# Features in man_made_line: 3\n",
      "# Features in man_made_point: 35\n",
      "# Features in man_made_polygon_polygon: 5\n",
      "# Features in natural_point: 276\n",
      "# Features in natural_polygon_polygon: 249\n",
      "# Features in office_point: 1\n",
      "# Features in place_line: 17\n",
      "# Features in place_point: 90\n",
      "# Features in place_polygon_polygon: 29\n",
      "# Features in power_line: 39\n",
      "# Features in power_point: 792\n",
      "# Features in power_polygon_polygon: 14\n",
      "# Features in railway_line: 198\n",
      "# Features in railway_point: 141\n",
      "# Features in railway_polygon_polygon: 1\n",
      "# Features in route_line: 111\n",
      "# Features in shop_point: 11\n",
      "# Features in shop_polygon_polygon: 23\n",
      "# Features in sport_point: 1\n",
      "# Features in sport_polygon_polygon: 76\n",
      "# Features in tourism_point: 8\n",
      "# Features in tourism_polygon_polygon: 11\n",
      "# Features in waterway_line: 142\n",
      "# Features in waterway_point: 41\n",
      "# Features in waterway_polygon_polygon: 9\n"
     ]
    }
   ],
   "source": [
    "for fc in fc_list:\n",
    "    print('# Features in ' + fc + ': ' + arcpy.GetCount_management(fc)[0]) # recycle code here"
   ]
  },
  {
   "cell_type": "markdown",
   "metadata": {},
   "source": [
    "### Move ```highway lines``` from one GDB to another"
   ]
  },
  {
   "cell_type": "code",
   "execution_count": 21,
   "metadata": {},
   "outputs": [],
   "source": [
    "input_features = \"highway_line\""
   ]
  },
  {
   "cell_type": "code",
   "execution_count": 22,
   "metadata": {},
   "outputs": [
    {
     "data": {
      "text/plain": [
       "<Result 'C:\\\\Users\\\\hanfordca\\\\Documents\\\\GitHub\\\\python-programming-spring-2020\\\\Week 2\\\\data\\\\Missouri.gdb\\\\highway_lines'>"
      ]
     },
     "execution_count": 22,
     "metadata": {},
     "output_type": "execute_result"
    }
   ],
   "source": [
    "arcpy.env.overwriteOutput = True # this will ovewrite features that already exist\n",
    "arcpy.CopyFeatures_management(input_features, \n",
    "                             r\"C:\\Users\\hanfordca\\Documents\\GitHub\\python-programming-spring-2020\\Week 2\\data\\Missouri.gdb\\highway_lines\")"
   ]
  },
  {
   "cell_type": "code",
   "execution_count": 24,
   "metadata": {},
   "outputs": [
    {
     "data": {
      "text/plain": [
       "True"
      ]
     },
     "execution_count": 24,
     "metadata": {},
     "output_type": "execute_result"
    }
   ],
   "source": [
    "# test whether it worked or not\n",
    "arcpy.Exists(r\"C:\\Users\\hanfordca\\Documents\\GitHub\\python-programming-spring-2020\\Week 2\\data\\Missouri.gdb\\highway_lines\")"
   ]
  },
  {
   "cell_type": "markdown",
   "metadata": {},
   "source": [
    "### Buffer Example"
   ]
  },
  {
   "cell_type": "code",
   "execution_count": 25,
   "metadata": {},
   "outputs": [],
   "source": [
    "import arcpy"
   ]
  },
  {
   "cell_type": "code",
   "execution_count": 26,
   "metadata": {},
   "outputs": [],
   "source": [
    "arcpy.env.workspace = r'C:\\Users\\hanfordca\\Documents\\GitHub\\python-programming-spring-2020\\Week 2\\data\\Missouri.gdb'"
   ]
  },
  {
   "cell_type": "code",
   "execution_count": 27,
   "metadata": {},
   "outputs": [
    {
     "data": {
      "text/plain": [
       "['County',\n",
       " 'Saint_Charles',\n",
       " 'Roads',\n",
       " 'Lincoln_County_Roads_Buffer',\n",
       " 'highway_lines']"
      ]
     },
     "execution_count": 27,
     "metadata": {},
     "output_type": "execute_result"
    }
   ],
   "source": [
    "arcpy.ListFeatureClasses()"
   ]
  },
  {
   "cell_type": "code",
   "execution_count": 28,
   "metadata": {},
   "outputs": [],
   "source": [
    "?arcpy.Buffer_analysis()"
   ]
  },
  {
   "cell_type": "code",
   "execution_count": 29,
   "metadata": {},
   "outputs": [
    {
     "data": {
      "text/plain": [
       "<Result 'C:\\\\Users\\\\hanfordca\\\\Documents\\\\GitHub\\\\python-programming-spring-2020\\\\Week 2\\\\data\\\\Missouri.gdb\\\\County_Buffer_Example'>"
      ]
     },
     "execution_count": 29,
     "metadata": {},
     "output_type": "execute_result"
    }
   ],
   "source": [
    "arcpy.Buffer_analysis(in_features='County', \n",
    "                      out_feature_class='County_Buffer_Example', \n",
    "                      buffer_distance_or_field=\"10 kilometers\")"
   ]
  },
  {
   "cell_type": "code",
   "execution_count": null,
   "metadata": {},
   "outputs": [],
   "source": []
  }
 ],
 "metadata": {
  "kernelspec": {
   "display_name": "Python 3",
   "language": "python",
   "name": "python3"
  },
  "language_info": {
   "codemirror_mode": {
    "name": "ipython",
    "version": 3
   },
   "file_extension": ".py",
   "mimetype": "text/x-python",
   "name": "python",
   "nbconvert_exporter": "python",
   "pygments_lexer": "ipython3",
   "version": "3.6.8"
  }
 },
 "nbformat": 4,
 "nbformat_minor": 2
}
