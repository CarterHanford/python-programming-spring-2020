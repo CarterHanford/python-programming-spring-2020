{
 "cells": [
  {
   "cell_type": "code",
   "execution_count": 1,
   "metadata": {},
   "outputs": [],
   "source": [
    "from IPython.display import display\n",
    "from arcgis.gis import *"
   ]
  },
  {
   "cell_type": "code",
   "execution_count": 7,
   "metadata": {},
   "outputs": [
    {
     "name": "stdout",
     "output_type": "stream",
     "text": [
      "Enter password: ········\n"
     ]
    }
   ],
   "source": [
    "gis = GIS(\"https://slustl.maps.arcgis.com/home\", \"gregbrunner_slugis\")"
   ]
  },
  {
   "cell_type": "markdown",
   "metadata": {},
   "source": [
    "## Search ArcGIS Online for myself"
   ]
  },
  {
   "cell_type": "code",
   "execution_count": 8,
   "metadata": {},
   "outputs": [
    {
     "data": {
      "text/plain": [
       "[<User username:gregbrunner_slugis>, <User username:gregward_SLUSTL>]"
      ]
     },
     "execution_count": 8,
     "metadata": {},
     "output_type": "execute_result"
    }
   ],
   "source": [
    "gis.users.search(\"Greg\")"
   ]
  },
  {
   "cell_type": "code",
   "execution_count": 9,
   "metadata": {},
   "outputs": [
    {
     "data": {
      "text/plain": [
       "[<User username:gregbrunner_slugis>]"
      ]
     },
     "execution_count": 9,
     "metadata": {},
     "output_type": "execute_result"
    }
   ],
   "source": [
    "gis.users.search(\"Gregory\")"
   ]
  },
  {
   "cell_type": "code",
   "execution_count": 12,
   "metadata": {},
   "outputs": [
    {
     "data": {
      "text/html": [
       "<div class=\"9item_container\" style=\"height: auto; overflow: hidden; border: 1px solid #cfcfcf; border-radius: 2px; background: #f6fafa; line-height: 1.21429em; padding: 10px;\">\n",
       "                    <div class=\"item_left\" style=\"width: 210px; float: left;\">\n",
       "                       <a href='https://SLUSTL.maps.arcgis.com/home/user.html?user=gregbrunner_slugis' target='_blank'>\n",
       "                        <img src='data:image/png;base64,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' width='200' height='133' class=\"itemThumbnail\">\n",
       "                       </a>\n",
       "                    </div>\n",
       "\n",
       "                    <div class=\"item_right\" style=\"float: none; width: auto; overflow: hidden;\">\n",
       "                        <a href='https://SLUSTL.maps.arcgis.com/home/user.html?user=gregbrunner_slugis' target='_blank'><b>Gregory Brunner</b>\n",
       "                        </a>\n",
       "                        <br/><br/><b>Bio</b>: Adjunct Professor in the Department of Earth and Atmospheric Science.\n",
       "                        <br/><b>First Name</b>: Gregory\n",
       "                        <br/><b>Last Name</b>: Brunner\n",
       "                        <br/><b>Username</b>: gregbrunner_slugis\n",
       "                        <br/><b>Joined</b>: January 05, 2018\n",
       "\n",
       "                    </div>\n",
       "                </div>\n",
       "                "
      ],
      "text/plain": [
       "<User username:gregbrunner_slugis>"
      ]
     },
     "execution_count": 12,
     "metadata": {},
     "output_type": "execute_result"
    }
   ],
   "source": [
    "gregory = gis.users.search('gregory')[0]\n",
    "gregory"
   ]
  },
  {
   "cell_type": "code",
   "execution_count": 11,
   "metadata": {},
   "outputs": [
    {
     "data": {
      "text/plain": [
       "True"
      ]
     },
     "execution_count": 11,
     "metadata": {},
     "output_type": "execute_result"
    }
   ],
   "source": [
    "gregory.update(thumbnail='profile_pic.jpg')\n",
    "#gregory.update(thumbnail='me.gif')\n",
    "#gregory.update(thumbnail='batman.png')\n",
    "#gregory.update(thumbnail='Oklahoma_City_Thunder.png')"
   ]
  },
  {
   "cell_type": "markdown",
   "metadata": {},
   "source": [
    "## Publishing Data"
   ]
  },
  {
   "cell_type": "code",
   "execution_count": 16,
   "metadata": {},
   "outputs": [],
   "source": [
    "eqs = gis.content.add({},data='all_week_aug_13_20.csv')"
   ]
  },
  {
   "cell_type": "code",
   "execution_count": 18,
   "metadata": {},
   "outputs": [
    {
     "data": {
      "text/html": [
       "<div class=\"item_container\" style=\"height: auto; overflow: hidden; border: 1px solid #cfcfcf; border-radius: 2px; background: #f6fafa; line-height: 1.21429em; padding: 10px;\">\n",
       "                    <div class=\"item_left\" style=\"width: 210px; float: left;\">\n",
       "                       <a href='https://SLUSTL.maps.arcgis.com/home/item.html?id=3fe4ed3819e2426f955e878f77e3afd6' target='_blank'>\n",
       "                        <img src='http://static.arcgis.com/images/desktopapp.png' class=\"itemThumbnail\">\n",
       "                       </a>\n",
       "                    </div>\n",
       "\n",
       "                    <div class=\"item_right\"     style=\"float: none; width: auto; overflow: hidden;\">\n",
       "                        <a href='https://SLUSTL.maps.arcgis.com/home/item.html?id=3fe4ed3819e2426f955e878f77e3afd6' target='_blank'><b>all_week_aug_13_20</b>\n",
       "                        </a>\n",
       "                        <br/><img src='https://SLUSTL.maps.arcgis.com/home/js/jsapi/esri/css/images/item_type_icons/layers16.png' style=\"vertical-align:middle;\">CSV by gregbrunner_slugis\n",
       "                        <br/>Last Modified: March 19, 2020\n",
       "                        <br/>0 comments, 0 views\n",
       "                    </div>\n",
       "                </div>\n",
       "                "
      ],
      "text/plain": [
       "<Item title:\"all_week_aug_13_20\" type:CSV owner:gregbrunner_slugis>"
      ]
     },
     "execution_count": 18,
     "metadata": {},
     "output_type": "execute_result"
    }
   ],
   "source": [
    "eqs"
   ]
  },
  {
   "cell_type": "code",
   "execution_count": 19,
   "metadata": {},
   "outputs": [
    {
     "data": {
      "text/html": [
       "<div class=\"item_container\" style=\"height: auto; overflow: hidden; border: 1px solid #cfcfcf; border-radius: 2px; background: #f6fafa; line-height: 1.21429em; padding: 10px;\">\n",
       "                    <div class=\"item_left\" style=\"width: 210px; float: left;\">\n",
       "                       <a href='https://SLUSTL.maps.arcgis.com/home/item.html?id=eafbc9ee69274b67aa65c93e673b36e3' target='_blank'>\n",
       "                        <img src='http://static.arcgis.com/images/desktopapp.png' class=\"itemThumbnail\">\n",
       "                       </a>\n",
       "                    </div>\n",
       "\n",
       "                    <div class=\"item_right\"     style=\"float: none; width: auto; overflow: hidden;\">\n",
       "                        <a href='https://SLUSTL.maps.arcgis.com/home/item.html?id=eafbc9ee69274b67aa65c93e673b36e3' target='_blank'><b>all_week_aug_13_20</b>\n",
       "                        </a>\n",
       "                        <br/><img src='https://SLUSTL.maps.arcgis.com/home/js/jsapi/esri/css/images/item_type_icons/featureshosted16.png' style=\"vertical-align:middle;\">Feature Layer Collection by gregbrunner_slugis\n",
       "                        <br/>Last Modified: March 19, 2020\n",
       "                        <br/>0 comments, 0 views\n",
       "                    </div>\n",
       "                </div>\n",
       "                "
      ],
      "text/plain": [
       "<Item title:\"all_week_aug_13_20\" type:Feature Layer Collection owner:gregbrunner_slugis>"
      ]
     },
     "execution_count": 19,
     "metadata": {},
     "output_type": "execute_result"
    }
   ],
   "source": [
    "eqs_lyr = eqs.publish()"
   ]
  },
  {
   "cell_type": "code",
   "execution_count": 20,
   "metadata": {},
   "outputs": [],
   "source": [
    "eq_map = gis.map('USA')"
   ]
  },
  {
   "cell_type": "code",
   "execution_count": 21,
   "metadata": {},
   "outputs": [
    {
     "data": {
      "application/vnd.jupyter.widget-view+json": {
       "model_id": "64e5bba91247492eb6229aca7552d266",
       "version_major": 2,
       "version_minor": 0
      },
      "text/plain": [
       "MapView(layout=Layout(height='400px', width='100%'))"
      ]
     },
     "metadata": {},
     "output_type": "display_data"
    },
    {
     "data": {
      "text/html": [
       "<div class=\"map-static-img-preview-48ba0fac-3f94-4ab7-9292-8dedf14cecfc\"><img src=\"\"></img></div>"
      ],
      "text/plain": [
       "<IPython.core.display.HTML object>"
      ]
     },
     "metadata": {},
     "output_type": "display_data"
    }
   ],
   "source": [
    "eq_map"
   ]
  },
  {
   "cell_type": "code",
   "execution_count": null,
   "metadata": {},
   "outputs": [],
   "source": [
    "eq_map.add_layer(eqs_layer)"
   ]
  },
  {
   "cell_type": "markdown",
   "metadata": {},
   "source": [
    "## Searching items"
   ]
  },
  {
   "cell_type": "code",
   "execution_count": 31,
   "metadata": {},
   "outputs": [
    {
     "data": {
      "text/plain": [
       "[<Item title:\"COVID-19\" type:Feature Layer Collection owner:tara.mott_SLUSTL>,\n",
       " <Item title:\"COVID-19_stakeholder\" type:Feature Layer Collection owner:tara.mott_SLUSTL>,\n",
       " <Item title:\"COVID-19 Map\" type:Feature Collection owner:gregbrunner_slugis>,\n",
       " <Item title:\"COVID-19_fieldworker\" type:Feature Layer Collection owner:tara.mott_SLUSTL>,\n",
       " <Item title:\"COVID-19\" type:Form owner:tara.mott_SLUSTL>]"
      ]
     },
     "execution_count": 31,
     "metadata": {},
     "output_type": "execute_result"
    }
   ],
   "source": [
    "all_items = gis.content.search(\"COVID-19\")\n",
    "all_items"
   ]
  },
  {
   "cell_type": "code",
   "execution_count": 24,
   "metadata": {},
   "outputs": [
    {
     "data": {
      "text/plain": [
       "[<Item title:\"stl_crime_by_ward\" type:Feature Layer Collection owner:gregbrunner_slugis>,\n",
       " <Item title:\"Assignment 8.2 St. Louis Crime Density & Hot Spot Analysis\" type:Web Map owner:cuaycongy_SLUSTL>,\n",
       " <Item title:\"St. Louis Crime Data YCF\" type:File Geodatabase owner:cuaycongy_SLUSTL>,\n",
       " <Item title:\"St. Louis Crime Density Map\" type:Web Map owner:laurenlovato_slustl>,\n",
       " <Item title:\"STL July Crime 10302018 v2\" type:File Geodatabase owner:gregbrunner_slugis>,\n",
       " <Item title:\"Nearest_Hospitals_to_Serious_Violent_Crimes - 3343 MELWOOD AV - VA Pittsburgh 4100 Allequippa St, PGH 15261\" type:Feature Collection owner:haley.alder_SLUSTL>,\n",
       " <Item title:\"Nearest_Hospitals_to_Serious_Violent_Crimes - 325 FIFTH AV - 1400 Locust Street Pittsburgh, PA 15219\" type:Feature Collection owner:haley.alder_SLUSTL>,\n",
       " <Item title:\"Nearest_Hospitals_to_Serious_Violent_Crimes - 4703 PLUMMER ST - 4401 Penn Avenue Pittsburgh, PA 15224\" type:Feature Collection owner:haley.alder_SLUSTL>,\n",
       " <Item title:\"Nearest_Hospitals_to_Serious_Violent_Crimes - 1996 E CARSON ST - 1400 Locust Street Pittsburgh, PA 15219\" type:Feature Collection owner:haley.alder_SLUSTL>,\n",
       " <Item title:\"Nearest_Hospitals_to_Serious_Violent_Crimes - 813 S AIKEN AV - 5230 Center Ave Pittsburgh, PA  15232\" type:Feature Collection owner:haley.alder_SLUSTL>]"
      ]
     },
     "execution_count": 24,
     "metadata": {},
     "output_type": "execute_result"
    }
   ],
   "source": [
    "crime_data = gis.content.search('crime')\n",
    "crime_data"
   ]
  },
  {
   "cell_type": "markdown",
   "metadata": {},
   "source": [
    "## Create a map and add data to a map"
   ]
  },
  {
   "cell_type": "code",
   "execution_count": 25,
   "metadata": {},
   "outputs": [
    {
     "data": {
      "application/vnd.jupyter.widget-view+json": {
       "model_id": "3d9a90dc11874de4b1f454773a7982f5",
       "version_major": 2,
       "version_minor": 0
      },
      "text/plain": [
       "MapView(layout=Layout(height='400px', width='100%'))"
      ]
     },
     "metadata": {},
     "output_type": "display_data"
    },
    {
     "data": {
      "text/html": [
       "<div class=\"map-static-img-preview-040d9560-e951-4fef-821d-f3466f98f185\"><img src=\"\"></img></div>"
      ],
      "text/plain": [
       "<IPython.core.display.HTML object>"
      ]
     },
     "metadata": {},
     "output_type": "display_data"
    }
   ],
   "source": [
    "covid_map = gis.map('China')\n",
    "covid_map"
   ]
  },
  {
   "cell_type": "code",
   "execution_count": 27,
   "metadata": {},
   "outputs": [],
   "source": [
    "covid_map.basemap='osm'"
   ]
  },
  {
   "cell_type": "code",
   "execution_count": 32,
   "metadata": {},
   "outputs": [
    {
     "ename": "TypeError",
     "evalue": "'NoneType' object is not subscriptable",
     "output_type": "error",
     "traceback": [
      "\u001b[1;31m---------------------------------------------------------------------------\u001b[0m",
      "\u001b[1;31mTypeError\u001b[0m                                 Traceback (most recent call last)",
      "\u001b[1;32m<ipython-input-32-0dd4c85bef3e>\u001b[0m in \u001b[0;36m<module>\u001b[1;34m\u001b[0m\n\u001b[1;32m----> 1\u001b[1;33m \u001b[0mcovid_map\u001b[0m\u001b[1;33m.\u001b[0m\u001b[0madd_layer\u001b[0m\u001b[1;33m(\u001b[0m\u001b[0mall_items\u001b[0m\u001b[1;33m[\u001b[0m\u001b[1;36m2\u001b[0m\u001b[1;33m]\u001b[0m\u001b[1;33m.\u001b[0m\u001b[0mlayers\u001b[0m\u001b[1;33m[\u001b[0m\u001b[1;36m0\u001b[0m\u001b[1;33m]\u001b[0m\u001b[1;33m)\u001b[0m\u001b[1;33m\u001b[0m\u001b[1;33m\u001b[0m\u001b[0m\n\u001b[0m",
      "\u001b[1;31mTypeError\u001b[0m: 'NoneType' object is not subscriptable"
     ]
    }
   ],
   "source": [
    "covid_map.add_layer(all_items[2].layers[0])"
   ]
  },
  {
   "cell_type": "code",
   "execution_count": 37,
   "metadata": {},
   "outputs": [],
   "source": [
    "fc = all_items[2]"
   ]
  },
  {
   "cell_type": "code",
   "execution_count": 41,
   "metadata": {},
   "outputs": [],
   "source": [
    "fc.layers"
   ]
  },
  {
   "cell_type": "code",
   "execution_count": null,
   "metadata": {},
   "outputs": [],
   "source": []
  }
 ],
 "metadata": {
  "kernelspec": {
   "display_name": "Python 3",
   "language": "python",
   "name": "python3"
  },
  "language_info": {
   "codemirror_mode": {
    "name": "ipython",
    "version": 3
   },
   "file_extension": ".py",
   "mimetype": "text/x-python",
   "name": "python",
   "nbconvert_exporter": "python",
   "pygments_lexer": "ipython3",
   "version": "3.6.9"
  }
 },
 "nbformat": 4,
 "nbformat_minor": 4
}
