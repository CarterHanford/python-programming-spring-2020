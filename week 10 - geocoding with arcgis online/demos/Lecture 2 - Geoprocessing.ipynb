{
 "cells": [
  {
   "cell_type": "markdown",
   "metadata": {},
   "source": [
    "# Analysis using ArcGIS Online\n",
    "\n",
    "Help documentation at https://developers.arcgis.com/python/api-reference/arcgis.features.analysis.html?highlight=analysis#module-arcgis.features.analysis"
   ]
  },
  {
   "cell_type": "code",
   "execution_count": 4,
   "metadata": {},
   "outputs": [
    {
     "name": "stdout",
     "output_type": "stream",
     "text": [
      "Enter password: ········\n"
     ]
    }
   ],
   "source": [
    "from arcgis.gis import GIS\n",
    "from arcgis.features.analysis import *\n",
    "from arcgis.features import FeatureLayer\n",
    "\n",
    "gis = GIS(\"http://slustl.maps.arcgis.com/home\", \"gregbrunner_slugis\")"
   ]
  },
  {
   "cell_type": "code",
   "execution_count": 7,
   "metadata": {},
   "outputs": [],
   "source": [
    "fl = FeatureLayer(\n",
    "    url='https://services2.arcgis.com/bB9Y1bGKerz1PTl5/arcgis/rest/services/STL_Crime/FeatureServer/0', \n",
    "    gis=gis\n",
    ")"
   ]
  },
  {
   "cell_type": "markdown",
   "metadata": {},
   "source": [
    "### The actual features as a Spatial DataFrame"
   ]
  },
  {
   "cell_type": "code",
   "execution_count": 8,
   "metadata": {},
   "outputs": [
    {
     "data": {
      "text/html": [
       "<div>\n",
       "<style scoped>\n",
       "    .dataframe tbody tr th:only-of-type {\n",
       "        vertical-align: middle;\n",
       "    }\n",
       "\n",
       "    .dataframe tbody tr th {\n",
       "        vertical-align: top;\n",
       "    }\n",
       "\n",
       "    .dataframe thead th {\n",
       "        text-align: right;\n",
       "    }\n",
       "</style>\n",
       "<table border=\"1\" class=\"dataframe\">\n",
       "  <thead>\n",
       "    <tr style=\"text-align: right;\">\n",
       "      <th></th>\n",
       "      <th>OBJECTID</th>\n",
       "      <th>Complaint</th>\n",
       "      <th>CodedMonth</th>\n",
       "      <th>DateOccur</th>\n",
       "      <th>FlagCrime</th>\n",
       "      <th>FlagUnfounded</th>\n",
       "      <th>FlagAdministrative</th>\n",
       "      <th>Count_</th>\n",
       "      <th>FlagCleanup</th>\n",
       "      <th>Crime</th>\n",
       "      <th>...</th>\n",
       "      <th>ILEADSAddress</th>\n",
       "      <th>ILEADSStreet</th>\n",
       "      <th>Neighborhood</th>\n",
       "      <th>LocationName</th>\n",
       "      <th>LocationComment</th>\n",
       "      <th>CADAddress</th>\n",
       "      <th>CADStreet</th>\n",
       "      <th>XCoord</th>\n",
       "      <th>YCoord</th>\n",
       "      <th>SHAPE</th>\n",
       "    </tr>\n",
       "  </thead>\n",
       "  <tbody>\n",
       "    <tr>\n",
       "      <td>0</td>\n",
       "      <td>1</td>\n",
       "      <td>18-001804</td>\n",
       "      <td>2018-01</td>\n",
       "      <td>01/01/2018 00:01</td>\n",
       "      <td>Y</td>\n",
       "      <td>None</td>\n",
       "      <td>None</td>\n",
       "      <td>1</td>\n",
       "      <td>None</td>\n",
       "      <td>31111</td>\n",
       "      <td>...</td>\n",
       "      <td>6431.0</td>\n",
       "      <td>IDAHO AVE</td>\n",
       "      <td>1</td>\n",
       "      <td>None</td>\n",
       "      <td>ON STREET IN FRONT OF 6431 IDAHO</td>\n",
       "      <td>6431.0</td>\n",
       "      <td>IDAHO</td>\n",
       "      <td>890047.4</td>\n",
       "      <td>992586.3</td>\n",
       "      <td>{'x': 890047.4000000001, 'y': 992586.300000000...</td>\n",
       "    </tr>\n",
       "    <tr>\n",
       "      <td>1</td>\n",
       "      <td>2</td>\n",
       "      <td>18-002209</td>\n",
       "      <td>2018-01</td>\n",
       "      <td>01/01/2018 00:01</td>\n",
       "      <td>Y</td>\n",
       "      <td>None</td>\n",
       "      <td>None</td>\n",
       "      <td>1</td>\n",
       "      <td>None</td>\n",
       "      <td>142320</td>\n",
       "      <td>...</td>\n",
       "      <td>5506.0</td>\n",
       "      <td>ETZEL AVE</td>\n",
       "      <td>48</td>\n",
       "      <td>None</td>\n",
       "      <td>None</td>\n",
       "      <td>5506.0</td>\n",
       "      <td>ETZEL</td>\n",
       "      <td>884087.5</td>\n",
       "      <td>1030426.0</td>\n",
       "      <td>{'x': 884087.5000000001, 'y': 1030426.00000000...</td>\n",
       "    </tr>\n",
       "    <tr>\n",
       "      <td>2</td>\n",
       "      <td>3</td>\n",
       "      <td>18-000063</td>\n",
       "      <td>2018-01</td>\n",
       "      <td>01/01/2018 00:01</td>\n",
       "      <td>Y</td>\n",
       "      <td>None</td>\n",
       "      <td>None</td>\n",
       "      <td>1</td>\n",
       "      <td>None</td>\n",
       "      <td>67601</td>\n",
       "      <td>...</td>\n",
       "      <td>2543.0</td>\n",
       "      <td>N GRAND BLVD</td>\n",
       "      <td>59</td>\n",
       "      <td>THE BOULEVARD</td>\n",
       "      <td>None</td>\n",
       "      <td>2543.0</td>\n",
       "      <td>GRAND</td>\n",
       "      <td>899361.5</td>\n",
       "      <td>1026965.0</td>\n",
       "      <td>{'x': 899361.5000000001, 'y': 1026965.00000000...</td>\n",
       "    </tr>\n",
       "    <tr>\n",
       "      <td>3</td>\n",
       "      <td>4</td>\n",
       "      <td>18-000018</td>\n",
       "      <td>2018-01</td>\n",
       "      <td>01/01/2018 00:01</td>\n",
       "      <td>Y</td>\n",
       "      <td>None</td>\n",
       "      <td>None</td>\n",
       "      <td>1</td>\n",
       "      <td>None</td>\n",
       "      <td>41011</td>\n",
       "      <td>...</td>\n",
       "      <td>4000.0</td>\n",
       "      <td>DE TONTY ST</td>\n",
       "      <td>27</td>\n",
       "      <td>None</td>\n",
       "      <td>None</td>\n",
       "      <td>4000.0</td>\n",
       "      <td>DE TONTY</td>\n",
       "      <td>892323.3</td>\n",
       "      <td>1013550.0</td>\n",
       "      <td>{'x': 892323.3000000002, 'y': 1013550.00000000...</td>\n",
       "    </tr>\n",
       "    <tr>\n",
       "      <td>4</td>\n",
       "      <td>5</td>\n",
       "      <td>18-000003</td>\n",
       "      <td>2018-01</td>\n",
       "      <td>01/01/2018 00:01</td>\n",
       "      <td>Y</td>\n",
       "      <td>None</td>\n",
       "      <td>None</td>\n",
       "      <td>1</td>\n",
       "      <td>None</td>\n",
       "      <td>41011</td>\n",
       "      <td>...</td>\n",
       "      <td>3149.0</td>\n",
       "      <td>PESTALOZZI ST</td>\n",
       "      <td>25</td>\n",
       "      <td>None</td>\n",
       "      <td>None</td>\n",
       "      <td>3149.0</td>\n",
       "      <td>PESTALOZZI</td>\n",
       "      <td>896039.9</td>\n",
       "      <td>1008823.0</td>\n",
       "      <td>{'x': 896039.9000000001, 'y': 1008823.00000000...</td>\n",
       "    </tr>\n",
       "    <tr>\n",
       "      <td>...</td>\n",
       "      <td>...</td>\n",
       "      <td>...</td>\n",
       "      <td>...</td>\n",
       "      <td>...</td>\n",
       "      <td>...</td>\n",
       "      <td>...</td>\n",
       "      <td>...</td>\n",
       "      <td>...</td>\n",
       "      <td>...</td>\n",
       "      <td>...</td>\n",
       "      <td>...</td>\n",
       "      <td>...</td>\n",
       "      <td>...</td>\n",
       "      <td>...</td>\n",
       "      <td>...</td>\n",
       "      <td>...</td>\n",
       "      <td>...</td>\n",
       "      <td>...</td>\n",
       "      <td>...</td>\n",
       "      <td>...</td>\n",
       "      <td>...</td>\n",
       "    </tr>\n",
       "    <tr>\n",
       "      <td>3722</td>\n",
       "      <td>3821</td>\n",
       "      <td>18-000009</td>\n",
       "      <td>2018-01</td>\n",
       "      <td>12/31/2017 23:46</td>\n",
       "      <td>Y</td>\n",
       "      <td>None</td>\n",
       "      <td>None</td>\n",
       "      <td>1</td>\n",
       "      <td>None</td>\n",
       "      <td>64701</td>\n",
       "      <td>...</td>\n",
       "      <td>3322.0</td>\n",
       "      <td>DEMENIL PL</td>\n",
       "      <td>22</td>\n",
       "      <td>LEMP MANSION</td>\n",
       "      <td>None</td>\n",
       "      <td>3322.0</td>\n",
       "      <td>DEMENIL</td>\n",
       "      <td>901441.1</td>\n",
       "      <td>1004983.0</td>\n",
       "      <td>{'x': 901441.1000000001, 'y': 1004983.00000000...</td>\n",
       "    </tr>\n",
       "    <tr>\n",
       "      <td>3723</td>\n",
       "      <td>3822</td>\n",
       "      <td>18-000227</td>\n",
       "      <td>2018-01</td>\n",
       "      <td>12/31/2017 23:46</td>\n",
       "      <td>Y</td>\n",
       "      <td>None</td>\n",
       "      <td>None</td>\n",
       "      <td>1</td>\n",
       "      <td>None</td>\n",
       "      <td>152200</td>\n",
       "      <td>...</td>\n",
       "      <td>3939.0</td>\n",
       "      <td>NEBRASKA AVE</td>\n",
       "      <td>16</td>\n",
       "      <td>None</td>\n",
       "      <td>None</td>\n",
       "      <td>3939.0</td>\n",
       "      <td>NEBRASKA</td>\n",
       "      <td>896038.8</td>\n",
       "      <td>1001609.0</td>\n",
       "      <td>{'x': 896038.8000000002, 'y': 1001609.00000000...</td>\n",
       "    </tr>\n",
       "    <tr>\n",
       "      <td>3724</td>\n",
       "      <td>3823</td>\n",
       "      <td>18-000391</td>\n",
       "      <td>2018-01</td>\n",
       "      <td>12/31/2017 23:50</td>\n",
       "      <td>Y</td>\n",
       "      <td>None</td>\n",
       "      <td>None</td>\n",
       "      <td>1</td>\n",
       "      <td>None</td>\n",
       "      <td>142320</td>\n",
       "      <td>...</td>\n",
       "      <td>3935.0</td>\n",
       "      <td>NEBRASKA AVE</td>\n",
       "      <td>16</td>\n",
       "      <td>None</td>\n",
       "      <td>None</td>\n",
       "      <td>3935.0</td>\n",
       "      <td>NEBRASKA</td>\n",
       "      <td>896046.5</td>\n",
       "      <td>1001657.0</td>\n",
       "      <td>{'x': 896046.5000000001, 'y': 1001657.00000000...</td>\n",
       "    </tr>\n",
       "    <tr>\n",
       "      <td>3725</td>\n",
       "      <td>3824</td>\n",
       "      <td>18-000005</td>\n",
       "      <td>2018-01</td>\n",
       "      <td>12/31/2017 23:51</td>\n",
       "      <td>Y</td>\n",
       "      <td>None</td>\n",
       "      <td>None</td>\n",
       "      <td>1</td>\n",
       "      <td>None</td>\n",
       "      <td>91114</td>\n",
       "      <td>...</td>\n",
       "      <td>4221.0</td>\n",
       "      <td>NEOSHO ST</td>\n",
       "      <td>5</td>\n",
       "      <td>None</td>\n",
       "      <td>UPSTAIRS</td>\n",
       "      <td>4215.0</td>\n",
       "      <td>NEOSHO</td>\n",
       "      <td>887534.9</td>\n",
       "      <td>1001720.0</td>\n",
       "      <td>{'x': 887534.9000000001, 'y': 1001720.00000000...</td>\n",
       "    </tr>\n",
       "    <tr>\n",
       "      <td>3726</td>\n",
       "      <td>3825</td>\n",
       "      <td>18-000005</td>\n",
       "      <td>2018-01</td>\n",
       "      <td>12/31/2017 23:51</td>\n",
       "      <td>Y</td>\n",
       "      <td>None</td>\n",
       "      <td>None</td>\n",
       "      <td>1</td>\n",
       "      <td>None</td>\n",
       "      <td>91113</td>\n",
       "      <td>...</td>\n",
       "      <td>4221.0</td>\n",
       "      <td>NEOSHO ST</td>\n",
       "      <td>5</td>\n",
       "      <td>None</td>\n",
       "      <td>UPSTAIRS</td>\n",
       "      <td>4215.0</td>\n",
       "      <td>NEOSHO</td>\n",
       "      <td>887534.9</td>\n",
       "      <td>1001720.0</td>\n",
       "      <td>{'x': 887534.9000000001, 'y': 1001720.00000000...</td>\n",
       "    </tr>\n",
       "  </tbody>\n",
       "</table>\n",
       "<p>3727 rows × 22 columns</p>\n",
       "</div>"
      ],
      "text/plain": [
       "      OBJECTID  Complaint CodedMonth         DateOccur FlagCrime  \\\n",
       "0            1  18-001804    2018-01  01/01/2018 00:01         Y   \n",
       "1            2  18-002209    2018-01  01/01/2018 00:01         Y   \n",
       "2            3  18-000063    2018-01  01/01/2018 00:01         Y   \n",
       "3            4  18-000018    2018-01  01/01/2018 00:01         Y   \n",
       "4            5  18-000003    2018-01  01/01/2018 00:01         Y   \n",
       "...        ...        ...        ...               ...       ...   \n",
       "3722      3821  18-000009    2018-01  12/31/2017 23:46         Y   \n",
       "3723      3822  18-000227    2018-01  12/31/2017 23:46         Y   \n",
       "3724      3823  18-000391    2018-01  12/31/2017 23:50         Y   \n",
       "3725      3824  18-000005    2018-01  12/31/2017 23:51         Y   \n",
       "3726      3825  18-000005    2018-01  12/31/2017 23:51         Y   \n",
       "\n",
       "     FlagUnfounded FlagAdministrative  Count_ FlagCleanup   Crime  ...  \\\n",
       "0             None               None       1        None   31111  ...   \n",
       "1             None               None       1        None  142320  ...   \n",
       "2             None               None       1        None   67601  ...   \n",
       "3             None               None       1        None   41011  ...   \n",
       "4             None               None       1        None   41011  ...   \n",
       "...            ...                ...     ...         ...     ...  ...   \n",
       "3722          None               None       1        None   64701  ...   \n",
       "3723          None               None       1        None  152200  ...   \n",
       "3724          None               None       1        None  142320  ...   \n",
       "3725          None               None       1        None   91114  ...   \n",
       "3726          None               None       1        None   91113  ...   \n",
       "\n",
       "      ILEADSAddress   ILEADSStreet  Neighborhood   LocationName  \\\n",
       "0            6431.0      IDAHO AVE             1           None   \n",
       "1            5506.0      ETZEL AVE            48           None   \n",
       "2            2543.0   N GRAND BLVD            59  THE BOULEVARD   \n",
       "3            4000.0    DE TONTY ST            27           None   \n",
       "4            3149.0  PESTALOZZI ST            25           None   \n",
       "...             ...            ...           ...            ...   \n",
       "3722         3322.0     DEMENIL PL            22   LEMP MANSION   \n",
       "3723         3939.0   NEBRASKA AVE            16           None   \n",
       "3724         3935.0   NEBRASKA AVE            16           None   \n",
       "3725         4221.0      NEOSHO ST             5           None   \n",
       "3726         4221.0      NEOSHO ST             5           None   \n",
       "\n",
       "                       LocationComment CADAddress   CADStreet    XCoord  \\\n",
       "0     ON STREET IN FRONT OF 6431 IDAHO     6431.0       IDAHO  890047.4   \n",
       "1                                 None     5506.0       ETZEL  884087.5   \n",
       "2                                 None     2543.0       GRAND  899361.5   \n",
       "3                                 None     4000.0    DE TONTY  892323.3   \n",
       "4                                 None     3149.0  PESTALOZZI  896039.9   \n",
       "...                                ...        ...         ...       ...   \n",
       "3722                              None     3322.0     DEMENIL  901441.1   \n",
       "3723                              None     3939.0    NEBRASKA  896038.8   \n",
       "3724                              None     3935.0    NEBRASKA  896046.5   \n",
       "3725                          UPSTAIRS     4215.0      NEOSHO  887534.9   \n",
       "3726                          UPSTAIRS     4215.0      NEOSHO  887534.9   \n",
       "\n",
       "         YCoord                                              SHAPE  \n",
       "0      992586.3  {'x': 890047.4000000001, 'y': 992586.300000000...  \n",
       "1     1030426.0  {'x': 884087.5000000001, 'y': 1030426.00000000...  \n",
       "2     1026965.0  {'x': 899361.5000000001, 'y': 1026965.00000000...  \n",
       "3     1013550.0  {'x': 892323.3000000002, 'y': 1013550.00000000...  \n",
       "4     1008823.0  {'x': 896039.9000000001, 'y': 1008823.00000000...  \n",
       "...         ...                                                ...  \n",
       "3722  1004983.0  {'x': 901441.1000000001, 'y': 1004983.00000000...  \n",
       "3723  1001609.0  {'x': 896038.8000000002, 'y': 1001609.00000000...  \n",
       "3724  1001657.0  {'x': 896046.5000000001, 'y': 1001657.00000000...  \n",
       "3725  1001720.0  {'x': 887534.9000000001, 'y': 1001720.00000000...  \n",
       "3726  1001720.0  {'x': 887534.9000000001, 'y': 1001720.00000000...  \n",
       "\n",
       "[3727 rows x 22 columns]"
      ]
     },
     "execution_count": 8,
     "metadata": {},
     "output_type": "execute_result"
    }
   ],
   "source": [
    "fl.query().sdf"
   ]
  },
  {
   "cell_type": "code",
   "execution_count": 9,
   "metadata": {},
   "outputs": [
    {
     "data": {
      "application/vnd.jupyter.widget-view+json": {
       "model_id": "70af688eea62418d8d10b788e2ac31fc",
       "version_major": 2,
       "version_minor": 0
      },
      "text/plain": [
       "MapView(layout=Layout(height='400px', width='100%'))"
      ]
     },
     "metadata": {},
     "output_type": "display_data"
    },
    {
     "data": {
      "text/html": [
       "<div class=\"map-static-img-preview-03e965fe-9ea6-4842-9fee-bfa7b07119fc\"><img src=\"\"></img></div>"
      ],
      "text/plain": [
       "<IPython.core.display.HTML object>"
      ]
     },
     "metadata": {},
     "output_type": "display_data"
    }
   ],
   "source": [
    "stl = gis.map('St. Louis, MO')\n",
    "stl"
   ]
  },
  {
   "cell_type": "code",
   "execution_count": 10,
   "metadata": {},
   "outputs": [],
   "source": [
    "stl.add_layer(fl)"
   ]
  },
  {
   "cell_type": "code",
   "execution_count": 8,
   "metadata": {},
   "outputs": [],
   "source": [
    "hot_spots = find_hot_spots(fl)"
   ]
  },
  {
   "cell_type": "markdown",
   "metadata": {},
   "source": [
    "## As Heatmap\n",
    "\n",
    "We can use a heatmap to look for hotspots."
   ]
  },
  {
   "cell_type": "code",
   "execution_count": 14,
   "metadata": {},
   "outputs": [
    {
     "data": {
      "text/plain": [
       "True"
      ]
     },
     "execution_count": 14,
     "metadata": {},
     "output_type": "execute_result"
    }
   ],
   "source": [
    "stl.remove_layers(fl)"
   ]
  },
  {
   "cell_type": "code",
   "execution_count": 16,
   "metadata": {},
   "outputs": [],
   "source": [
    "heatmap_renderer = {\"renderer\":\"HeatmapRenderer\", \"opacity\": 0.75}\n",
    "stl.add_layer(fl, heatmap_renderer)"
   ]
  },
  {
   "cell_type": "markdown",
   "metadata": {},
   "source": [
    "### This is cool, but how do we do some real analysis?"
   ]
  },
  {
   "cell_type": "markdown",
   "metadata": {},
   "source": [
    "## Analysis driven by ArcGIS Online\n",
    "\n",
    "We can use ArcGIS Online to do some real analysis.\n",
    "\n",
    "https://developers.arcgis.com/python/api-reference/arcgis.features.analysis.html?highlight=analysis#module-arcgis.features.analysis"
   ]
  },
  {
   "cell_type": "code",
   "execution_count": 18,
   "metadata": {},
   "outputs": [],
   "source": [
    "hot_spots = find_hot_spots(fl)"
   ]
  },
  {
   "cell_type": "code",
   "execution_count": 19,
   "metadata": {},
   "outputs": [
    {
     "data": {
      "text/plain": [
       "{'hot_spots_result_layer': <FeatureCollection>,\n",
       " 'process_info': ['{\"messageCode\": \"SS_00002\", \"message\": \"The following report outlines the workflow used to optimize your Find Hot Spots result:\", \"params\": {}, \"style\": \"<b></b><br/>\"}',\n",
       "  '{\"message\": \"Initial Data Assessment\", \"messageCode\": \"SS_84428\", \"params\": {}, \"style\": \"<u><b></b></u><br/>\"}',\n",
       "  '{\"message\": \"There are ${NumFeatures} valid input features.\", \"messageCode\": \"SS_84485\", \"params\": {\"NumFeatures\": \"3727\"}, \"style\": \"<ul><li></li></ul>\"}',\n",
       "  '{\"message\": \"There were {numOutliers} outlier locations; these will not be used to compute the polygon cell size.\", \"messageCode\": \"SS_84495_1\", \"params\": {\"numOutliers\": \"8\"}, \"style\": \"<ul><li></li></ul>\"}',\n",
       "  '{\"message\": \"Incident Aggregation\", \"messageCode\": \"SS_84444\", \"params\": {}, \"style\": \"<u><b></b></u><br/>\"}',\n",
       "  '{\"message\": \"Using a polygon cell size of ${SnapInfo}\", \"messageCode\": \"SS_84450\", \"params\": {\"SnapInfo\": \"910.0000 US_Feet\"}, \"style\": \"<ul><li></li></ul>\"}',\n",
       "  '{\"message\": \"The aggregation process resulted in ${AggNumFeatures} weighted polygons.\", \"messageCode\": \"SS_84490\", \"params\": {\"AggNumFeatures\": \"1222\"}, \"style\": \"<ul><li></li></ul>\"}',\n",
       "  '{\"message\": \"${VarName} Properties:\", \"messageCode\": \"SS_84446\", \"params\": {\"VarName\": \"Incident Count\"}, \"style\": \"<ul><li></li></ul>\"}',\n",
       "  '{\"message\": [\"Min:\", \"${MinValue}\"], \"messageCode\": \"SS_84271\", \"params\": {\"MinValue\": \"1.0000\"}, \"style\": \"<table style=\\'width: 200px;margin-left: 2.5em;border: none;\\' class=\\'table-plain\\'><tbody><tr><td style=\\'border: none;\\'></td><td style=\\'float:right;border: none;\\'></td></tr>\"}',\n",
       "  '{\"message\": [\"Max:\", \"${MaxValue}\"], \"messageCode\": \"SS_84272\", \"params\": {\"MaxValue\": \"27.0000\"}, \"style\": \"<tr><td style=\\'border: none;\\'></td><td style=\\'float: right;border: none;\\'></td></tr>\"}',\n",
       "  '{\"message\": [\"Mean:\", \"${AvgValue}\"], \"messageCode\": \"SS_84261\", \"params\": {\"AvgValue\": \"3.0499\"}, \"style\": \"<tr><td style=\\'border: none;\\'></td><td style=\\'float: right;border: none;\\'></td></tr>\"}',\n",
       "  '{\"message\": [\"Std. Dev.:\", \"${StdValue}\"], \"messageCode\": \"SS_84262\", \"params\": {\"StdValue\": \"3.0541\"}, \"style\": \"<tr><td style=\\'border: none;\\'></td><td style=\\'float: right;border: none;\\'></td></tr></tbody></table>\"}',\n",
       "  '{\"message\": \"Scale of Analysis\", \"messageCode\": \"SS_84459\", \"params\": {}, \"style\": \"<u><b></b></u><br/>\"}',\n",
       "  '{\"message\": \"The optimal fixed distance band is based on peak clustering found at ${DistanceInfo}\", \"messageCode\": \"SS_84461\", \"params\": {\"DistanceInfo\": \"6590.4984 US_Feet\"}, \"style\": \"<ul><li></li></ul><br/>\"}',\n",
       "  '{\"message\": \"Hot Spot Analysis\", \"messageCode\": \"SS_84466\", \"params\": {}, \"style\": \"<u><b></b></u><br/>\"}',\n",
       "  '{\"message\": \"There are ${NumSignificant} output features statistically significant based on an FDR correction for multiple testing and spatial dependence.\", \"messageCode\": \"SS_84470\", \"params\": {\"NumSignificant\": \"396\"}, \"style\": \"<ul><li></li></ul><br/>\"}',\n",
       "  '{\"message\": \"Output\", \"messageCode\": \"SS_84471\", \"params\": {}, \"style\": \"<u><b></b></u><br/>\"}',\n",
       "  '{\"message\": \"Red output features represent hot spots where high incident counts cluster.\", \"messageCode\": \"SS_84469_0\", \"params\": {}, \"style\": \"<ul><li></li></ul>\"}',\n",
       "  '{\"message\": \"Blue output features represent cold spots where low incident counts cluster.\", \"messageCode\": \"SS_84469_1\", \"params\": {}, \"style\": \"<ul><li></li></ul><br/>\"}']}"
      ]
     },
     "execution_count": 19,
     "metadata": {},
     "output_type": "execute_result"
    }
   ],
   "source": [
    "hot_spots"
   ]
  },
  {
   "cell_type": "code",
   "execution_count": 20,
   "metadata": {},
   "outputs": [
    {
     "data": {
      "application/vnd.jupyter.widget-view+json": {
       "model_id": "686ea6f1eb8141d98fc0c11e02c0c7c1",
       "version_major": 2,
       "version_minor": 0
      },
      "text/plain": [
       "MapView(layout=Layout(height='400px', width='100%'))"
      ]
     },
     "metadata": {},
     "output_type": "display_data"
    },
    {
     "data": {
      "text/html": [
       "<div class=\"map-static-img-preview-9c62b400-4d05-4420-90c6-bd94e4d02502\"><img src=\"\"></img></div>"
      ],
      "text/plain": [
       "<IPython.core.display.HTML object>"
      ]
     },
     "metadata": {},
     "output_type": "display_data"
    }
   ],
   "source": [
    "stl_map = gis.map('St. Louis, MO')\n",
    "stl_map"
   ]
  },
  {
   "cell_type": "code",
   "execution_count": 22,
   "metadata": {},
   "outputs": [],
   "source": [
    "stl_map.add_layer(hot_spots['hot_spots_result_layer'])"
   ]
  },
  {
   "cell_type": "code",
   "execution_count": 23,
   "metadata": {},
   "outputs": [
    {
     "data": {
      "text/html": [
       "<div class=\"item_container\" style=\"height: auto; overflow: hidden; border: 1px solid #cfcfcf; border-radius: 2px; background: #f6fafa; line-height: 1.21429em; padding: 10px;\">\n",
       "                    <div class=\"item_left\" style=\"width: 210px; float: left;\">\n",
       "                       <a href='http://SLUSTL.maps.arcgis.com/home/item.html?id=e47d8b1137cb44deb4f54a17d16b11ca' target='_blank'>\n",
       "                        <img src='http://static.arcgis.com/images/desktopapp.png' class=\"itemThumbnail\">\n",
       "                       </a>\n",
       "                    </div>\n",
       "\n",
       "                    <div class=\"item_right\"     style=\"float: none; width: auto; overflow: hidden;\">\n",
       "                        <a href='http://SLUSTL.maps.arcgis.com/home/item.html?id=e47d8b1137cb44deb4f54a17d16b11ca' target='_blank'><b>STL Crime Hot Spots GJB</b>\n",
       "                        </a>\n",
       "                        <br/>STL Crime Hot Spots<img src='http://SLUSTL.maps.arcgis.com/home/js/jsapi/esri/css/images/item_type_icons/maps16.png' style=\"vertical-align:middle;\">Web Map by gregbrunner_slugis\n",
       "                        <br/>Last Modified: October 29, 2018\n",
       "                        <br/>0 comments, 0 views\n",
       "                    </div>\n",
       "                </div>\n",
       "                "
      ],
      "text/plain": [
       "<Item title:\"STL Crime Hot Spots GJB\" type:Web Map owner:gregbrunner_slugis>"
      ]
     },
     "execution_count": 23,
     "metadata": {},
     "output_type": "execute_result"
    }
   ],
   "source": [
    "webmap_item_properties = {'title':'STL Crime Hot Spots GJB',\n",
    "                         'snippet':'STL Crime Hot Spots',\n",
    "                         'tags':['Crime', \"St. Louis\"]}\n",
    "\n",
    "stl_map.save(webmap_item_properties)#, thumbnail='./webmap_thumbnail.png')"
   ]
  },
  {
   "cell_type": "markdown",
   "metadata": {},
   "source": [
    "### Cool, right?!\n",
    "\n",
    "## Let's Create a Density Map"
   ]
  },
  {
   "cell_type": "code",
   "execution_count": 26,
   "metadata": {},
   "outputs": [
    {
     "name": "stderr",
     "output_type": "stream",
     "text": [
      "CheckPrivilege failed.\n",
      "{\"messageCode\": \"AO_100105\", \"message\": \"CalculateDensity failed.\"}\n",
      "Failed to execute (CalculateDensity).\n",
      "Failed.\n"
     ]
    },
    {
     "ename": "Exception",
     "evalue": "Job failed.",
     "output_type": "error",
     "traceback": [
      "\u001b[1;31m---------------------------------------------------------------------------\u001b[0m",
      "\u001b[1;31mException\u001b[0m                                 Traceback (most recent call last)",
      "\u001b[1;32m<ipython-input-26-f929d0463654>\u001b[0m in \u001b[0;36m<module>\u001b[1;34m\u001b[0m\n\u001b[1;32m----> 1\u001b[1;33m \u001b[0mcrime_density\u001b[0m \u001b[1;33m=\u001b[0m \u001b[0mcalculate_density\u001b[0m\u001b[1;33m(\u001b[0m\u001b[0minput_layer\u001b[0m \u001b[1;33m=\u001b[0m \u001b[0mfl\u001b[0m\u001b[1;33m,\u001b[0m \u001b[0moutput_name\u001b[0m \u001b[1;33m=\u001b[0m \u001b[1;34m'STL Crime Density Map 03312020'\u001b[0m\u001b[1;33m,\u001b[0m \u001b[0mgis\u001b[0m\u001b[1;33m=\u001b[0m\u001b[0mgis\u001b[0m\u001b[1;33m)\u001b[0m\u001b[1;33m\u001b[0m\u001b[1;33m\u001b[0m\u001b[0m\n\u001b[0m",
      "\u001b[1;32mC:\\Program Files\\ArcGIS\\Pro\\bin\\Python\\envs\\arcgispro-py3\\lib\\site-packages\\arcgis\\features\\analyze_patterns.py\u001b[0m in \u001b[0;36mcalculate_density\u001b[1;34m(input_layer, field, cell_size, cell_size_units, radius, radius_units, bounding_polygon_layer, area_units, classification_type, num_classes, output_name, context, gis, estimate, future)\u001b[0m\n\u001b[0;32m    124\u001b[0m         \u001b[0moutput_name\u001b[0m\u001b[1;33m,\u001b[0m\u001b[1;33m\u001b[0m\u001b[1;33m\u001b[0m\u001b[0m\n\u001b[0;32m    125\u001b[0m         \u001b[0mcontext\u001b[0m\u001b[1;33m,\u001b[0m\u001b[1;33m\u001b[0m\u001b[1;33m\u001b[0m\u001b[0m\n\u001b[1;32m--> 126\u001b[1;33m         estimate=estimate, future=future)\n\u001b[0m\u001b[0;32m    127\u001b[0m \u001b[1;33m\u001b[0m\u001b[0m\n\u001b[0;32m    128\u001b[0m def summarize_center_and_dispersion(\n",
      "\u001b[1;32mC:\\Program Files\\ArcGIS\\Pro\\bin\\Python\\envs\\arcgispro-py3\\lib\\site-packages\\arcgis\\_impl\\tools.py\u001b[0m in \u001b[0;36mcalculate_density\u001b[1;34m(self, input_layer, field, cell_size, cell_size_units, radius, radius_units, bounding_polygon_layer, area_units, classification_type, num_classes, output_name, context, estimate, future)\u001b[0m\n\u001b[0;32m   1358\u001b[0m         \u001b[1;32mif\u001b[0m \u001b[0mfuture\u001b[0m\u001b[1;33m:\u001b[0m\u001b[1;33m\u001b[0m\u001b[1;33m\u001b[0m\u001b[0m\n\u001b[0;32m   1359\u001b[0m             \u001b[1;32mreturn\u001b[0m \u001b[0mgpjob\u001b[0m\u001b[1;33m\u001b[0m\u001b[1;33m\u001b[0m\u001b[0m\n\u001b[1;32m-> 1360\u001b[1;33m         \u001b[0mret\u001b[0m \u001b[1;33m=\u001b[0m \u001b[0mgpjob\u001b[0m\u001b[1;33m.\u001b[0m\u001b[0mresult\u001b[0m\u001b[1;33m(\u001b[0m\u001b[1;33m)\u001b[0m\u001b[1;33m\u001b[0m\u001b[1;33m\u001b[0m\u001b[0m\n\u001b[0m\u001b[0;32m   1361\u001b[0m         \u001b[1;32mif\u001b[0m \u001b[0moutput_name\u001b[0m \u001b[1;32mis\u001b[0m \u001b[1;32mnot\u001b[0m \u001b[1;32mNone\u001b[0m \u001b[1;32mand\u001b[0m \u001b[1;34m'resultLayer'\u001b[0m \u001b[1;32min\u001b[0m \u001b[0mret\u001b[0m\u001b[1;33m:\u001b[0m\u001b[1;33m\u001b[0m\u001b[1;33m\u001b[0m\u001b[0m\n\u001b[0;32m   1362\u001b[0m             \u001b[1;32mreturn\u001b[0m \u001b[0mret\u001b[0m\u001b[1;33m[\u001b[0m\u001b[1;34m'resultLayer'\u001b[0m\u001b[1;33m]\u001b[0m\u001b[1;33m\u001b[0m\u001b[1;33m\u001b[0m\u001b[0m\n",
      "\u001b[1;32mC:\\Program Files\\ArcGIS\\Pro\\bin\\Python\\envs\\arcgispro-py3\\lib\\site-packages\\arcgis\\geoprocessing\\_job.py\u001b[0m in \u001b[0;36mresult\u001b[1;34m(self)\u001b[0m\n\u001b[0;32m    185\u001b[0m             \u001b[1;32mreturn\u001b[0m \u001b[1;32mNone\u001b[0m\u001b[1;33m\u001b[0m\u001b[1;33m\u001b[0m\u001b[0m\n\u001b[0;32m    186\u001b[0m         \u001b[1;32mif\u001b[0m \u001b[0mself\u001b[0m\u001b[1;33m.\u001b[0m\u001b[0m_is_fa\u001b[0m\u001b[1;33m:\u001b[0m\u001b[1;33m\u001b[0m\u001b[1;33m\u001b[0m\u001b[0m\n\u001b[1;32m--> 187\u001b[1;33m             \u001b[1;32mreturn\u001b[0m \u001b[0mself\u001b[0m\u001b[1;33m.\u001b[0m\u001b[0m_process_fa\u001b[0m\u001b[1;33m(\u001b[0m\u001b[0mself\u001b[0m\u001b[1;33m.\u001b[0m\u001b[0m_future\u001b[0m\u001b[1;33m.\u001b[0m\u001b[0mresult\u001b[0m\u001b[1;33m(\u001b[0m\u001b[1;33m)\u001b[0m\u001b[1;33m)\u001b[0m\u001b[1;33m\u001b[0m\u001b[1;33m\u001b[0m\u001b[0m\n\u001b[0m\u001b[0;32m    188\u001b[0m         \u001b[1;32melif\u001b[0m \u001b[0mself\u001b[0m\u001b[1;33m.\u001b[0m\u001b[0m_is_ra\u001b[0m\u001b[1;33m:\u001b[0m\u001b[1;33m\u001b[0m\u001b[1;33m\u001b[0m\u001b[0m\n\u001b[0;32m    189\u001b[0m             \u001b[1;32mreturn\u001b[0m \u001b[0mself\u001b[0m\u001b[1;33m.\u001b[0m\u001b[0m_process_ra\u001b[0m\u001b[1;33m(\u001b[0m\u001b[0mself\u001b[0m\u001b[1;33m.\u001b[0m\u001b[0m_future\u001b[0m\u001b[1;33m.\u001b[0m\u001b[0mresult\u001b[0m\u001b[1;33m(\u001b[0m\u001b[1;33m)\u001b[0m\u001b[1;33m)\u001b[0m\u001b[1;33m\u001b[0m\u001b[1;33m\u001b[0m\u001b[0m\n",
      "\u001b[1;32mC:\\Program Files\\ArcGIS\\Pro\\bin\\Python\\envs\\arcgispro-py3\\lib\\concurrent\\futures\\_base.py\u001b[0m in \u001b[0;36mresult\u001b[1;34m(self, timeout)\u001b[0m\n\u001b[0;32m    430\u001b[0m                 \u001b[1;32mraise\u001b[0m \u001b[0mCancelledError\u001b[0m\u001b[1;33m(\u001b[0m\u001b[1;33m)\u001b[0m\u001b[1;33m\u001b[0m\u001b[1;33m\u001b[0m\u001b[0m\n\u001b[0;32m    431\u001b[0m             \u001b[1;32melif\u001b[0m \u001b[0mself\u001b[0m\u001b[1;33m.\u001b[0m\u001b[0m_state\u001b[0m \u001b[1;33m==\u001b[0m \u001b[0mFINISHED\u001b[0m\u001b[1;33m:\u001b[0m\u001b[1;33m\u001b[0m\u001b[1;33m\u001b[0m\u001b[0m\n\u001b[1;32m--> 432\u001b[1;33m                 \u001b[1;32mreturn\u001b[0m \u001b[0mself\u001b[0m\u001b[1;33m.\u001b[0m\u001b[0m__get_result\u001b[0m\u001b[1;33m(\u001b[0m\u001b[1;33m)\u001b[0m\u001b[1;33m\u001b[0m\u001b[1;33m\u001b[0m\u001b[0m\n\u001b[0m\u001b[0;32m    433\u001b[0m             \u001b[1;32melse\u001b[0m\u001b[1;33m:\u001b[0m\u001b[1;33m\u001b[0m\u001b[1;33m\u001b[0m\u001b[0m\n\u001b[0;32m    434\u001b[0m                 \u001b[1;32mraise\u001b[0m \u001b[0mTimeoutError\u001b[0m\u001b[1;33m(\u001b[0m\u001b[1;33m)\u001b[0m\u001b[1;33m\u001b[0m\u001b[1;33m\u001b[0m\u001b[0m\n",
      "\u001b[1;32mC:\\Program Files\\ArcGIS\\Pro\\bin\\Python\\envs\\arcgispro-py3\\lib\\concurrent\\futures\\_base.py\u001b[0m in \u001b[0;36m__get_result\u001b[1;34m(self)\u001b[0m\n\u001b[0;32m    382\u001b[0m     \u001b[1;32mdef\u001b[0m \u001b[0m__get_result\u001b[0m\u001b[1;33m(\u001b[0m\u001b[0mself\u001b[0m\u001b[1;33m)\u001b[0m\u001b[1;33m:\u001b[0m\u001b[1;33m\u001b[0m\u001b[1;33m\u001b[0m\u001b[0m\n\u001b[0;32m    383\u001b[0m         \u001b[1;32mif\u001b[0m \u001b[0mself\u001b[0m\u001b[1;33m.\u001b[0m\u001b[0m_exception\u001b[0m\u001b[1;33m:\u001b[0m\u001b[1;33m\u001b[0m\u001b[1;33m\u001b[0m\u001b[0m\n\u001b[1;32m--> 384\u001b[1;33m             \u001b[1;32mraise\u001b[0m \u001b[0mself\u001b[0m\u001b[1;33m.\u001b[0m\u001b[0m_exception\u001b[0m\u001b[1;33m\u001b[0m\u001b[1;33m\u001b[0m\u001b[0m\n\u001b[0m\u001b[0;32m    385\u001b[0m         \u001b[1;32melse\u001b[0m\u001b[1;33m:\u001b[0m\u001b[1;33m\u001b[0m\u001b[1;33m\u001b[0m\u001b[0m\n\u001b[0;32m    386\u001b[0m             \u001b[1;32mreturn\u001b[0m \u001b[0mself\u001b[0m\u001b[1;33m.\u001b[0m\u001b[0m_result\u001b[0m\u001b[1;33m\u001b[0m\u001b[1;33m\u001b[0m\u001b[0m\n",
      "\u001b[1;32mC:\\Program Files\\ArcGIS\\Pro\\bin\\Python\\envs\\arcgispro-py3\\lib\\concurrent\\futures\\thread.py\u001b[0m in \u001b[0;36mrun\u001b[1;34m(self)\u001b[0m\n\u001b[0;32m     54\u001b[0m \u001b[1;33m\u001b[0m\u001b[0m\n\u001b[0;32m     55\u001b[0m         \u001b[1;32mtry\u001b[0m\u001b[1;33m:\u001b[0m\u001b[1;33m\u001b[0m\u001b[1;33m\u001b[0m\u001b[0m\n\u001b[1;32m---> 56\u001b[1;33m             \u001b[0mresult\u001b[0m \u001b[1;33m=\u001b[0m \u001b[0mself\u001b[0m\u001b[1;33m.\u001b[0m\u001b[0mfn\u001b[0m\u001b[1;33m(\u001b[0m\u001b[1;33m*\u001b[0m\u001b[0mself\u001b[0m\u001b[1;33m.\u001b[0m\u001b[0margs\u001b[0m\u001b[1;33m,\u001b[0m \u001b[1;33m**\u001b[0m\u001b[0mself\u001b[0m\u001b[1;33m.\u001b[0m\u001b[0mkwargs\u001b[0m\u001b[1;33m)\u001b[0m\u001b[1;33m\u001b[0m\u001b[1;33m\u001b[0m\u001b[0m\n\u001b[0m\u001b[0;32m     57\u001b[0m         \u001b[1;32mexcept\u001b[0m \u001b[0mBaseException\u001b[0m \u001b[1;32mas\u001b[0m \u001b[0mexc\u001b[0m\u001b[1;33m:\u001b[0m\u001b[1;33m\u001b[0m\u001b[1;33m\u001b[0m\u001b[0m\n\u001b[0;32m     58\u001b[0m             \u001b[0mself\u001b[0m\u001b[1;33m.\u001b[0m\u001b[0mfuture\u001b[0m\u001b[1;33m.\u001b[0m\u001b[0mset_exception\u001b[0m\u001b[1;33m(\u001b[0m\u001b[0mexc\u001b[0m\u001b[1;33m)\u001b[0m\u001b[1;33m\u001b[0m\u001b[1;33m\u001b[0m\u001b[0m\n",
      "\u001b[1;32mC:\\Program Files\\ArcGIS\\Pro\\bin\\Python\\envs\\arcgispro-py3\\lib\\site-packages\\arcgis\\geoprocessing\\_support.py\u001b[0m in \u001b[0;36m_future_op\u001b[1;34m(gptool, task_url, job_info, job_id, param_db, return_values, return_messages)\u001b[0m\n\u001b[0;32m    283\u001b[0m \u001b[1;32mdef\u001b[0m \u001b[0m_future_op\u001b[0m\u001b[1;33m(\u001b[0m\u001b[0mgptool\u001b[0m\u001b[1;33m,\u001b[0m \u001b[0mtask_url\u001b[0m\u001b[1;33m,\u001b[0m \u001b[0mjob_info\u001b[0m\u001b[1;33m,\u001b[0m \u001b[0mjob_id\u001b[0m\u001b[1;33m,\u001b[0m \u001b[0mparam_db\u001b[0m\u001b[1;33m,\u001b[0m \u001b[0mreturn_values\u001b[0m\u001b[1;33m,\u001b[0m \u001b[0mreturn_messages\u001b[0m\u001b[1;33m)\u001b[0m\u001b[1;33m:\u001b[0m\u001b[1;33m\u001b[0m\u001b[1;33m\u001b[0m\u001b[0m\n\u001b[0;32m    284\u001b[0m \u001b[1;33m\u001b[0m\u001b[0m\n\u001b[1;32m--> 285\u001b[1;33m     \u001b[0mjob_info\u001b[0m \u001b[1;33m=\u001b[0m \u001b[0m_analysis_job_status\u001b[0m\u001b[1;33m(\u001b[0m\u001b[0mgptool\u001b[0m\u001b[1;33m,\u001b[0m \u001b[0mtask_url\u001b[0m\u001b[1;33m,\u001b[0m \u001b[0mjob_info\u001b[0m\u001b[1;33m)\u001b[0m\u001b[1;33m\u001b[0m\u001b[1;33m\u001b[0m\u001b[0m\n\u001b[0m\u001b[0;32m    286\u001b[0m     \u001b[0mresp\u001b[0m \u001b[1;33m=\u001b[0m \u001b[0m_analysis_job_results\u001b[0m\u001b[1;33m(\u001b[0m\u001b[0mgptool\u001b[0m\u001b[1;33m,\u001b[0m \u001b[0mtask_url\u001b[0m\u001b[1;33m,\u001b[0m \u001b[0mjob_info\u001b[0m\u001b[1;33m,\u001b[0m \u001b[0mjob_id\u001b[0m\u001b[1;33m)\u001b[0m\u001b[1;33m\u001b[0m\u001b[1;33m\u001b[0m\u001b[0m\n\u001b[0;32m    287\u001b[0m \u001b[1;33m\u001b[0m\u001b[0m\n",
      "\u001b[1;32mC:\\Program Files\\ArcGIS\\Pro\\bin\\Python\\envs\\arcgispro-py3\\lib\\site-packages\\arcgis\\geoprocessing\\_support.py\u001b[0m in \u001b[0;36m_analysis_job_status\u001b[1;34m(gptool, task_url, job_info)\u001b[0m\n\u001b[0;32m    229\u001b[0m \u001b[1;33m\u001b[0m\u001b[0m\n\u001b[0;32m    230\u001b[0m                     \u001b[1;32mif\u001b[0m \u001b[0mjob_response\u001b[0m\u001b[1;33m.\u001b[0m\u001b[0mget\u001b[0m\u001b[1;33m(\u001b[0m\u001b[1;34m\"jobStatus\"\u001b[0m\u001b[1;33m)\u001b[0m \u001b[1;33m==\u001b[0m \u001b[1;34m\"esriJobFailed\"\u001b[0m\u001b[1;33m:\u001b[0m\u001b[1;33m\u001b[0m\u001b[1;33m\u001b[0m\u001b[0m\n\u001b[1;32m--> 231\u001b[1;33m                         \u001b[1;32mraise\u001b[0m \u001b[0mException\u001b[0m\u001b[1;33m(\u001b[0m\u001b[1;34m\"Job failed.\"\u001b[0m\u001b[1;33m)\u001b[0m\u001b[1;33m\u001b[0m\u001b[1;33m\u001b[0m\u001b[0m\n\u001b[0m\u001b[0;32m    232\u001b[0m                     \u001b[1;32melif\u001b[0m \u001b[0mjob_response\u001b[0m\u001b[1;33m.\u001b[0m\u001b[0mget\u001b[0m\u001b[1;33m(\u001b[0m\u001b[1;34m\"jobStatus\"\u001b[0m\u001b[1;33m)\u001b[0m \u001b[1;33m==\u001b[0m \u001b[1;34m\"esriJobCancelled\"\u001b[0m\u001b[1;33m:\u001b[0m\u001b[1;33m\u001b[0m\u001b[1;33m\u001b[0m\u001b[0m\n\u001b[0;32m    233\u001b[0m                         \u001b[1;32mraise\u001b[0m \u001b[0mException\u001b[0m\u001b[1;33m(\u001b[0m\u001b[1;34m\"Job cancelled.\"\u001b[0m\u001b[1;33m)\u001b[0m\u001b[1;33m\u001b[0m\u001b[1;33m\u001b[0m\u001b[0m\n",
      "\u001b[1;31mException\u001b[0m: Job failed."
     ]
    }
   ],
   "source": [
    "crime_density = calculate_density(input_layer = fl, output_name = 'STL Crime Density Map 03312020', gis=gis)"
   ]
  },
  {
   "cell_type": "code",
   "execution_count": 25,
   "metadata": {},
   "outputs": [
    {
     "ename": "NameError",
     "evalue": "name 'crime_density' is not defined",
     "output_type": "error",
     "traceback": [
      "\u001b[1;31m---------------------------------------------------------------------------\u001b[0m",
      "\u001b[1;31mNameError\u001b[0m                                 Traceback (most recent call last)",
      "\u001b[1;32m<ipython-input-25-4a6537612d0b>\u001b[0m in \u001b[0;36m<module>\u001b[1;34m\u001b[0m\n\u001b[1;32m----> 1\u001b[1;33m \u001b[0mcrime_density\u001b[0m\u001b[1;33m\u001b[0m\u001b[1;33m\u001b[0m\u001b[0m\n\u001b[0m",
      "\u001b[1;31mNameError\u001b[0m: name 'crime_density' is not defined"
     ]
    }
   ],
   "source": [
    "crime_density"
   ]
  },
  {
   "cell_type": "code",
   "execution_count": 25,
   "metadata": {},
   "outputs": [
    {
     "data": {
      "application/vnd.jupyter.widget-view+json": {
       "model_id": "c56dfc64a87046578a958cb2ca51577a",
       "version_major": 2,
       "version_minor": 0
      },
      "text/plain": [
       "MapView(basemaps=['dark-gray', 'dark-gray-vector', 'gray', 'gray-vector', 'hybrid', 'national-geographic', 'oc…"
      ]
     },
     "metadata": {},
     "output_type": "display_data"
    }
   ],
   "source": [
    "dens_map = gis.map('St. Louis, MO')\n",
    "dens_map"
   ]
  },
  {
   "cell_type": "code",
   "execution_count": 26,
   "metadata": {},
   "outputs": [],
   "source": [
    "dens_map.add_layer(crime_density)"
   ]
  },
  {
   "cell_type": "code",
   "execution_count": 27,
   "metadata": {},
   "outputs": [
    {
     "data": {
      "text/html": [
       "<div class=\"item_container\" style=\"height: auto; overflow: hidden; border: 1px solid #cfcfcf; border-radius: 2px; background: #f6fafa; line-height: 1.21429em; padding: 10px;\">\n",
       "                    <div class=\"item_left\" style=\"width: 210px; float: left;\">\n",
       "                       <a href='http://SLUSTL.maps.arcgis.com/home/item.html?id=2ab69271cce147c6974483007376f79f' target='_blank'>\n",
       "                        <img src='http://static.arcgis.com/images/desktopapp.png' class=\"itemThumbnail\">\n",
       "                       </a>\n",
       "                    </div>\n",
       "\n",
       "                    <div class=\"item_right\"     style=\"float: none; width: auto; overflow: hidden;\">\n",
       "                        <a href='http://SLUSTL.maps.arcgis.com/home/item.html?id=2ab69271cce147c6974483007376f79f' target='_blank'><b>STL Crime Density GJB</b>\n",
       "                        </a>\n",
       "                        <br/>STL Crime Density<img src='http://SLUSTL.maps.arcgis.com/home/js/jsapi/esri/css/images/item_type_icons/maps16.png' style=\"vertical-align:middle;\">Web Map by gregbrunner_slugis\n",
       "                        <br/>Last Modified: October 29, 2018\n",
       "                        <br/>0 comments, 0 views\n",
       "                    </div>\n",
       "                </div>\n",
       "                "
      ],
      "text/plain": [
       "<Item title:\"STL Crime Density GJB\" type:Web Map owner:gregbrunner_slugis>"
      ]
     },
     "execution_count": 27,
     "metadata": {},
     "output_type": "execute_result"
    }
   ],
   "source": [
    "webmap_item_properties = {'title':'STL Crime Density 03312020',\n",
    "                         'snippet':'STL Crime Density',\n",
    "                         'tags':['Crime', \"St. Louis\"]}\n",
    "\n",
    "dens_map.save(webmap_item_properties)#, thumbnail='./webmap_thumbnail.png')"
   ]
  }
 ],
 "metadata": {
  "kernelspec": {
   "display_name": "Python 3",
   "language": "python",
   "name": "python3"
  },
  "language_info": {
   "codemirror_mode": {
    "name": "ipython",
    "version": 3
   },
   "file_extension": ".py",
   "mimetype": "text/x-python",
   "name": "python",
   "nbconvert_exporter": "python",
   "pygments_lexer": "ipython3",
   "version": "3.7.6"
  }
 },
 "nbformat": 4,
 "nbformat_minor": 2
}
