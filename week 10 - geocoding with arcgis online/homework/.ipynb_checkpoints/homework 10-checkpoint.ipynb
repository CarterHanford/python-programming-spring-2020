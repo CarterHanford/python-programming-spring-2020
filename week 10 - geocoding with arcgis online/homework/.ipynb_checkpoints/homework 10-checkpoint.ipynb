{
 "cells": [
  {
   "cell_type": "markdown",
   "metadata": {},
   "source": [
    "## Homework 10 \n",
    "### GIS5090 - Intro to Python Programming for GIS and Remote Sensing\n",
    "Carter Hanford"
   ]
  },
  {
   "cell_type": "markdown",
   "metadata": {},
   "source": [
    "### Problem 1 - Thunder Acquisions/Departures"
   ]
  },
  {
   "cell_type": "code",
   "execution_count": 1,
   "metadata": {},
   "outputs": [
    {
     "name": "stdout",
     "output_type": "stream",
     "text": [
      "Enter password: ········\n"
     ]
    }
   ],
   "source": [
    "# import modules\n",
    "import arcpy\n",
    "import arcgis \n",
    "from arcpy import env\n",
    "from arcgis.gis import GIS\n",
    "\n",
    "# connect to arcgis online\n",
    "gis = GIS(\"http://slustl.maps.arcgis.com/home\", \"carter.hanford_SLUSTL\")"
   ]
  },
  {
   "cell_type": "code",
   "execution_count": 19,
   "metadata": {},
   "outputs": [
    {
     "data": {
      "application/vnd.jupyter.widget-view+json": {
       "model_id": "b58e13bbafcf4611a7e7f52de02cf4a1",
       "version_major": 2,
       "version_minor": 0
      },
      "text/plain": [
       "MapView(layout=Layout(height='400px', width='100%'), zoom=2.0)"
      ]
     },
     "metadata": {},
     "output_type": "display_data"
    },
    {
     "data": {
      "text/html": [
       "<div class=\"map-static-img-preview-5947993e-aa5b-40fb-bf65-8a7a2d941a9e\"><img src=\"\"></img></div>"
      ],
      "text/plain": [
       "<IPython.core.display.HTML object>"
      ]
     },
     "metadata": {},
     "output_type": "display_data"
    }
   ],
   "source": [
    "# build map\n",
    "map1 = gis.map(\"Oklahoma City, OK\",zoomlevel=2)\n",
    "map1"
   ]
  },
  {
   "cell_type": "markdown",
   "metadata": {},
   "source": [
    "## From Location"
   ]
  },
  {
   "cell_type": "code",
   "execution_count": 20,
   "metadata": {
    "scrolled": true
   },
   "outputs": [
    {
     "data": {
      "text/html": [
       "<div class=\"item_container\" style=\"height: auto; overflow: hidden; border: 1px solid #cfcfcf; border-radius: 2px; background: #f6fafa; line-height: 1.21429em; padding: 10px;\">\n",
       "                    <div class=\"item_left\" style=\"width: 210px; float: left;\">\n",
       "                       <a href='http://SLUSTL.maps.arcgis.com/home/item.html?id=010c2aec288545d388c1245e1cbf4f51' target='_blank'>\n",
       "                        <img src='http://static.arcgis.com/images/desktopapp.png' class=\"itemThumbnail\">\n",
       "                       </a>\n",
       "                    </div>\n",
       "\n",
       "                    <div class=\"item_right\"     style=\"float: none; width: auto; overflow: hidden;\">\n",
       "                        <a href='http://SLUSTL.maps.arcgis.com/home/item.html?id=010c2aec288545d388c1245e1cbf4f51' target='_blank'><b>Thunder_Acquisitions_CH</b>\n",
       "                        </a>\n",
       "                        <br/><img src='http://SLUSTL.maps.arcgis.com/home/js/jsapi/esri/css/images/item_type_icons/layers16.png' style=\"vertical-align:middle;\">CSV by carter.hanford_SLUSTL\n",
       "                        <br/>Last Modified: April 13, 2020\n",
       "                        <br/>0 comments, 0 views\n",
       "                    </div>\n",
       "                </div>\n",
       "                "
      ],
      "text/plain": [
       "<Item title:\"Thunder_Acquisitions_CH\" type:CSV owner:carter.hanford_SLUSTL>"
      ]
     },
     "execution_count": 20,
     "metadata": {},
     "output_type": "execute_result"
    }
   ],
   "source": [
    "csv_file = r'C:\\Users\\Cahan\\Documents\\GitHub\\python-programming-spring-2020\\week 10 - geocoding with arcgis online\\data\\Thunder_Acquisitions_CH.csv'\n",
    "csv_item = gis.content.add({}, csv_file)\n",
    "csv_item"
   ]
  },
  {
   "cell_type": "code",
   "execution_count": 21,
   "metadata": {},
   "outputs": [
    {
     "data": {
      "text/html": [
       "<div class=\"item_container\" style=\"height: auto; overflow: hidden; border: 1px solid #cfcfcf; border-radius: 2px; background: #f6fafa; line-height: 1.21429em; padding: 10px;\">\n",
       "                    <div class=\"item_left\" style=\"width: 210px; float: left;\">\n",
       "                       <a href='http://SLUSTL.maps.arcgis.com/home/item.html?id=13007449f2a44582909b416e968a6dee' target='_blank'>\n",
       "                        <img src='http://static.arcgis.com/images/desktopapp.png' class=\"itemThumbnail\">\n",
       "                       </a>\n",
       "                    </div>\n",
       "\n",
       "                    <div class=\"item_right\"     style=\"float: none; width: auto; overflow: hidden;\">\n",
       "                        <a href='http://SLUSTL.maps.arcgis.com/home/item.html?id=13007449f2a44582909b416e968a6dee' target='_blank'><b>Thunder_Acquisitions_CH</b>\n",
       "                        </a>\n",
       "                        <br/><img src='http://SLUSTL.maps.arcgis.com/home/js/jsapi/esri/css/images/item_type_icons/featureshosted16.png' style=\"vertical-align:middle;\">Feature Layer Collection by carter.hanford_SLUSTL\n",
       "                        <br/>Last Modified: April 13, 2020\n",
       "                        <br/>0 comments, 0 views\n",
       "                    </div>\n",
       "                </div>\n",
       "                "
      ],
      "text/plain": [
       "<Item title:\"Thunder_Acquisitions_CH\" type:Feature Layer Collection owner:carter.hanford_SLUSTL>"
      ]
     },
     "metadata": {},
     "output_type": "display_data"
    }
   ],
   "source": [
    "csv_lyr = csv_item.publish(None, {\"Address\":\"FromLocation\"})\n",
    "display(csv_lyr)"
   ]
  },
  {
   "cell_type": "code",
   "execution_count": 22,
   "metadata": {},
   "outputs": [],
   "source": [
    "map1.add_layer(csv_lyr)"
   ]
  },
  {
   "cell_type": "markdown",
   "metadata": {},
   "source": [
    "## To location"
   ]
  },
  {
   "cell_type": "code",
   "execution_count": 29,
   "metadata": {},
   "outputs": [],
   "source": [
    "csv_file = r'C:\\Users\\Cahan\\Documents\\GitHub\\python-programming-spring-2020\\week 10 - geocoding with arcgis online\\data\\Thunder_Departures_CH.csv'\n",
    "csv_item = gis.content.add({}, csv_file)"
   ]
  },
  {
   "cell_type": "code",
   "execution_count": 30,
   "metadata": {},
   "outputs": [
    {
     "data": {
      "text/html": [
       "<div class=\"item_container\" style=\"height: auto; overflow: hidden; border: 1px solid #cfcfcf; border-radius: 2px; background: #f6fafa; line-height: 1.21429em; padding: 10px;\">\n",
       "                    <div class=\"item_left\" style=\"width: 210px; float: left;\">\n",
       "                       <a href='http://SLUSTL.maps.arcgis.com/home/item.html?id=d98c03b5659b4919ace1809c8c83daf2' target='_blank'>\n",
       "                        <img src='http://static.arcgis.com/images/desktopapp.png' class=\"itemThumbnail\">\n",
       "                       </a>\n",
       "                    </div>\n",
       "\n",
       "                    <div class=\"item_right\"     style=\"float: none; width: auto; overflow: hidden;\">\n",
       "                        <a href='http://SLUSTL.maps.arcgis.com/home/item.html?id=d98c03b5659b4919ace1809c8c83daf2' target='_blank'><b>Thunder_Departures_CH</b>\n",
       "                        </a>\n",
       "                        <br/><img src='http://SLUSTL.maps.arcgis.com/home/js/jsapi/esri/css/images/item_type_icons/featureshosted16.png' style=\"vertical-align:middle;\">Feature Layer Collection by carter.hanford_SLUSTL\n",
       "                        <br/>Last Modified: April 13, 2020\n",
       "                        <br/>0 comments, 0 views\n",
       "                    </div>\n",
       "                </div>\n",
       "                "
      ],
      "text/plain": [
       "<Item title:\"Thunder_Departures_CH\" type:Feature Layer Collection owner:carter.hanford_SLUSTL>"
      ]
     },
     "metadata": {},
     "output_type": "display_data"
    }
   ],
   "source": [
    "to_lyr = csv_item.publish(None, {\"Address\":\"ToLocation\"})\n",
    "display(to_lyr)"
   ]
  },
  {
   "cell_type": "code",
   "execution_count": 31,
   "metadata": {},
   "outputs": [],
   "source": [
    "map1.add_layer(to_lyr)"
   ]
  },
  {
   "cell_type": "markdown",
   "metadata": {},
   "source": [
    "### Problem 2 - STL Crime"
   ]
  },
  {
   "cell_type": "code",
   "execution_count": null,
   "metadata": {},
   "outputs": [],
   "source": [
    "# import modules\n",
    "from arcgis.features import FeatureLayer\n",
    "from arcgis.features import summarize_data\n",
    "\n",
    "# set layers\n",
    "fl = FeatureLayer(url = 'https://services2.arcgis.com/bB9Y1bGKerz1PTl5/arcgis/rest/services/STL_Crime/FeatureServer/0', \n",
    "                  gis=gis)\n",
    "wards = FeatureLayer(url = 'https://services2.arcgis.com/bB9Y1bGKerz1PTl5/ArcGIS/rest/services/nbrhds_wards/FeatureServer/0', \n",
    "                  gis=gis)"
   ]
  },
  {
   "cell_type": "code",
   "execution_count": null,
   "metadata": {},
   "outputs": [],
   "source": [
    "# summarize stl crime by ward\n",
    "crime_summary = summarize_data.aggregate_points(point_layer = fl, \n",
    "                                                output_name=\"stl_crime_by_ward_hexbins_2\",\n",
    "                                                polygon_layer = wards,\n",
    "                                                keep_boundaries_with_no_points=False)"
   ]
  },
  {
   "cell_type": "code",
   "execution_count": null,
   "metadata": {},
   "outputs": [],
   "source": [
    "# generate stl ward map\n",
    "stl = gis.map('St. Louis, MO')\n",
    "stl.add_layer(crime_summary)\n",
    "stl"
   ]
  }
 ],
 "metadata": {
  "kernelspec": {
   "display_name": "Python 3",
   "language": "python",
   "name": "python3"
  },
  "language_info": {
   "codemirror_mode": {
    "name": "ipython",
    "version": 3
   },
   "file_extension": ".py",
   "mimetype": "text/x-python",
   "name": "python",
   "nbconvert_exporter": "python",
   "pygments_lexer": "ipython3",
   "version": "3.6.9"
  }
 },
 "nbformat": 4,
 "nbformat_minor": 2
}
